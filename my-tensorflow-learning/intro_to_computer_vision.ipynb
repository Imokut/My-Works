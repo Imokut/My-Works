{
  "nbformat": 4,
  "nbformat_minor": 0,
  "metadata": {
    "colab": {
      "provenance": [],
      "authorship_tag": "ABX9TyNDKPB9a4xu7RACmx+ULjXl",
      "include_colab_link": true
    },
    "kernelspec": {
      "name": "python3",
      "display_name": "Python 3"
    },
    "language_info": {
      "name": "python"
    }
  },
  "cells": [
    {
      "cell_type": "markdown",
      "metadata": {
        "id": "view-in-github",
        "colab_type": "text"
      },
      "source": [
        "<a href=\"https://colab.research.google.com/github/Imokut/my-tensorflow-learning/blob/main/intro_to_computer_vision.ipynb\" target=\"_parent\"><img src=\"https://colab.research.google.com/assets/colab-badge.svg\" alt=\"Open In Colab\"/></a>"
      ]
    },
    {
      "cell_type": "markdown",
      "source": [
        "**Callback class**"
      ],
      "metadata": {
        "id": "oClftAajQnfJ"
      }
    },
    {
      "cell_type": "code",
      "source": [
        "import tensorflow as tf\n",
        "\n",
        "# callback on traing limit\n",
        "class myCallback(tf.keras.callbacks.Callback):\n",
        "  def on_epoch_end(self, epoch, logs={}):\n",
        "    if (logs.get('accuracy')>= 0.7):\n",
        "      print('\\nReachedd 70% accuracy so stop training')\n",
        "      self.model.stop_training = True\n",
        "\n",
        "callbacks_limit = myCallback()\n",
        "\n",
        "# display training progress with dot\n",
        "class progressDot(tf.keras.callbacks.Callback):\n",
        "  def on_epoch_end(self, epoch, logs):\n",
        "    if epoch % 100 == 0 : print(\"\")\n",
        "    print('-', end='')\n",
        "\n",
        "# callback after no loss improvement\n",
        "stopLoss = tf.keras.callbacks.EarlyStopping(monitor='loss', patience=3)\n"
      ],
      "metadata": {
        "id": "k1j8Wd-xQlBv"
      },
      "execution_count": 37,
      "outputs": []
    },
    {
      "cell_type": "markdown",
      "source": [
        "load the data"
      ],
      "metadata": {
        "id": "BtGau4MV58aq"
      }
    },
    {
      "cell_type": "code",
      "execution_count": 1,
      "metadata": {
        "colab": {
          "base_uri": "https://localhost:8080/"
        },
        "id": "EFYgDGA0231H",
        "outputId": "742be6c3-9ac2-411f-e7c3-7a3410e58b2b"
      },
      "outputs": [
        {
          "output_type": "stream",
          "name": "stdout",
          "text": [
            "Downloading data from https://storage.googleapis.com/tensorflow/tf-keras-datasets/train-labels-idx1-ubyte.gz\n",
            "29515/29515 [==============================] - 0s 0us/step\n",
            "Downloading data from https://storage.googleapis.com/tensorflow/tf-keras-datasets/train-images-idx3-ubyte.gz\n",
            "26421880/26421880 [==============================] - 0s 0us/step\n",
            "Downloading data from https://storage.googleapis.com/tensorflow/tf-keras-datasets/t10k-labels-idx1-ubyte.gz\n",
            "5148/5148 [==============================] - 0s 0us/step\n",
            "Downloading data from https://storage.googleapis.com/tensorflow/tf-keras-datasets/t10k-images-idx3-ubyte.gz\n",
            "4422102/4422102 [==============================] - 0s 0us/step\n"
          ]
        }
      ],
      "source": [
        "# fist code from coursera\n",
        "\n",
        "import tensorflow as tf\n",
        "fmnist = tf.keras.datasets.fashion_mnist\n",
        "(training_images, training_labels), (test_images, test_labels) = fmnist.load_data()"
      ]
    },
    {
      "cell_type": "markdown",
      "source": [
        "checkout the data"
      ],
      "metadata": {
        "id": "RF1j0iQX6Bai"
      }
    },
    {
      "cell_type": "code",
      "source": [
        "import numpy as np\n",
        "import matplotlib.pyplot as plt\n",
        "index = 0\n",
        "np.set_printoptions(linewidth=320)\n",
        "print(f'LABEL: {training_labels[index]}')\n",
        "print(f'\\nIMAGE PIXEL ARRAY:\\n {training_images[index]}')\n",
        "plt.imshow(training_images[index])"
      ],
      "metadata": {
        "colab": {
          "base_uri": "https://localhost:8080/",
          "height": 821
        },
        "id": "JtMOI5Z-505f",
        "outputId": "b8bb76ef-b4df-49af-afeb-2f55cfa2831e"
      },
      "execution_count": 3,
      "outputs": [
        {
          "output_type": "stream",
          "name": "stdout",
          "text": [
            "LABEL: 9\n",
            "\n",
            "IMAGE PIXEL ARRAY:\n",
            " [[  0   0   0   0   0   0   0   0   0   0   0   0   0   0   0   0   0   0   0   0   0   0   0   0   0   0   0   0]\n",
            " [  0   0   0   0   0   0   0   0   0   0   0   0   0   0   0   0   0   0   0   0   0   0   0   0   0   0   0   0]\n",
            " [  0   0   0   0   0   0   0   0   0   0   0   0   0   0   0   0   0   0   0   0   0   0   0   0   0   0   0   0]\n",
            " [  0   0   0   0   0   0   0   0   0   0   0   0   1   0   0  13  73   0   0   1   4   0   0   0   0   1   1   0]\n",
            " [  0   0   0   0   0   0   0   0   0   0   0   0   3   0  36 136 127  62  54   0   0   0   1   3   4   0   0   3]\n",
            " [  0   0   0   0   0   0   0   0   0   0   0   0   6   0 102 204 176 134 144 123  23   0   0   0   0  12  10   0]\n",
            " [  0   0   0   0   0   0   0   0   0   0   0   0   0   0 155 236 207 178 107 156 161 109  64  23  77 130  72  15]\n",
            " [  0   0   0   0   0   0   0   0   0   0   0   1   0  69 207 223 218 216 216 163 127 121 122 146 141  88 172  66]\n",
            " [  0   0   0   0   0   0   0   0   0   1   1   1   0 200 232 232 233 229 223 223 215 213 164 127 123 196 229   0]\n",
            " [  0   0   0   0   0   0   0   0   0   0   0   0   0 183 225 216 223 228 235 227 224 222 224 221 223 245 173   0]\n",
            " [  0   0   0   0   0   0   0   0   0   0   0   0   0 193 228 218 213 198 180 212 210 211 213 223 220 243 202   0]\n",
            " [  0   0   0   0   0   0   0   0   0   1   3   0  12 219 220 212 218 192 169 227 208 218 224 212 226 197 209  52]\n",
            " [  0   0   0   0   0   0   0   0   0   0   6   0  99 244 222 220 218 203 198 221 215 213 222 220 245 119 167  56]\n",
            " [  0   0   0   0   0   0   0   0   0   4   0   0  55 236 228 230 228 240 232 213 218 223 234 217 217 209  92   0]\n",
            " [  0   0   1   4   6   7   2   0   0   0   0   0 237 226 217 223 222 219 222 221 216 223 229 215 218 255  77   0]\n",
            " [  0   3   0   0   0   0   0   0   0  62 145 204 228 207 213 221 218 208 211 218 224 223 219 215 224 244 159   0]\n",
            " [  0   0   0   0  18  44  82 107 189 228 220 222 217 226 200 205 211 230 224 234 176 188 250 248 233 238 215   0]\n",
            " [  0  57 187 208 224 221 224 208 204 214 208 209 200 159 245 193 206 223 255 255 221 234 221 211 220 232 246   0]\n",
            " [  3 202 228 224 221 211 211 214 205 205 205 220 240  80 150 255 229 221 188 154 191 210 204 209 222 228 225   0]\n",
            " [ 98 233 198 210 222 229 229 234 249 220 194 215 217 241  65  73 106 117 168 219 221 215 217 223 223 224 229  29]\n",
            " [ 75 204 212 204 193 205 211 225 216 185 197 206 198 213 240 195 227 245 239 223 218 212 209 222 220 221 230  67]\n",
            " [ 48 203 183 194 213 197 185 190 194 192 202 214 219 221 220 236 225 216 199 206 186 181 177 172 181 205 206 115]\n",
            " [  0 122 219 193 179 171 183 196 204 210 213 207 211 210 200 196 194 191 195 191 198 192 176 156 167 177 210  92]\n",
            " [  0   0  74 189 212 191 175 172 175 181 185 188 189 188 193 198 204 209 210 210 211 188 188 194 192 216 170   0]\n",
            " [  2   0   0   0  66 200 222 237 239 242 246 243 244 221 220 193 191 179 182 182 181 176 166 168  99  58   0   0]\n",
            " [  0   0   0   0   0   0   0  40  61  44  72  41  35   0   0   0   0   0   0   0   0   0   0   0   0   0   0   0]\n",
            " [  0   0   0   0   0   0   0   0   0   0   0   0   0   0   0   0   0   0   0   0   0   0   0   0   0   0   0   0]\n",
            " [  0   0   0   0   0   0   0   0   0   0   0   0   0   0   0   0   0   0   0   0   0   0   0   0   0   0   0   0]]\n"
          ]
        },
        {
          "output_type": "execute_result",
          "data": {
            "text/plain": [
              "<matplotlib.image.AxesImage at 0x7f42fa240190>"
            ]
          },
          "metadata": {},
          "execution_count": 3
        },
        {
          "output_type": "display_data",
          "data": {
            "text/plain": [
              "<Figure size 432x288 with 1 Axes>"
            ],
            "image/png": "[encoded data removed]"
          },
          "metadata": {
            "needs_background": "light"
          }
        }
      ]
    },
    {
      "cell_type": "markdown",
      "source": [
        "normalize the pixel values"
      ],
      "metadata": {
        "id": "do28MEq_78NZ"
      }
    },
    {
      "cell_type": "code",
      "source": [
        "training_images = training_images/255\n",
        "test_images = test_images/255"
      ],
      "metadata": {
        "id": "zg7SS0kS8BTB"
      },
      "execution_count": 4,
      "outputs": []
    },
    {
      "cell_type": "code",
      "source": [
        "print(len(training_labels))"
      ],
      "metadata": {
        "colab": {
          "base_uri": "https://localhost:8080/"
        },
        "id": "ALPJt9Z0SdKO",
        "outputId": "87e0cad3-40cd-49c6-958c-3c6a29c2f915"
      },
      "execution_count": 33,
      "outputs": [
        {
          "output_type": "stream",
          "name": "stdout",
          "text": [
            "60000\n"
          ]
        }
      ]
    },
    {
      "cell_type": "code",
      "source": [
        "display(test_labels[:10])"
      ],
      "metadata": {
        "colab": {
          "base_uri": "https://localhost:8080/",
          "height": 34
        },
        "id": "5Mw80IhO8TAB",
        "outputId": "40ef51c7-ad46-4f69-f127-fa7549070845"
      },
      "execution_count": 5,
      "outputs": [
        {
          "output_type": "display_data",
          "data": {
            "text/plain": [
              "array([9, 2, 1, 1, 6, 1, 4, 6, 5, 7], dtype=uint8)"
            ]
          },
          "metadata": {}
        }
      ]
    },
    {
      "cell_type": "markdown",
      "source": [
        "Building the model"
      ],
      "metadata": {
        "id": "I2aHCzCB8fF9"
      }
    },
    {
      "cell_type": "code",
      "source": [
        "model = tf.keras.models.Sequential([\n",
        "    tf.keras.layers.Flatten(),\n",
        "    tf.keras.layers.Dense(128, activation = tf.nn.relu),\n",
        "    tf.keras.layers.Dense(10, activation = tf.nn.softmax)\n",
        "])"
      ],
      "metadata": {
        "id": "4jWajwc-8a2G"
      },
      "execution_count": 27,
      "outputs": []
    },
    {
      "cell_type": "code",
      "source": [
        "model.compile(optimizer = tf.optimizers.Adam(),\n",
        "              loss = 'sparse_categorical_crossentropy',\n",
        "              metrics = ['accuracy'])"
      ],
      "metadata": {
        "id": "qw4TX1xAICMg"
      },
      "execution_count": 28,
      "outputs": []
    },
    {
      "cell_type": "code",
      "source": [
        "print(model.summary)"
      ],
      "metadata": {
        "colab": {
          "base_uri": "https://localhost:8080/"
        },
        "id": "J-Y2vjnUJHU6",
        "outputId": "c6c10cb6-e11f-4541-dc7f-5a15f47cb6c9"
      },
      "execution_count": 29,
      "outputs": [
        {
          "output_type": "stream",
          "name": "stdout",
          "text": [
            "<bound method Model.summary of <keras.engine.sequential.Sequential object at 0x7f42f4c0a850>>\n"
          ]
        }
      ]
    },
    {
      "cell_type": "code",
      "source": [
        "model.fit(training_images, training_labels, epochs=500, callbacks=[stopLoss])"
      ],
      "metadata": {
        "colab": {
          "base_uri": "https://localhost:8080/"
        },
        "id": "pnFr8parI5Ra",
        "outputId": "bca70e42-36b3-4bce-a173-69e4f083ee37"
      },
      "execution_count": 40,
      "outputs": [
        {
          "output_type": "stream",
          "name": "stdout",
          "text": [
            "Epoch 1/500\n",
            "1875/1875 [==============================] - 10s 6ms/step - loss: 0.2032 - accuracy: 0.9232\n",
            "Epoch 2/500\n",
            "1875/1875 [==============================] - 10s 5ms/step - loss: 0.1977 - accuracy: 0.9253\n",
            "Epoch 3/500\n",
            "1875/1875 [==============================] - 10s 5ms/step - loss: 0.1922 - accuracy: 0.9275\n",
            "Epoch 4/500\n",
            "1875/1875 [==============================] - 10s 6ms/step - loss: 0.1862 - accuracy: 0.9293\n",
            "Epoch 5/500\n",
            "1875/1875 [==============================] - 10s 5ms/step - loss: 0.1763 - accuracy: 0.9342\n",
            "Epoch 6/500\n",
            "1875/1875 [==============================] - 10s 5ms/step - loss: 0.1743 - accuracy: 0.9337\n",
            "Epoch 7/500\n",
            "1875/1875 [==============================] - 11s 6ms/step - loss: 0.1692 - accuracy: 0.9359\n",
            "Epoch 8/500\n",
            "1875/1875 [==============================] - 10s 5ms/step - loss: 0.1619 - accuracy: 0.9387\n",
            "Epoch 9/500\n",
            "1875/1875 [==============================] - 10s 6ms/step - loss: 0.1587 - accuracy: 0.9397\n",
            "Epoch 10/500\n",
            "1875/1875 [==============================] - 11s 6ms/step - loss: 0.1516 - accuracy: 0.9426\n",
            "Epoch 11/500\n",
            "1875/1875 [==============================] - 10s 5ms/step - loss: 0.1519 - accuracy: 0.9429\n",
            "Epoch 12/500\n",
            "1875/1875 [==============================] - 10s 5ms/step - loss: 0.1470 - accuracy: 0.9434\n",
            "Epoch 13/500\n",
            "1875/1875 [==============================] - 12s 7ms/step - loss: 0.1407 - accuracy: 0.9462\n",
            "Epoch 14/500\n",
            "1875/1875 [==============================] - 10s 6ms/step - loss: 0.1379 - accuracy: 0.9467\n",
            "Epoch 15/500\n",
            "1875/1875 [==============================] - 10s 5ms/step - loss: 0.1355 - accuracy: 0.9493\n",
            "Epoch 16/500\n",
            "1875/1875 [==============================] - 11s 6ms/step - loss: 0.1299 - accuracy: 0.9497\n",
            "Epoch 17/500\n",
            "1875/1875 [==============================] - 11s 6ms/step - loss: 0.1290 - accuracy: 0.9517\n",
            "Epoch 18/500\n",
            "1875/1875 [==============================] - 11s 6ms/step - loss: 0.1269 - accuracy: 0.9517\n",
            "Epoch 19/500\n",
            "1875/1875 [==============================] - 10s 6ms/step - loss: 0.1217 - accuracy: 0.9540\n",
            "Epoch 20/500\n",
            "1875/1875 [==============================] - 10s 5ms/step - loss: 0.1196 - accuracy: 0.9546\n",
            "Epoch 21/500\n",
            "1875/1875 [==============================] - 10s 6ms/step - loss: 0.1157 - accuracy: 0.9561\n",
            "Epoch 22/500\n",
            "1875/1875 [==============================] - 10s 6ms/step - loss: 0.1133 - accuracy: 0.9567\n",
            "Epoch 23/500\n",
            "1875/1875 [==============================] - 10s 5ms/step - loss: 0.1108 - accuracy: 0.9571\n",
            "Epoch 24/500\n",
            "1875/1875 [==============================] - 10s 5ms/step - loss: 0.1084 - accuracy: 0.9575\n",
            "Epoch 25/500\n",
            "1875/1875 [==============================] - 10s 6ms/step - loss: 0.1064 - accuracy: 0.9593\n",
            "Epoch 26/500\n",
            "1875/1875 [==============================] - 10s 5ms/step - loss: 0.1051 - accuracy: 0.9605\n",
            "Epoch 27/500\n",
            "1875/1875 [==============================] - 10s 5ms/step - loss: 0.1012 - accuracy: 0.9617\n",
            "Epoch 28/500\n",
            "1875/1875 [==============================] - 10s 5ms/step - loss: 0.1020 - accuracy: 0.9616\n",
            "Epoch 29/500\n",
            "1875/1875 [==============================] - 10s 5ms/step - loss: 0.0970 - accuracy: 0.9633\n",
            "Epoch 30/500\n",
            "1875/1875 [==============================] - 10s 5ms/step - loss: 0.0938 - accuracy: 0.9643\n",
            "Epoch 31/500\n",
            "1875/1875 [==============================] - 10s 5ms/step - loss: 0.0941 - accuracy: 0.9643\n",
            "Epoch 32/500\n",
            "1875/1875 [==============================] - 10s 5ms/step - loss: 0.0921 - accuracy: 0.9648\n",
            "Epoch 33/500\n",
            "1875/1875 [==============================] - 10s 5ms/step - loss: 0.0886 - accuracy: 0.9667\n",
            "Epoch 34/500\n",
            "1875/1875 [==============================] - 10s 6ms/step - loss: 0.0898 - accuracy: 0.9657\n",
            "Epoch 35/500\n",
            "1875/1875 [==============================] - 13s 7ms/step - loss: 0.0878 - accuracy: 0.9667\n",
            "Epoch 36/500\n",
            "1875/1875 [==============================] - 10s 6ms/step - loss: 0.0854 - accuracy: 0.9671\n",
            "Epoch 37/500\n",
            "1875/1875 [==============================] - 11s 6ms/step - loss: 0.0836 - accuracy: 0.9677\n",
            "Epoch 38/500\n",
            "1875/1875 [==============================] - 11s 6ms/step - loss: 0.0825 - accuracy: 0.9682\n",
            "Epoch 39/500\n",
            "1875/1875 [==============================] - 11s 6ms/step - loss: 0.0796 - accuracy: 0.9701\n",
            "Epoch 40/500\n",
            "1875/1875 [==============================] - 11s 6ms/step - loss: 0.0831 - accuracy: 0.9694\n",
            "Epoch 41/500\n",
            "1875/1875 [==============================] - 11s 6ms/step - loss: 0.0773 - accuracy: 0.9711\n",
            "Epoch 42/500\n",
            "1875/1875 [==============================] - 10s 6ms/step - loss: 0.0759 - accuracy: 0.9719\n",
            "Epoch 43/500\n",
            "1875/1875 [==============================] - 10s 6ms/step - loss: 0.0762 - accuracy: 0.9714\n",
            "Epoch 44/500\n",
            "1875/1875 [==============================] - 10s 5ms/step - loss: 0.0728 - accuracy: 0.9728\n",
            "Epoch 45/500\n",
            "1875/1875 [==============================] - 11s 6ms/step - loss: 0.0751 - accuracy: 0.9715\n",
            "Epoch 46/500\n",
            "1875/1875 [==============================] - 11s 6ms/step - loss: 0.0727 - accuracy: 0.9729\n",
            "Epoch 47/500\n",
            "1875/1875 [==============================] - 11s 6ms/step - loss: 0.0693 - accuracy: 0.9744\n",
            "Epoch 48/500\n",
            "1875/1875 [==============================] - 11s 6ms/step - loss: 0.0701 - accuracy: 0.9738\n",
            "Epoch 49/500\n",
            "1875/1875 [==============================] - 11s 6ms/step - loss: 0.0670 - accuracy: 0.9745\n",
            "Epoch 50/500\n",
            "1875/1875 [==============================] - 10s 5ms/step - loss: 0.0680 - accuracy: 0.9743\n",
            "Epoch 51/500\n",
            "1875/1875 [==============================] - 10s 6ms/step - loss: 0.0681 - accuracy: 0.9739\n",
            "Epoch 52/500\n",
            "1875/1875 [==============================] - 10s 5ms/step - loss: 0.0644 - accuracy: 0.9756\n",
            "Epoch 53/500\n",
            "1875/1875 [==============================] - 10s 6ms/step - loss: 0.0655 - accuracy: 0.9757\n",
            "Epoch 54/500\n",
            "1875/1875 [==============================] - 11s 6ms/step - loss: 0.0645 - accuracy: 0.9760\n",
            "Epoch 55/500\n",
            "1875/1875 [==============================] - 10s 6ms/step - loss: 0.0612 - accuracy: 0.9768\n",
            "Epoch 56/500\n",
            "1875/1875 [==============================] - 11s 6ms/step - loss: 0.0634 - accuracy: 0.9765\n",
            "Epoch 57/500\n",
            "1875/1875 [==============================] - 12s 6ms/step - loss: 0.0594 - accuracy: 0.9781\n",
            "Epoch 58/500\n",
            "1875/1875 [==============================] - 11s 6ms/step - loss: 0.0612 - accuracy: 0.9770\n",
            "Epoch 59/500\n",
            "1875/1875 [==============================] - 10s 6ms/step - loss: 0.0617 - accuracy: 0.9767\n",
            "Epoch 60/500\n",
            "1875/1875 [==============================] - 11s 6ms/step - loss: 0.0583 - accuracy: 0.9782\n",
            "Epoch 61/500\n",
            "1875/1875 [==============================] - 10s 6ms/step - loss: 0.0579 - accuracy: 0.9785\n",
            "Epoch 62/500\n",
            "1875/1875 [==============================] - 10s 6ms/step - loss: 0.0566 - accuracy: 0.9789\n",
            "Epoch 63/500\n",
            "1875/1875 [==============================] - 10s 5ms/step - loss: 0.0557 - accuracy: 0.9798\n",
            "Epoch 64/500\n",
            "1875/1875 [==============================] - 10s 6ms/step - loss: 0.0534 - accuracy: 0.9801\n",
            "Epoch 65/500\n",
            "1875/1875 [==============================] - 10s 6ms/step - loss: 0.0550 - accuracy: 0.9794\n",
            "Epoch 66/500\n",
            "1875/1875 [==============================] - 10s 6ms/step - loss: 0.0521 - accuracy: 0.9806\n",
            "Epoch 67/500\n",
            "1875/1875 [==============================] - 10s 5ms/step - loss: 0.0591 - accuracy: 0.9786\n",
            "Epoch 68/500\n",
            "1875/1875 [==============================] - 11s 6ms/step - loss: 0.0510 - accuracy: 0.9806\n",
            "Epoch 69/500\n",
            "1875/1875 [==============================] - 10s 6ms/step - loss: 0.0516 - accuracy: 0.9807\n",
            "Epoch 70/500\n",
            "1875/1875 [==============================] - 11s 6ms/step - loss: 0.0507 - accuracy: 0.9808\n",
            "Epoch 71/500\n",
            "1875/1875 [==============================] - 11s 6ms/step - loss: 0.0513 - accuracy: 0.9815\n",
            "Epoch 72/500\n",
            "1875/1875 [==============================] - 11s 6ms/step - loss: 0.0502 - accuracy: 0.9813\n",
            "Epoch 73/500\n",
            "1875/1875 [==============================] - 11s 6ms/step - loss: 0.0503 - accuracy: 0.9817\n",
            "Epoch 74/500\n",
            "1875/1875 [==============================] - 11s 6ms/step - loss: 0.0484 - accuracy: 0.9826\n",
            "Epoch 75/500\n",
            "1875/1875 [==============================] - 10s 6ms/step - loss: 0.0470 - accuracy: 0.9826\n",
            "Epoch 76/500\n",
            "1875/1875 [==============================] - 10s 6ms/step - loss: 0.0497 - accuracy: 0.9822\n",
            "Epoch 77/500\n",
            "1875/1875 [==============================] - 10s 6ms/step - loss: 0.0479 - accuracy: 0.9826\n",
            "Epoch 78/500\n",
            "1875/1875 [==============================] - 12s 6ms/step - loss: 0.0470 - accuracy: 0.9823\n",
            "Epoch 79/500\n",
            "1875/1875 [==============================] - 11s 6ms/step - loss: 0.0479 - accuracy: 0.9824\n",
            "Epoch 80/500\n",
            "1875/1875 [==============================] - 10s 5ms/step - loss: 0.0467 - accuracy: 0.9833\n",
            "Epoch 81/500\n",
            "1875/1875 [==============================] - 10s 5ms/step - loss: 0.0465 - accuracy: 0.9830\n",
            "Epoch 82/500\n",
            "1875/1875 [==============================] - 10s 5ms/step - loss: 0.0410 - accuracy: 0.9853\n",
            "Epoch 83/500\n",
            "1875/1875 [==============================] - 10s 5ms/step - loss: 0.0481 - accuracy: 0.9829\n",
            "Epoch 84/500\n",
            "1875/1875 [==============================] - 10s 5ms/step - loss: 0.0418 - accuracy: 0.9851\n",
            "Epoch 85/500\n",
            "1875/1875 [==============================] - 10s 5ms/step - loss: 0.0421 - accuracy: 0.9852\n"
          ]
        },
        {
          "output_type": "execute_result",
          "data": {
            "text/plain": [
              "<keras.callbacks.History at 0x7f42f493ac50>"
            ]
          },
          "metadata": {},
          "execution_count": 40
        }
      ]
    },
    {
      "cell_type": "code",
      "source": [
        "model.evaluate(test_images, test_labels)"
      ],
      "metadata": {
        "colab": {
          "base_uri": "https://localhost:8080/"
        },
        "id": "aq9R2j0YJmgw",
        "outputId": "5fe8bd1e-d767-4231-adff-92aae1c25030"
      },
      "execution_count": 41,
      "outputs": [
        {
          "output_type": "stream",
          "name": "stdout",
          "text": [
            "313/313 [==============================] - 1s 3ms/step - loss: 0.8860 - accuracy: 0.8883\n"
          ]
        },
        {
          "output_type": "execute_result",
          "data": {
            "text/plain": [
              "[0.8860352635383606, 0.8883000016212463]"
            ]
          },
          "metadata": {},
          "execution_count": 41
        }
      ]
    },
    {
      "cell_type": "code",
      "source": [
        "classifications = model.predict(test_images)\n",
        "print(np.argmax(classifications[20]))\n",
        "print(test_labels[20])\n"
      ],
      "metadata": {
        "colab": {
          "base_uri": "https://localhost:8080/"
        },
        "id": "eDNYI_ZFLv4o",
        "outputId": "a5975188-18c7-4568-ab7d-27d2530d79e6"
      },
      "execution_count": 32,
      "outputs": [
        {
          "output_type": "stream",
          "name": "stdout",
          "text": [
            "313/313 [==============================] - 1s 3ms/step\n",
            "2\n",
            "2\n"
          ]
        }
      ]
    }
  ]
}