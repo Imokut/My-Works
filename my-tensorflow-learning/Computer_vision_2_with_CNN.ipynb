{
  "nbformat": 4,
  "nbformat_minor": 0,
  "metadata": {
    "colab": {
      "provenance": [],
      "authorship_tag": "ABX9TyMqsN8QY5n4xWQzhrMH8Bez",
      "include_colab_link": true
    },
    "kernelspec": {
      "name": "python3",
      "display_name": "Python 3"
    },
    "language_info": {
      "name": "python"
    }
  },
  "cells": [
    {
      "cell_type": "markdown",
      "metadata": {
        "id": "view-in-github",
        "colab_type": "text"
      },
      "source": [
        "<a href=\"https://colab.research.google.com/github/Imokut/my-tensorflow-learning/blob/main/Computer_vision_2_with_CNN.ipynb\" target=\"_parent\"><img src=\"https://colab.research.google.com/assets/colab-badge.svg\" alt=\"Open In Colab\"/></a>"
      ]
    },
    {
      "cell_type": "markdown",
      "source": [
        "Recap of the last code"
      ],
      "metadata": {
        "id": "NJCXtxR1ttZa"
      }
    },
    {
      "cell_type": "code",
      "execution_count": 5,
      "metadata": {
        "colab": {
          "base_uri": "https://localhost:8080/"
        },
        "id": "hFD966Ectjss",
        "outputId": "c6d6ba17-089e-40ab-bac7-dfe1b193c0ce"
      },
      "outputs": [
        {
          "output_type": "stream",
          "name": "stdout",
          "text": [
            "Epoch 1/5\n",
            "1875/1875 [==============================] - 6s 3ms/step - loss: 0.4978 - accuracy: 0.8243\n",
            "Epoch 2/5\n",
            "1875/1875 [==============================] - 5s 3ms/step - loss: 0.3749 - accuracy: 0.8632\n",
            "Epoch 3/5\n",
            "1875/1875 [==============================] - 5s 3ms/step - loss: 0.3371 - accuracy: 0.8769\n",
            "Epoch 4/5\n",
            "1875/1875 [==============================] - 5s 3ms/step - loss: 0.3141 - accuracy: 0.8845\n",
            "Epoch 5/5\n",
            "1875/1875 [==============================] - 5s 3ms/step - loss: 0.2943 - accuracy: 0.8907\n",
            "313/313 [==============================] - 1s 3ms/step - loss: 0.3452 - accuracy: 0.8774\n"
          ]
        },
        {
          "output_type": "execute_result",
          "data": {
            "text/plain": [
              "[0.345248281955719, 0.8773999810218811]"
            ]
          },
          "metadata": {},
          "execution_count": 5
        }
      ],
      "source": [
        "import tensorflow as tf\n",
        "\n",
        "#Load the fashion mnist dataset\n",
        "fmnist = tf.keras.datasets.fashion_mnist\n",
        "(training_images, training_labels), (test_images, test_labels) = fmnist.load_data()\n",
        "\n",
        "#Normalize the pixel values\n",
        "training_images = training_images / 255\n",
        "test_images = test_images / 255\n",
        "\n",
        "#Build the model\n",
        "model = tf.keras.models.Sequential([\n",
        "    tf.keras.layers.Flatten(),\n",
        "    tf.keras.layers.Dense(128, activation = tf.nn.relu), \n",
        "    tf.keras.layers.Dense(10, activation = tf.nn.softmax)\n",
        "])\n",
        "\n",
        "model.compile(\n",
        "    optimizer='adam',\n",
        "    loss='sparse_categorical_crossentropy',\n",
        "    metrics=['accuracy']\n",
        ")\n",
        "\n",
        "model.fit( training_images, training_labels, epochs = 5)\n",
        "model.evaluate(test_images, test_labels)"
      ]
    },
    {
      "cell_type": "markdown",
      "source": [
        "#Convolution Neural Networks"
      ],
      "metadata": {
        "id": "ArzpcNYNxTue"
      }
    },
    {
      "cell_type": "code",
      "source": [
        "#define model\n",
        "model = tf.keras.models.Sequential([\n",
        "    tf.keras.layers.Conv2D(64, (3,3), activation='relu', input_shape=(28, 28, 1)), \n",
        "    tf.keras.layers.MaxPooling2D(2,2),\n",
        "    tf.keras.layers.Conv2D(128, (3,3), activation='relu'), \n",
        "    tf.keras.layers.MaxPooling2D(2, 2),\n",
        "    tf.keras.layers.Flatten(),\n",
        "    tf.keras.layers.Dense(512, activation='relu'), \n",
        "    tf.keras.layers.Dense(128, activation='relu'), \n",
        "    tf.keras.layers.Dense(10, activation = 'softmax')\n",
        "])\n",
        "display(model.summary())\n",
        "model.compile(optimizer='adam', loss='sparse_categorical_crossentropy', metrics=['accuracy'])\n",
        "\n",
        "print(f'\\nMODEL TRAINING: ')\n",
        "stopLoss = tf.keras.callbacks.EarlyStopping(monitor='loss', patience=3)\n",
        "model.fit(training_images, training_labels, epochs=1000, callbacks=[stopLoss])\n",
        "\n",
        "print(f'\\nModel Evaluatin: ')\n",
        "test_loss = model.evaluate(test_images, test_labels)\n",
        "print(f'{test_loss}')"
      ],
      "metadata": {
        "colab": {
          "base_uri": "https://localhost:8080/",
          "height": 920
        },
        "id": "cY-2tyrkxaSA",
        "outputId": "bff560f0-818c-4062-e6b7-f1123e21c682"
      },
      "execution_count": null,
      "outputs": [
        {
          "output_type": "stream",
          "name": "stdout",
          "text": [
            "Model: \"sequential_5\"\n",
            "_________________________________________________________________\n",
            " Layer (type)                Output Shape              Param #   \n",
            "=================================================================\n",
            " conv2d_6 (Conv2D)           (None, 26, 26, 64)        640       \n",
            "                                                                 \n",
            " max_pooling2d_5 (MaxPooling  (None, 13, 13, 64)       0         \n",
            " 2D)                                                             \n",
            "                                                                 \n",
            " conv2d_7 (Conv2D)           (None, 11, 11, 128)       73856     \n",
            "                                                                 \n",
            " max_pooling2d_6 (MaxPooling  (None, 5, 5, 128)        0         \n",
            " 2D)                                                             \n",
            "                                                                 \n",
            " flatten_5 (Flatten)         (None, 3200)              0         \n",
            "                                                                 \n",
            " dense_10 (Dense)            (None, 512)               1638912   \n",
            "                                                                 \n",
            " dense_11 (Dense)            (None, 128)               65664     \n",
            "                                                                 \n",
            " dense_12 (Dense)            (None, 10)                1290      \n",
            "                                                                 \n",
            "=================================================================\n",
            "Total params: 1,780,362\n",
            "Trainable params: 1,780,362\n",
            "Non-trainable params: 0\n",
            "_________________________________________________________________\n"
          ]
        },
        {
          "output_type": "display_data",
          "data": {
            "text/plain": [
              "None"
            ]
          },
          "metadata": {}
        },
        {
          "output_type": "stream",
          "name": "stdout",
          "text": [
            "\n",
            "MODEL TRAINING: \n",
            "Epoch 1/1000\n",
            "1875/1875 [==============================] - 171s 91ms/step - loss: 0.4123 - accuracy: 0.8479\n",
            "Epoch 2/1000\n",
            "1875/1875 [==============================] - 165s 88ms/step - loss: 0.2716 - accuracy: 0.8987\n",
            "Epoch 3/1000\n",
            "1875/1875 [==============================] - 168s 89ms/step - loss: 0.2220 - accuracy: 0.9165\n",
            "Epoch 4/1000\n",
            "1875/1875 [==============================] - 168s 90ms/step - loss: 0.1923 - accuracy: 0.9270\n",
            "Epoch 5/1000\n",
            "1875/1875 [==============================] - 166s 89ms/step - loss: 0.1589 - accuracy: 0.9397\n",
            "Epoch 6/1000\n",
            "1875/1875 [==============================] - 167s 89ms/step - loss: 0.1346 - accuracy: 0.9481\n",
            "Epoch 7/1000\n",
            "1875/1875 [==============================] - 166s 89ms/step - loss: 0.1161 - accuracy: 0.9554\n",
            "Epoch 8/1000\n",
            "1875/1875 [==============================] - 166s 89ms/step - loss: 0.0965 - accuracy: 0.9633\n",
            "Epoch 9/1000\n",
            "1875/1875 [==============================] - 168s 90ms/step - loss: 0.0824 - accuracy: 0.9686\n",
            "Epoch 10/1000\n",
            "1875/1875 [==============================] - 164s 88ms/step - loss: 0.0722 - accuracy: 0.9730\n",
            "Epoch 11/1000\n",
            " 876/1875 [=============>................] - ETA: 1:27 - loss: 0.0570 - accuracy: 0.9795"
          ]
        }
      ]
    },
    {
      "cell_type": "markdown",
      "source": [
        "#Visualing the convolutions and pooling"
      ],
      "metadata": {
        "id": "aGWD-vg28Qhz"
      }
    },
    {
      "cell_type": "code",
      "source": [
        "import matplotlib.pyplot as plt\n",
        "from tensorflow.keras import models\n",
        "\n",
        "fig, ax=plt.subplots(3, 4)\n",
        "first_img = 0 \n",
        "second_img = 23 \n",
        "third_img = 28 \n",
        "conv_num = 1 \n",
        "layer_outputs = [layer.output for layer in models.layers]\n",
        "activation_model = tf.keras.models.Model(inputs = model.input, outputs = layer_outputs)\n",
        "\n",
        "for x in range(0, 4):\n",
        "  fig1 = activation_model.predict(test_images[first_img].reshape(1, 28, 28, 1))[x]\n",
        "  ax[0, x].imshow(fig1[0, :, :, conv_num], cmap = 'inferno')\n",
        "  ax[0, x].grid(False)\n",
        "\n",
        "  fig2 = activation_model.predict(test_images[second_img].reshape(1, 28, 28, 1))[x]\n",
        "  ax[1, x].imshow(fig1[0, :, :, conv_num], cmap = 'inferno')\n",
        "  ax[1, x].grid(False)\n",
        "\n",
        "  fig3 = activation_model.predict(test_images[third_img].reshape(1, 28, 28, 1))[x]\n",
        "  ax[2, x].imshow(fig1[0, :, :, conv_num], cmap = 'inferno')\n",
        "  ax[2, x].grid(False)"
      ],
      "metadata": {
        "colab": {
          "base_uri": "https://localhost:8080/",
          "height": 487
        },
        "id": "ZlaT52DK8Fq9",
        "outputId": "e4e9909b-fc6a-424b-8271-088c905fcbd2"
      },
      "execution_count": 22,
      "outputs": [
        {
          "output_type": "error",
          "ename": "AttributeError",
          "evalue": "ignored",
          "traceback": [
            "\u001b[0;31m---------------------------------------------------------------------------\u001b[0m",
            "\u001b[0;31mAttributeError\u001b[0m                            Traceback (most recent call last)",
            "\u001b[0;32m<ipython-input-22-b542fcd1729e>\u001b[0m in \u001b[0;36m<module>\u001b[0;34m\u001b[0m\n\u001b[1;32m      7\u001b[0m \u001b[0mthird_img\u001b[0m \u001b[0;34m=\u001b[0m \u001b[0;36m28\u001b[0m\u001b[0;34m\u001b[0m\u001b[0;34m\u001b[0m\u001b[0m\n\u001b[1;32m      8\u001b[0m \u001b[0mconv_num\u001b[0m \u001b[0;34m=\u001b[0m \u001b[0;36m1\u001b[0m\u001b[0;34m\u001b[0m\u001b[0;34m\u001b[0m\u001b[0m\n\u001b[0;32m----> 9\u001b[0;31m \u001b[0mlayer_outputs\u001b[0m \u001b[0;34m=\u001b[0m \u001b[0;34m[\u001b[0m\u001b[0mlayer\u001b[0m\u001b[0;34m.\u001b[0m\u001b[0moutput\u001b[0m \u001b[0;32mfor\u001b[0m \u001b[0mlayer\u001b[0m \u001b[0;32min\u001b[0m \u001b[0mmodels\u001b[0m\u001b[0;34m.\u001b[0m\u001b[0mlayers\u001b[0m\u001b[0;34m]\u001b[0m\u001b[0;34m\u001b[0m\u001b[0;34m\u001b[0m\u001b[0m\n\u001b[0m\u001b[1;32m     10\u001b[0m \u001b[0mactivation_model\u001b[0m \u001b[0;34m=\u001b[0m \u001b[0mtf\u001b[0m\u001b[0;34m.\u001b[0m\u001b[0mkeras\u001b[0m\u001b[0;34m.\u001b[0m\u001b[0mmodels\u001b[0m\u001b[0;34m.\u001b[0m\u001b[0mModel\u001b[0m\u001b[0;34m(\u001b[0m\u001b[0minputs\u001b[0m \u001b[0;34m=\u001b[0m \u001b[0mmodel\u001b[0m\u001b[0;34m.\u001b[0m\u001b[0minput\u001b[0m\u001b[0;34m,\u001b[0m \u001b[0moutputs\u001b[0m \u001b[0;34m=\u001b[0m \u001b[0mlayer_outputs\u001b[0m\u001b[0;34m)\u001b[0m\u001b[0;34m\u001b[0m\u001b[0;34m\u001b[0m\u001b[0m\n\u001b[1;32m     11\u001b[0m \u001b[0;34m\u001b[0m\u001b[0m\n",
            "\u001b[0;31mAttributeError\u001b[0m: module 'keras.api._v2.keras.models' has no attribute 'layers'"
          ]
        },
        {
          "output_type": "display_data",
          "data": {
            "text/plain": [
              "<Figure size 432x288 with 12 Axes>"
            ],
            "image/png": "[encoded data removed]"
          },
          "metadata": {
            "needs_background": "light"
          }
        }
      ]
    }
  ]
}