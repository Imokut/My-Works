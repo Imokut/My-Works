{
 "cells": [
  {
   "cell_type": "code",
   "execution_count": 2,
   "id": "f5b366af",
   "metadata": {},
   "outputs": [],
   "source": [
    "import pandas as pd\n",
    "import numpy as np\n",
    "import matplotlib.pyplot as plt\n",
    "%matplotlib inline\n",
    "import seaborn as sns\n",
    "\n",
    "from sklearn.model_selection import train_test_split\n",
    "from sklearn.linear_model import LogisticRegression\n",
    "from sklearn import metrics\n",
    "from sklearn.metrics import accuracy_score,classification_report,confusion_matrix\n",
    "from sklearn.preprocessing import LabelEncoder,StandardScaler"
   ]
  },
  {
   "cell_type": "code",
   "execution_count": 3,
   "id": "e66c9a0c",
   "metadata": {},
   "outputs": [
    {
     "data": {
      "text/html": [
       "<div>\n",
       "<style scoped>\n",
       "    .dataframe tbody tr th:only-of-type {\n",
       "        vertical-align: middle;\n",
       "    }\n",
       "\n",
       "    .dataframe tbody tr th {\n",
       "        vertical-align: top;\n",
       "    }\n",
       "\n",
       "    .dataframe thead th {\n",
       "        text-align: right;\n",
       "    }\n",
       "</style>\n",
       "<table border=\"1\" class=\"dataframe\">\n",
       "  <thead>\n",
       "    <tr style=\"text-align: right;\">\n",
       "      <th></th>\n",
       "      <th>Age</th>\n",
       "      <th>Attrition</th>\n",
       "      <th>BusinessTravel</th>\n",
       "      <th>DailyRate</th>\n",
       "      <th>Department</th>\n",
       "      <th>DistanceFromHome</th>\n",
       "      <th>Education</th>\n",
       "      <th>EducationField</th>\n",
       "      <th>EmployeeCount</th>\n",
       "      <th>EmployeeNumber</th>\n",
       "      <th>...</th>\n",
       "      <th>RelationshipSatisfaction</th>\n",
       "      <th>StandardHours</th>\n",
       "      <th>StockOptionLevel</th>\n",
       "      <th>TotalWorkingYears</th>\n",
       "      <th>TrainingTimesLastYear</th>\n",
       "      <th>WorkLifeBalance</th>\n",
       "      <th>YearsAtCompany</th>\n",
       "      <th>YearsInCurrentRole</th>\n",
       "      <th>YearsSinceLastPromotion</th>\n",
       "      <th>YearsWithCurrManager</th>\n",
       "    </tr>\n",
       "  </thead>\n",
       "  <tbody>\n",
       "    <tr>\n",
       "      <th>0</th>\n",
       "      <td>41</td>\n",
       "      <td>Yes</td>\n",
       "      <td>Travel_Rarely</td>\n",
       "      <td>1102</td>\n",
       "      <td>Sales</td>\n",
       "      <td>1</td>\n",
       "      <td>2</td>\n",
       "      <td>Life Sciences</td>\n",
       "      <td>1</td>\n",
       "      <td>1</td>\n",
       "      <td>...</td>\n",
       "      <td>1</td>\n",
       "      <td>80</td>\n",
       "      <td>0</td>\n",
       "      <td>8</td>\n",
       "      <td>0</td>\n",
       "      <td>1</td>\n",
       "      <td>6</td>\n",
       "      <td>4</td>\n",
       "      <td>0</td>\n",
       "      <td>5</td>\n",
       "    </tr>\n",
       "    <tr>\n",
       "      <th>1</th>\n",
       "      <td>49</td>\n",
       "      <td>No</td>\n",
       "      <td>Travel_Frequently</td>\n",
       "      <td>279</td>\n",
       "      <td>Research &amp; Development</td>\n",
       "      <td>8</td>\n",
       "      <td>1</td>\n",
       "      <td>Life Sciences</td>\n",
       "      <td>1</td>\n",
       "      <td>2</td>\n",
       "      <td>...</td>\n",
       "      <td>4</td>\n",
       "      <td>80</td>\n",
       "      <td>1</td>\n",
       "      <td>10</td>\n",
       "      <td>3</td>\n",
       "      <td>3</td>\n",
       "      <td>10</td>\n",
       "      <td>7</td>\n",
       "      <td>1</td>\n",
       "      <td>7</td>\n",
       "    </tr>\n",
       "    <tr>\n",
       "      <th>2</th>\n",
       "      <td>37</td>\n",
       "      <td>Yes</td>\n",
       "      <td>Travel_Rarely</td>\n",
       "      <td>1373</td>\n",
       "      <td>Research &amp; Development</td>\n",
       "      <td>2</td>\n",
       "      <td>2</td>\n",
       "      <td>Other</td>\n",
       "      <td>1</td>\n",
       "      <td>4</td>\n",
       "      <td>...</td>\n",
       "      <td>2</td>\n",
       "      <td>80</td>\n",
       "      <td>0</td>\n",
       "      <td>7</td>\n",
       "      <td>3</td>\n",
       "      <td>3</td>\n",
       "      <td>0</td>\n",
       "      <td>0</td>\n",
       "      <td>0</td>\n",
       "      <td>0</td>\n",
       "    </tr>\n",
       "    <tr>\n",
       "      <th>3</th>\n",
       "      <td>33</td>\n",
       "      <td>No</td>\n",
       "      <td>Travel_Frequently</td>\n",
       "      <td>1392</td>\n",
       "      <td>Research &amp; Development</td>\n",
       "      <td>3</td>\n",
       "      <td>4</td>\n",
       "      <td>Life Sciences</td>\n",
       "      <td>1</td>\n",
       "      <td>5</td>\n",
       "      <td>...</td>\n",
       "      <td>3</td>\n",
       "      <td>80</td>\n",
       "      <td>0</td>\n",
       "      <td>8</td>\n",
       "      <td>3</td>\n",
       "      <td>3</td>\n",
       "      <td>8</td>\n",
       "      <td>7</td>\n",
       "      <td>3</td>\n",
       "      <td>0</td>\n",
       "    </tr>\n",
       "    <tr>\n",
       "      <th>4</th>\n",
       "      <td>27</td>\n",
       "      <td>No</td>\n",
       "      <td>Travel_Rarely</td>\n",
       "      <td>591</td>\n",
       "      <td>Research &amp; Development</td>\n",
       "      <td>2</td>\n",
       "      <td>1</td>\n",
       "      <td>Medical</td>\n",
       "      <td>1</td>\n",
       "      <td>7</td>\n",
       "      <td>...</td>\n",
       "      <td>4</td>\n",
       "      <td>80</td>\n",
       "      <td>1</td>\n",
       "      <td>6</td>\n",
       "      <td>3</td>\n",
       "      <td>3</td>\n",
       "      <td>2</td>\n",
       "      <td>2</td>\n",
       "      <td>2</td>\n",
       "      <td>2</td>\n",
       "    </tr>\n",
       "    <tr>\n",
       "      <th>...</th>\n",
       "      <td>...</td>\n",
       "      <td>...</td>\n",
       "      <td>...</td>\n",
       "      <td>...</td>\n",
       "      <td>...</td>\n",
       "      <td>...</td>\n",
       "      <td>...</td>\n",
       "      <td>...</td>\n",
       "      <td>...</td>\n",
       "      <td>...</td>\n",
       "      <td>...</td>\n",
       "      <td>...</td>\n",
       "      <td>...</td>\n",
       "      <td>...</td>\n",
       "      <td>...</td>\n",
       "      <td>...</td>\n",
       "      <td>...</td>\n",
       "      <td>...</td>\n",
       "      <td>...</td>\n",
       "      <td>...</td>\n",
       "      <td>...</td>\n",
       "    </tr>\n",
       "    <tr>\n",
       "      <th>1465</th>\n",
       "      <td>36</td>\n",
       "      <td>No</td>\n",
       "      <td>Travel_Frequently</td>\n",
       "      <td>884</td>\n",
       "      <td>Research &amp; Development</td>\n",
       "      <td>23</td>\n",
       "      <td>2</td>\n",
       "      <td>Medical</td>\n",
       "      <td>1</td>\n",
       "      <td>2061</td>\n",
       "      <td>...</td>\n",
       "      <td>3</td>\n",
       "      <td>80</td>\n",
       "      <td>1</td>\n",
       "      <td>17</td>\n",
       "      <td>3</td>\n",
       "      <td>3</td>\n",
       "      <td>5</td>\n",
       "      <td>2</td>\n",
       "      <td>0</td>\n",
       "      <td>3</td>\n",
       "    </tr>\n",
       "    <tr>\n",
       "      <th>1466</th>\n",
       "      <td>39</td>\n",
       "      <td>No</td>\n",
       "      <td>Travel_Rarely</td>\n",
       "      <td>613</td>\n",
       "      <td>Research &amp; Development</td>\n",
       "      <td>6</td>\n",
       "      <td>1</td>\n",
       "      <td>Medical</td>\n",
       "      <td>1</td>\n",
       "      <td>2062</td>\n",
       "      <td>...</td>\n",
       "      <td>1</td>\n",
       "      <td>80</td>\n",
       "      <td>1</td>\n",
       "      <td>9</td>\n",
       "      <td>5</td>\n",
       "      <td>3</td>\n",
       "      <td>7</td>\n",
       "      <td>7</td>\n",
       "      <td>1</td>\n",
       "      <td>7</td>\n",
       "    </tr>\n",
       "    <tr>\n",
       "      <th>1467</th>\n",
       "      <td>27</td>\n",
       "      <td>No</td>\n",
       "      <td>Travel_Rarely</td>\n",
       "      <td>155</td>\n",
       "      <td>Research &amp; Development</td>\n",
       "      <td>4</td>\n",
       "      <td>3</td>\n",
       "      <td>Life Sciences</td>\n",
       "      <td>1</td>\n",
       "      <td>2064</td>\n",
       "      <td>...</td>\n",
       "      <td>2</td>\n",
       "      <td>80</td>\n",
       "      <td>1</td>\n",
       "      <td>6</td>\n",
       "      <td>0</td>\n",
       "      <td>3</td>\n",
       "      <td>6</td>\n",
       "      <td>2</td>\n",
       "      <td>0</td>\n",
       "      <td>3</td>\n",
       "    </tr>\n",
       "    <tr>\n",
       "      <th>1468</th>\n",
       "      <td>49</td>\n",
       "      <td>No</td>\n",
       "      <td>Travel_Frequently</td>\n",
       "      <td>1023</td>\n",
       "      <td>Sales</td>\n",
       "      <td>2</td>\n",
       "      <td>3</td>\n",
       "      <td>Medical</td>\n",
       "      <td>1</td>\n",
       "      <td>2065</td>\n",
       "      <td>...</td>\n",
       "      <td>4</td>\n",
       "      <td>80</td>\n",
       "      <td>0</td>\n",
       "      <td>17</td>\n",
       "      <td>3</td>\n",
       "      <td>2</td>\n",
       "      <td>9</td>\n",
       "      <td>6</td>\n",
       "      <td>0</td>\n",
       "      <td>8</td>\n",
       "    </tr>\n",
       "    <tr>\n",
       "      <th>1469</th>\n",
       "      <td>34</td>\n",
       "      <td>No</td>\n",
       "      <td>Travel_Rarely</td>\n",
       "      <td>628</td>\n",
       "      <td>Research &amp; Development</td>\n",
       "      <td>8</td>\n",
       "      <td>3</td>\n",
       "      <td>Medical</td>\n",
       "      <td>1</td>\n",
       "      <td>2068</td>\n",
       "      <td>...</td>\n",
       "      <td>1</td>\n",
       "      <td>80</td>\n",
       "      <td>0</td>\n",
       "      <td>6</td>\n",
       "      <td>3</td>\n",
       "      <td>4</td>\n",
       "      <td>4</td>\n",
       "      <td>3</td>\n",
       "      <td>1</td>\n",
       "      <td>2</td>\n",
       "    </tr>\n",
       "  </tbody>\n",
       "</table>\n",
       "<p>1470 rows × 35 columns</p>\n",
       "</div>"
      ],
      "text/plain": [
       "      Age Attrition     BusinessTravel  DailyRate              Department  \\\n",
       "0      41       Yes      Travel_Rarely       1102                   Sales   \n",
       "1      49        No  Travel_Frequently        279  Research & Development   \n",
       "2      37       Yes      Travel_Rarely       1373  Research & Development   \n",
       "3      33        No  Travel_Frequently       1392  Research & Development   \n",
       "4      27        No      Travel_Rarely        591  Research & Development   \n",
       "...   ...       ...                ...        ...                     ...   \n",
       "1465   36        No  Travel_Frequently        884  Research & Development   \n",
       "1466   39        No      Travel_Rarely        613  Research & Development   \n",
       "1467   27        No      Travel_Rarely        155  Research & Development   \n",
       "1468   49        No  Travel_Frequently       1023                   Sales   \n",
       "1469   34        No      Travel_Rarely        628  Research & Development   \n",
       "\n",
       "      DistanceFromHome  Education EducationField  EmployeeCount  \\\n",
       "0                    1          2  Life Sciences              1   \n",
       "1                    8          1  Life Sciences              1   \n",
       "2                    2          2          Other              1   \n",
       "3                    3          4  Life Sciences              1   \n",
       "4                    2          1        Medical              1   \n",
       "...                ...        ...            ...            ...   \n",
       "1465                23          2        Medical              1   \n",
       "1466                 6          1        Medical              1   \n",
       "1467                 4          3  Life Sciences              1   \n",
       "1468                 2          3        Medical              1   \n",
       "1469                 8          3        Medical              1   \n",
       "\n",
       "      EmployeeNumber  ...  RelationshipSatisfaction StandardHours  \\\n",
       "0                  1  ...                         1            80   \n",
       "1                  2  ...                         4            80   \n",
       "2                  4  ...                         2            80   \n",
       "3                  5  ...                         3            80   \n",
       "4                  7  ...                         4            80   \n",
       "...              ...  ...                       ...           ...   \n",
       "1465            2061  ...                         3            80   \n",
       "1466            2062  ...                         1            80   \n",
       "1467            2064  ...                         2            80   \n",
       "1468            2065  ...                         4            80   \n",
       "1469            2068  ...                         1            80   \n",
       "\n",
       "      StockOptionLevel  TotalWorkingYears  TrainingTimesLastYear  \\\n",
       "0                    0                  8                      0   \n",
       "1                    1                 10                      3   \n",
       "2                    0                  7                      3   \n",
       "3                    0                  8                      3   \n",
       "4                    1                  6                      3   \n",
       "...                ...                ...                    ...   \n",
       "1465                 1                 17                      3   \n",
       "1466                 1                  9                      5   \n",
       "1467                 1                  6                      0   \n",
       "1468                 0                 17                      3   \n",
       "1469                 0                  6                      3   \n",
       "\n",
       "     WorkLifeBalance  YearsAtCompany YearsInCurrentRole  \\\n",
       "0                  1               6                  4   \n",
       "1                  3              10                  7   \n",
       "2                  3               0                  0   \n",
       "3                  3               8                  7   \n",
       "4                  3               2                  2   \n",
       "...              ...             ...                ...   \n",
       "1465               3               5                  2   \n",
       "1466               3               7                  7   \n",
       "1467               3               6                  2   \n",
       "1468               2               9                  6   \n",
       "1469               4               4                  3   \n",
       "\n",
       "      YearsSinceLastPromotion  YearsWithCurrManager  \n",
       "0                           0                     5  \n",
       "1                           1                     7  \n",
       "2                           0                     0  \n",
       "3                           3                     0  \n",
       "4                           2                     2  \n",
       "...                       ...                   ...  \n",
       "1465                        0                     3  \n",
       "1466                        1                     7  \n",
       "1467                        0                     3  \n",
       "1468                        0                     8  \n",
       "1469                        1                     2  \n",
       "\n",
       "[1470 rows x 35 columns]"
      ]
     },
     "execution_count": 3,
     "metadata": {},
     "output_type": "execute_result"
    }
   ],
   "source": [
    "data = pd.read_csv(\"HR_Analytics.csv\")\n",
    "\n",
    "data"
   ]
  },
  {
   "cell_type": "code",
   "execution_count": 4,
   "id": "2313ab96",
   "metadata": {},
   "outputs": [
    {
     "data": {
      "text/plain": [
       "Index(['Attrition', 'BusinessTravel', 'Department', 'EducationField', 'Gender',\n",
       "       'JobRole', 'MaritalStatus', 'Over18', 'OverTime'],\n",
       "      dtype='object')"
      ]
     },
     "execution_count": 4,
     "metadata": {},
     "output_type": "execute_result"
    }
   ],
   "source": [
    "#select columns of a certain data type\n",
    "data.select_dtypes(include='object').columns"
   ]
  },
  {
   "cell_type": "code",
   "execution_count": 5,
   "id": "ca0a5e9e",
   "metadata": {},
   "outputs": [
    {
     "data": {
      "text/plain": [
       "9"
      ]
     },
     "execution_count": 5,
     "metadata": {},
     "output_type": "execute_result"
    }
   ],
   "source": [
    "#function to get the number of columns that have an object data type\n",
    "len(data.select_dtypes(include='object').columns)"
   ]
  },
  {
   "cell_type": "code",
   "execution_count": 6,
   "id": "289c921f",
   "metadata": {},
   "outputs": [
    {
     "data": {
      "text/plain": [
       "<Axes: xlabel='Attrition', ylabel='count'>"
      ]
     },
     "execution_count": 6,
     "metadata": {},
     "output_type": "execute_result"
    },
    {
     "data": {
      "image/png": "[encoded data removed]",
      "text/plain": [
       "<Figure size 640x480 with 1 Axes>"
      ]
     },
     "metadata": {},
     "output_type": "display_data"
    }
   ],
   "source": [
    "#plot the count of values in the Attrition column of the DataFrame\n",
    "sns.countplot(x='Attrition', data=data)"
   ]
  },
  {
   "cell_type": "code",
   "execution_count": 7,
   "id": "c0426262",
   "metadata": {},
   "outputs": [
    {
     "data": {
      "text/plain": [
       "<Axes: xlabel='JobSatisfaction', ylabel='count'>"
      ]
     },
     "execution_count": 7,
     "metadata": {},
     "output_type": "execute_result"
    },
    {
     "data": {
      "image/png": "[encoded data removed]",
      "text/plain": [
       "<Figure size 1000x600 with 1 Axes>"
      ]
     },
     "metadata": {},
     "output_type": "display_data"
    }
   ],
   "source": [
    "#plot the count of values in the JobSatisfaction column of the DataFrame data with respect to the Attrition column.\n",
    "plt.figure(figsize=(10,6))\n",
    "sns.countplot(x='JobSatisfaction', hue='Attrition', data=data)"
   ]
  },
  {
   "cell_type": "code",
   "execution_count": 8,
   "id": "1237ebc1",
   "metadata": {},
   "outputs": [
    {
     "data": {
      "image/png": "[encoded data removed]",
      "text/plain": [
       "<Figure size 1000x600 with 1 Axes>"
      ]
     },
     "metadata": {},
     "output_type": "display_data"
    }
   ],
   "source": [
    "#plot the count of values in the “JobRole” column of the DataFrame “data” with respect to the “Attrition” column.\n",
    "plt.figure(figsize=(10,6))\n",
    "sns.countplot(x='JobRole', hue='Attrition', data=data,)\n",
    "plt.xticks(rotation=90)\n",
    "plt.show()"
   ]
  },
  {
   "cell_type": "code",
   "execution_count": 9,
   "id": "7ae2f099",
   "metadata": {},
   "outputs": [
    {
     "data": {
      "text/plain": [
       "Index(['Attrition', 'BusinessTravel', 'Department', 'EducationField', 'Gender',\n",
       "       'JobRole', 'MaritalStatus', 'Over18', 'OverTime'],\n",
       "      dtype='object')"
      ]
     },
     "execution_count": 9,
     "metadata": {},
     "output_type": "execute_result"
    }
   ],
   "source": [
    "data.select_dtypes(include='object').columns"
   ]
  },
  {
   "cell_type": "code",
   "execution_count": 10,
   "id": "4bb8e540",
   "metadata": {},
   "outputs": [],
   "source": [
    "def binary_map(x):\n",
    "    if x =='Yes':\n",
    "        return 1\n",
    "    else:\n",
    "        return 0"
   ]
  },
  {
   "cell_type": "code",
   "execution_count": 11,
   "id": "f01e2923",
   "metadata": {},
   "outputs": [],
   "source": [
    "data['Attrition'] = data['Attrition'].apply(binary_map)"
   ]
  },
  {
   "cell_type": "code",
   "execution_count": 12,
   "id": "e1027a86",
   "metadata": {},
   "outputs": [],
   "source": [
    "data['OverTime'] = data['OverTime'].apply(binary_map)"
   ]
  },
  {
   "cell_type": "code",
   "execution_count": 13,
   "id": "f6e6f113",
   "metadata": {},
   "outputs": [
    {
     "data": {
      "text/plain": [
       "array(['Y'], dtype=object)"
      ]
     },
     "execution_count": 13,
     "metadata": {},
     "output_type": "execute_result"
    }
   ],
   "source": [
    "data['Over18'].unique()"
   ]
  },
  {
   "cell_type": "code",
   "execution_count": 14,
   "id": "b30e82a1",
   "metadata": {},
   "outputs": [
    {
     "data": {
      "text/plain": [
       "array([1], dtype=int64)"
      ]
     },
     "execution_count": 14,
     "metadata": {},
     "output_type": "execute_result"
    }
   ],
   "source": [
    "data['EmployeeCount'].unique()"
   ]
  },
  {
   "cell_type": "code",
   "execution_count": 15,
   "id": "1495bfc8",
   "metadata": {},
   "outputs": [
    {
     "data": {
      "text/plain": [
       "array([80], dtype=int64)"
      ]
     },
     "execution_count": 15,
     "metadata": {},
     "output_type": "execute_result"
    }
   ],
   "source": [
    "data['StandardHours'].unique()"
   ]
  },
  {
   "cell_type": "code",
   "execution_count": 16,
   "id": "d668cb49",
   "metadata": {},
   "outputs": [],
   "source": [
    "#remove the “Over18”, “EmployeeCount”, and “StandardHours” columns from the DataFrame \n",
    "data = data.drop('Over18', axis=1)\n",
    "data = data.drop('EmployeeCount', axis=1)\n",
    "data = data.drop('StandardHours', axis=1)"
   ]
  },
  {
   "cell_type": "code",
   "execution_count": 17,
   "id": "5131b40a",
   "metadata": {},
   "outputs": [
    {
     "data": {
      "text/plain": [
       "Index(['BusinessTravel', 'Department', 'EducationField', 'Gender', 'JobRole',\n",
       "       'MaritalStatus'],\n",
       "      dtype='object')"
      ]
     },
     "execution_count": 17,
     "metadata": {},
     "output_type": "execute_result"
    }
   ],
   "source": [
    "data.select_dtypes(include='object').columns"
   ]
  },
  {
   "cell_type": "code",
   "execution_count": 18,
   "id": "039724c4",
   "metadata": {},
   "outputs": [],
   "source": [
    "from sklearn.preprocessing import LabelEncoder"
   ]
  },
  {
   "cell_type": "code",
   "execution_count": 19,
   "id": "74246313",
   "metadata": {},
   "outputs": [],
   "source": [
    "encoder = LabelEncoder()"
   ]
  },
  {
   "cell_type": "code",
   "execution_count": 20,
   "id": "9e986a4a",
   "metadata": {},
   "outputs": [],
   "source": [
    "#encode the “Gender”, “BusinessTravel”, “EducationField”, “Department”, “JobRole”, and “MaritalStatus” columns of the DataFrame\n",
    "data['Gender'] = encoder.fit_transform(data['Gender'])\n",
    "# 0 for female and 1 for male\n",
    "data['BusinessTravel'] = encoder.fit_transform(data['BusinessTravel'])\n",
    "#Travel rarely =2, Travel Frequently =1, non travel =0\n",
    "data['EducationField'] = encoder.fit_transform(data['EducationField'])\n",
    "data['Department'] = encoder.fit_transform(data['Department'])\n",
    "data['JobRole'] = encoder.fit_transform(data['JobRole'])\n",
    "data['MaritalStatus'] = encoder.fit_transform(data['MaritalStatus'])"
   ]
  },
  {
   "cell_type": "code",
   "execution_count": 21,
   "id": "6524e431",
   "metadata": {},
   "outputs": [
    {
     "data": {
      "text/plain": [
       "Index([], dtype='object')"
      ]
     },
     "execution_count": 21,
     "metadata": {},
     "output_type": "execute_result"
    }
   ],
   "source": [
    "data.select_dtypes(include=\"object\").columns"
   ]
  },
  {
   "cell_type": "code",
   "execution_count": 22,
   "id": "7f14851a",
   "metadata": {},
   "outputs": [],
   "source": [
    "x = data.drop('Attrition', axis=1).values"
   ]
  },
  {
   "cell_type": "code",
   "execution_count": 23,
   "id": "48b4c907",
   "metadata": {},
   "outputs": [],
   "source": [
    "y = data['Attrition'].values"
   ]
  },
  {
   "cell_type": "code",
   "execution_count": 24,
   "id": "b09d7606",
   "metadata": {},
   "outputs": [],
   "source": [
    "from sklearn.model_selection import train_test_split\n",
    "from sklearn.preprocessing import StandardScaler"
   ]
  },
  {
   "cell_type": "code",
   "execution_count": 25,
   "id": "1693b7b6",
   "metadata": {},
   "outputs": [],
   "source": [
    "#split the numpy arrays “x” and “y” into random train and test subsets.\n",
    "x_train, x_test, y_train, y_test = train_test_split(x, y, test_size=0.2, random_state=42) "
   ]
  },
  {
   "cell_type": "code",
   "execution_count": 26,
   "id": "506fda35",
   "metadata": {},
   "outputs": [],
   "source": [
    "scaler = StandardScaler()"
   ]
  },
  {
   "cell_type": "code",
   "execution_count": 27,
   "id": "a833026e",
   "metadata": {},
   "outputs": [],
   "source": [
    "#standardize the training data “x_train”\n",
    "x_train = scaler.fit_transform(x_train)"
   ]
  },
  {
   "cell_type": "code",
   "execution_count": 28,
   "id": "46c285a4",
   "metadata": {},
   "outputs": [],
   "source": [
    "#standardize the test data “x_test”\n",
    "x_test = scaler.transform(x_test)"
   ]
  },
  {
   "cell_type": "code",
   "execution_count": 57,
   "id": "0ff6e5ff",
   "metadata": {},
   "outputs": [
    {
     "data": {
      "text/plain": [
       "(1176, 31)"
      ]
     },
     "execution_count": 57,
     "metadata": {},
     "output_type": "execute_result"
    }
   ],
   "source": [
    "#get the dimensions of the numpy array “x_train”.\n",
    "x_train.shape"
   ]
  },
  {
   "cell_type": "code",
   "execution_count": 61,
   "id": "a7c2699c",
   "metadata": {
    "scrolled": true
   },
   "outputs": [],
   "source": [
    "from sklearn.linear_model import LogisticRegression\n",
    "from sklearn.ensemble import RandomForestClassifier\n",
    "from xgboost import XGBClassifier\n",
    "from sklearn.svm import SVC"
   ]
  },
  {
   "cell_type": "code",
   "execution_count": 36,
   "id": "ab8ed3e3",
   "metadata": {},
   "outputs": [],
   "source": [
    "from sklearn.metrics import classification_report, accuracy_score, confusion_matrix"
   ]
  },
  {
   "cell_type": "code",
   "execution_count": 37,
   "id": "d2a0510a",
   "metadata": {},
   "outputs": [],
   "source": [
    "model_lr = LogisticRegression()"
   ]
  },
  {
   "cell_type": "code",
   "execution_count": 38,
   "id": "f1cb2097",
   "metadata": {},
   "outputs": [
    {
     "data": {
      "text/html": [
       "<style>#sk-container-id-1 {color: black;background-color: white;}#sk-container-id-1 pre{padding: 0;}#sk-container-id-1 div.sk-toggleable {background-color: white;}#sk-container-id-1 label.sk-toggleable__label {cursor: pointer;display: block;width: 100%;margin-bottom: 0;padding: 0.3em;box-sizing: border-box;text-align: center;}#sk-container-id-1 label.sk-toggleable__label-arrow:before {content: \"▸\";float: left;margin-right: 0.25em;color: #696969;}#sk-container-id-1 label.sk-toggleable__label-arrow:hover:before {color: black;}#sk-container-id-1 div.sk-estimator:hover label.sk-toggleable__label-arrow:before {color: black;}#sk-container-id-1 div.sk-toggleable__content {max-height: 0;max-width: 0;overflow: hidden;text-align: left;background-color: #f0f8ff;}#sk-container-id-1 div.sk-toggleable__content pre {margin: 0.2em;color: black;border-radius: 0.25em;background-color: #f0f8ff;}#sk-container-id-1 input.sk-toggleable__control:checked~div.sk-toggleable__content {max-height: 200px;max-width: 100%;overflow: auto;}#sk-container-id-1 input.sk-toggleable__control:checked~label.sk-toggleable__label-arrow:before {content: \"▾\";}#sk-container-id-1 div.sk-estimator input.sk-toggleable__control:checked~label.sk-toggleable__label {background-color: #d4ebff;}#sk-container-id-1 div.sk-label input.sk-toggleable__control:checked~label.sk-toggleable__label {background-color: #d4ebff;}#sk-container-id-1 input.sk-hidden--visually {border: 0;clip: rect(1px 1px 1px 1px);clip: rect(1px, 1px, 1px, 1px);height: 1px;margin: -1px;overflow: hidden;padding: 0;position: absolute;width: 1px;}#sk-container-id-1 div.sk-estimator {font-family: monospace;background-color: #f0f8ff;border: 1px dotted black;border-radius: 0.25em;box-sizing: border-box;margin-bottom: 0.5em;}#sk-container-id-1 div.sk-estimator:hover {background-color: #d4ebff;}#sk-container-id-1 div.sk-parallel-item::after {content: \"\";width: 100%;border-bottom: 1px solid gray;flex-grow: 1;}#sk-container-id-1 div.sk-label:hover label.sk-toggleable__label {background-color: #d4ebff;}#sk-container-id-1 div.sk-serial::before {content: \"\";position: absolute;border-left: 1px solid gray;box-sizing: border-box;top: 0;bottom: 0;left: 50%;z-index: 0;}#sk-container-id-1 div.sk-serial {display: flex;flex-direction: column;align-items: center;background-color: white;padding-right: 0.2em;padding-left: 0.2em;position: relative;}#sk-container-id-1 div.sk-item {position: relative;z-index: 1;}#sk-container-id-1 div.sk-parallel {display: flex;align-items: stretch;justify-content: center;background-color: white;position: relative;}#sk-container-id-1 div.sk-item::before, #sk-container-id-1 div.sk-parallel-item::before {content: \"\";position: absolute;border-left: 1px solid gray;box-sizing: border-box;top: 0;bottom: 0;left: 50%;z-index: -1;}#sk-container-id-1 div.sk-parallel-item {display: flex;flex-direction: column;z-index: 1;position: relative;background-color: white;}#sk-container-id-1 div.sk-parallel-item:first-child::after {align-self: flex-end;width: 50%;}#sk-container-id-1 div.sk-parallel-item:last-child::after {align-self: flex-start;width: 50%;}#sk-container-id-1 div.sk-parallel-item:only-child::after {width: 0;}#sk-container-id-1 div.sk-dashed-wrapped {border: 1px dashed gray;margin: 0 0.4em 0.5em 0.4em;box-sizing: border-box;padding-bottom: 0.4em;background-color: white;}#sk-container-id-1 div.sk-label label {font-family: monospace;font-weight: bold;display: inline-block;line-height: 1.2em;}#sk-container-id-1 div.sk-label-container {text-align: center;}#sk-container-id-1 div.sk-container {/* jupyter's `normalize.less` sets `[hidden] { display: none; }` but bootstrap.min.css set `[hidden] { display: none !important; }` so we also need the `!important` here to be able to override the default hidden behavior on the sphinx rendered scikit-learn.org. See: https://github.com/scikit-learn/scikit-learn/issues/21755 */display: inline-block !important;position: relative;}#sk-container-id-1 div.sk-text-repr-fallback {display: none;}</style><div id=\"sk-container-id-1\" class=\"sk-top-container\"><div class=\"sk-text-repr-fallback\"><pre>LogisticRegression()</pre><b>In a Jupyter environment, please rerun this cell to show the HTML representation or trust the notebook. <br />On GitHub, the HTML representation is unable to render, please try loading this page with nbviewer.org.</b></div><div class=\"sk-container\" hidden><div class=\"sk-item\"><div class=\"sk-estimator sk-toggleable\"><input class=\"sk-toggleable__control sk-hidden--visually\" id=\"sk-estimator-id-1\" type=\"checkbox\" checked><label for=\"sk-estimator-id-1\" class=\"sk-toggleable__label sk-toggleable__label-arrow\">LogisticRegression</label><div class=\"sk-toggleable__content\"><pre>LogisticRegression()</pre></div></div></div></div></div>"
      ],
      "text/plain": [
       "LogisticRegression()"
      ]
     },
     "execution_count": 38,
     "metadata": {},
     "output_type": "execute_result"
    }
   ],
   "source": [
    "model_lr.fit(x_train, y_train)"
   ]
  },
  {
   "cell_type": "code",
   "execution_count": 39,
   "id": "122b17c4",
   "metadata": {},
   "outputs": [],
   "source": [
    "y_pred_lr = model_lr.predict(x_test)"
   ]
  },
  {
   "cell_type": "code",
   "execution_count": 40,
   "id": "32256325",
   "metadata": {},
   "outputs": [
    {
     "name": "stdout",
     "output_type": "stream",
     "text": [
      "Logistic Regression\n",
      "\n",
      "Accuracy: 0.891156462585034\n",
      "\n",
      "confusion matrix:\n",
      " [[249   6]\n",
      " [ 26  13]]\n",
      "\n",
      "classification report:\n",
      "               precision    recall  f1-score   support\n",
      "\n",
      "           0       0.91      0.98      0.94       255\n",
      "           1       0.68      0.33      0.45        39\n",
      "\n",
      "    accuracy                           0.89       294\n",
      "   macro avg       0.79      0.65      0.69       294\n",
      "weighted avg       0.88      0.89      0.87       294\n",
      "\n"
     ]
    }
   ],
   "source": [
    "#The code provided is printing the accuracy score, confusion matrix,and classification report for the logistic regression model. The accuracy score is the proportion of correct predictions among the total number of predictions. The confusion matrix is a table that summarizes the performance of a classification algorithm. The classification report is a text summary of the precision, recall, F1 score for each class.\n",
    "print('Logistic Regression')\n",
    "print('\\nAccuracy:', accuracy_score(y_test, y_pred_lr))\n",
    "print('\\nconfusion matrix:\\n', confusion_matrix(y_test, y_pred_lr))\n",
    "print('\\nclassification report:\\n', classification_report(y_test, y_pred_lr))"
   ]
  },
  {
   "cell_type": "code",
   "execution_count": 41,
   "id": "1b2f8373",
   "metadata": {},
   "outputs": [],
   "source": [
    "model_rf = RandomForestClassifier()"
   ]
  },
  {
   "cell_type": "code",
   "execution_count": 42,
   "id": "0f63ca3b",
   "metadata": {},
   "outputs": [
    {
     "data": {
      "text/html": [
       "<style>#sk-container-id-2 {color: black;background-color: white;}#sk-container-id-2 pre{padding: 0;}#sk-container-id-2 div.sk-toggleable {background-color: white;}#sk-container-id-2 label.sk-toggleable__label {cursor: pointer;display: block;width: 100%;margin-bottom: 0;padding: 0.3em;box-sizing: border-box;text-align: center;}#sk-container-id-2 label.sk-toggleable__label-arrow:before {content: \"▸\";float: left;margin-right: 0.25em;color: #696969;}#sk-container-id-2 label.sk-toggleable__label-arrow:hover:before {color: black;}#sk-container-id-2 div.sk-estimator:hover label.sk-toggleable__label-arrow:before {color: black;}#sk-container-id-2 div.sk-toggleable__content {max-height: 0;max-width: 0;overflow: hidden;text-align: left;background-color: #f0f8ff;}#sk-container-id-2 div.sk-toggleable__content pre {margin: 0.2em;color: black;border-radius: 0.25em;background-color: #f0f8ff;}#sk-container-id-2 input.sk-toggleable__control:checked~div.sk-toggleable__content {max-height: 200px;max-width: 100%;overflow: auto;}#sk-container-id-2 input.sk-toggleable__control:checked~label.sk-toggleable__label-arrow:before {content: \"▾\";}#sk-container-id-2 div.sk-estimator input.sk-toggleable__control:checked~label.sk-toggleable__label {background-color: #d4ebff;}#sk-container-id-2 div.sk-label input.sk-toggleable__control:checked~label.sk-toggleable__label {background-color: #d4ebff;}#sk-container-id-2 input.sk-hidden--visually {border: 0;clip: rect(1px 1px 1px 1px);clip: rect(1px, 1px, 1px, 1px);height: 1px;margin: -1px;overflow: hidden;padding: 0;position: absolute;width: 1px;}#sk-container-id-2 div.sk-estimator {font-family: monospace;background-color: #f0f8ff;border: 1px dotted black;border-radius: 0.25em;box-sizing: border-box;margin-bottom: 0.5em;}#sk-container-id-2 div.sk-estimator:hover {background-color: #d4ebff;}#sk-container-id-2 div.sk-parallel-item::after {content: \"\";width: 100%;border-bottom: 1px solid gray;flex-grow: 1;}#sk-container-id-2 div.sk-label:hover label.sk-toggleable__label {background-color: #d4ebff;}#sk-container-id-2 div.sk-serial::before {content: \"\";position: absolute;border-left: 1px solid gray;box-sizing: border-box;top: 0;bottom: 0;left: 50%;z-index: 0;}#sk-container-id-2 div.sk-serial {display: flex;flex-direction: column;align-items: center;background-color: white;padding-right: 0.2em;padding-left: 0.2em;position: relative;}#sk-container-id-2 div.sk-item {position: relative;z-index: 1;}#sk-container-id-2 div.sk-parallel {display: flex;align-items: stretch;justify-content: center;background-color: white;position: relative;}#sk-container-id-2 div.sk-item::before, #sk-container-id-2 div.sk-parallel-item::before {content: \"\";position: absolute;border-left: 1px solid gray;box-sizing: border-box;top: 0;bottom: 0;left: 50%;z-index: -1;}#sk-container-id-2 div.sk-parallel-item {display: flex;flex-direction: column;z-index: 1;position: relative;background-color: white;}#sk-container-id-2 div.sk-parallel-item:first-child::after {align-self: flex-end;width: 50%;}#sk-container-id-2 div.sk-parallel-item:last-child::after {align-self: flex-start;width: 50%;}#sk-container-id-2 div.sk-parallel-item:only-child::after {width: 0;}#sk-container-id-2 div.sk-dashed-wrapped {border: 1px dashed gray;margin: 0 0.4em 0.5em 0.4em;box-sizing: border-box;padding-bottom: 0.4em;background-color: white;}#sk-container-id-2 div.sk-label label {font-family: monospace;font-weight: bold;display: inline-block;line-height: 1.2em;}#sk-container-id-2 div.sk-label-container {text-align: center;}#sk-container-id-2 div.sk-container {/* jupyter's `normalize.less` sets `[hidden] { display: none; }` but bootstrap.min.css set `[hidden] { display: none !important; }` so we also need the `!important` here to be able to override the default hidden behavior on the sphinx rendered scikit-learn.org. See: https://github.com/scikit-learn/scikit-learn/issues/21755 */display: inline-block !important;position: relative;}#sk-container-id-2 div.sk-text-repr-fallback {display: none;}</style><div id=\"sk-container-id-2\" class=\"sk-top-container\"><div class=\"sk-text-repr-fallback\"><pre>RandomForestClassifier()</pre><b>In a Jupyter environment, please rerun this cell to show the HTML representation or trust the notebook. <br />On GitHub, the HTML representation is unable to render, please try loading this page with nbviewer.org.</b></div><div class=\"sk-container\" hidden><div class=\"sk-item\"><div class=\"sk-estimator sk-toggleable\"><input class=\"sk-toggleable__control sk-hidden--visually\" id=\"sk-estimator-id-2\" type=\"checkbox\" checked><label for=\"sk-estimator-id-2\" class=\"sk-toggleable__label sk-toggleable__label-arrow\">RandomForestClassifier</label><div class=\"sk-toggleable__content\"><pre>RandomForestClassifier()</pre></div></div></div></div></div>"
      ],
      "text/plain": [
       "RandomForestClassifier()"
      ]
     },
     "execution_count": 42,
     "metadata": {},
     "output_type": "execute_result"
    }
   ],
   "source": [
    "model_rf.fit(x_train, y_train)"
   ]
  },
  {
   "cell_type": "code",
   "execution_count": 43,
   "id": "ed762087",
   "metadata": {},
   "outputs": [],
   "source": [
    "y_pred_rf = model_rf.predict(x_test)"
   ]
  },
  {
   "cell_type": "code",
   "execution_count": 44,
   "id": "7627af6d",
   "metadata": {},
   "outputs": [
    {
     "name": "stdout",
     "output_type": "stream",
     "text": [
      "Random Forest Classifier\n",
      "\n",
      "Accuracy: 0.8775510204081632\n",
      "\n",
      "confusion matrix:\n",
      " [[254   1]\n",
      " [ 35   4]]\n",
      "\n",
      "classification report:\n",
      "               precision    recall  f1-score   support\n",
      "\n",
      "           0       0.88      1.00      0.93       255\n",
      "           1       0.80      0.10      0.18        39\n",
      "\n",
      "    accuracy                           0.88       294\n",
      "   macro avg       0.84      0.55      0.56       294\n",
      "weighted avg       0.87      0.88      0.83       294\n",
      "\n"
     ]
    }
   ],
   "source": [
    "print('Random Forest Classifier')\n",
    "print('\\nAccuracy:', accuracy_score(y_test, y_pred_rf))\n",
    "print('\\nconfusion matrix:\\n', confusion_matrix(y_test, y_pred_rf))\n",
    "print('\\nclassification report:\\n', classification_report(y_test, y_pred_rf))"
   ]
  },
  {
   "cell_type": "code",
   "execution_count": 62,
   "id": "d8c8b198",
   "metadata": {},
   "outputs": [],
   "source": [
    "model_xgb = XGBClassifier()"
   ]
  },
  {
   "cell_type": "code",
   "execution_count": 63,
   "id": "10b56190",
   "metadata": {},
   "outputs": [
    {
     "data": {
      "text/html": [
       "<style>#sk-container-id-4 {color: black;background-color: white;}#sk-container-id-4 pre{padding: 0;}#sk-container-id-4 div.sk-toggleable {background-color: white;}#sk-container-id-4 label.sk-toggleable__label {cursor: pointer;display: block;width: 100%;margin-bottom: 0;padding: 0.3em;box-sizing: border-box;text-align: center;}#sk-container-id-4 label.sk-toggleable__label-arrow:before {content: \"▸\";float: left;margin-right: 0.25em;color: #696969;}#sk-container-id-4 label.sk-toggleable__label-arrow:hover:before {color: black;}#sk-container-id-4 div.sk-estimator:hover label.sk-toggleable__label-arrow:before {color: black;}#sk-container-id-4 div.sk-toggleable__content {max-height: 0;max-width: 0;overflow: hidden;text-align: left;background-color: #f0f8ff;}#sk-container-id-4 div.sk-toggleable__content pre {margin: 0.2em;color: black;border-radius: 0.25em;background-color: #f0f8ff;}#sk-container-id-4 input.sk-toggleable__control:checked~div.sk-toggleable__content {max-height: 200px;max-width: 100%;overflow: auto;}#sk-container-id-4 input.sk-toggleable__control:checked~label.sk-toggleable__label-arrow:before {content: \"▾\";}#sk-container-id-4 div.sk-estimator input.sk-toggleable__control:checked~label.sk-toggleable__label {background-color: #d4ebff;}#sk-container-id-4 div.sk-label input.sk-toggleable__control:checked~label.sk-toggleable__label {background-color: #d4ebff;}#sk-container-id-4 input.sk-hidden--visually {border: 0;clip: rect(1px 1px 1px 1px);clip: rect(1px, 1px, 1px, 1px);height: 1px;margin: -1px;overflow: hidden;padding: 0;position: absolute;width: 1px;}#sk-container-id-4 div.sk-estimator {font-family: monospace;background-color: #f0f8ff;border: 1px dotted black;border-radius: 0.25em;box-sizing: border-box;margin-bottom: 0.5em;}#sk-container-id-4 div.sk-estimator:hover {background-color: #d4ebff;}#sk-container-id-4 div.sk-parallel-item::after {content: \"\";width: 100%;border-bottom: 1px solid gray;flex-grow: 1;}#sk-container-id-4 div.sk-label:hover label.sk-toggleable__label {background-color: #d4ebff;}#sk-container-id-4 div.sk-serial::before {content: \"\";position: absolute;border-left: 1px solid gray;box-sizing: border-box;top: 0;bottom: 0;left: 50%;z-index: 0;}#sk-container-id-4 div.sk-serial {display: flex;flex-direction: column;align-items: center;background-color: white;padding-right: 0.2em;padding-left: 0.2em;position: relative;}#sk-container-id-4 div.sk-item {position: relative;z-index: 1;}#sk-container-id-4 div.sk-parallel {display: flex;align-items: stretch;justify-content: center;background-color: white;position: relative;}#sk-container-id-4 div.sk-item::before, #sk-container-id-4 div.sk-parallel-item::before {content: \"\";position: absolute;border-left: 1px solid gray;box-sizing: border-box;top: 0;bottom: 0;left: 50%;z-index: -1;}#sk-container-id-4 div.sk-parallel-item {display: flex;flex-direction: column;z-index: 1;position: relative;background-color: white;}#sk-container-id-4 div.sk-parallel-item:first-child::after {align-self: flex-end;width: 50%;}#sk-container-id-4 div.sk-parallel-item:last-child::after {align-self: flex-start;width: 50%;}#sk-container-id-4 div.sk-parallel-item:only-child::after {width: 0;}#sk-container-id-4 div.sk-dashed-wrapped {border: 1px dashed gray;margin: 0 0.4em 0.5em 0.4em;box-sizing: border-box;padding-bottom: 0.4em;background-color: white;}#sk-container-id-4 div.sk-label label {font-family: monospace;font-weight: bold;display: inline-block;line-height: 1.2em;}#sk-container-id-4 div.sk-label-container {text-align: center;}#sk-container-id-4 div.sk-container {/* jupyter's `normalize.less` sets `[hidden] { display: none; }` but bootstrap.min.css set `[hidden] { display: none !important; }` so we also need the `!important` here to be able to override the default hidden behavior on the sphinx rendered scikit-learn.org. See: https://github.com/scikit-learn/scikit-learn/issues/21755 */display: inline-block !important;position: relative;}#sk-container-id-4 div.sk-text-repr-fallback {display: none;}</style><div id=\"sk-container-id-4\" class=\"sk-top-container\"><div class=\"sk-text-repr-fallback\"><pre>XGBClassifier(base_score=None, booster=None, callbacks=None,\n",
       "              colsample_bylevel=None, colsample_bynode=None,\n",
       "              colsample_bytree=None, early_stopping_rounds=None,\n",
       "              enable_categorical=False, eval_metric=None, feature_types=None,\n",
       "              gamma=None, gpu_id=None, grow_policy=None, importance_type=None,\n",
       "              interaction_constraints=None, learning_rate=None, max_bin=None,\n",
       "              max_cat_threshold=None, max_cat_to_onehot=None,\n",
       "              max_delta_step=None, max_depth=None, max_leaves=None,\n",
       "              min_child_weight=None, missing=nan, monotone_constraints=None,\n",
       "              n_estimators=100, n_jobs=None, num_parallel_tree=None,\n",
       "              predictor=None, random_state=None, ...)</pre><b>In a Jupyter environment, please rerun this cell to show the HTML representation or trust the notebook. <br />On GitHub, the HTML representation is unable to render, please try loading this page with nbviewer.org.</b></div><div class=\"sk-container\" hidden><div class=\"sk-item\"><div class=\"sk-estimator sk-toggleable\"><input class=\"sk-toggleable__control sk-hidden--visually\" id=\"sk-estimator-id-4\" type=\"checkbox\" checked><label for=\"sk-estimator-id-4\" class=\"sk-toggleable__label sk-toggleable__label-arrow\">XGBClassifier</label><div class=\"sk-toggleable__content\"><pre>XGBClassifier(base_score=None, booster=None, callbacks=None,\n",
       "              colsample_bylevel=None, colsample_bynode=None,\n",
       "              colsample_bytree=None, early_stopping_rounds=None,\n",
       "              enable_categorical=False, eval_metric=None, feature_types=None,\n",
       "              gamma=None, gpu_id=None, grow_policy=None, importance_type=None,\n",
       "              interaction_constraints=None, learning_rate=None, max_bin=None,\n",
       "              max_cat_threshold=None, max_cat_to_onehot=None,\n",
       "              max_delta_step=None, max_depth=None, max_leaves=None,\n",
       "              min_child_weight=None, missing=nan, monotone_constraints=None,\n",
       "              n_estimators=100, n_jobs=None, num_parallel_tree=None,\n",
       "              predictor=None, random_state=None, ...)</pre></div></div></div></div></div>"
      ],
      "text/plain": [
       "XGBClassifier(base_score=None, booster=None, callbacks=None,\n",
       "              colsample_bylevel=None, colsample_bynode=None,\n",
       "              colsample_bytree=None, early_stopping_rounds=None,\n",
       "              enable_categorical=False, eval_metric=None, feature_types=None,\n",
       "              gamma=None, gpu_id=None, grow_policy=None, importance_type=None,\n",
       "              interaction_constraints=None, learning_rate=None, max_bin=None,\n",
       "              max_cat_threshold=None, max_cat_to_onehot=None,\n",
       "              max_delta_step=None, max_depth=None, max_leaves=None,\n",
       "              min_child_weight=None, missing=nan, monotone_constraints=None,\n",
       "              n_estimators=100, n_jobs=None, num_parallel_tree=None,\n",
       "              predictor=None, random_state=None, ...)"
      ]
     },
     "execution_count": 63,
     "metadata": {},
     "output_type": "execute_result"
    }
   ],
   "source": [
    "model_xgb.fit(x_train, y_train)\n"
   ]
  },
  {
   "cell_type": "code",
   "execution_count": 64,
   "id": "36cb8738",
   "metadata": {},
   "outputs": [],
   "source": [
    "y_pred_xgb = model_xgb.predict(x_test)"
   ]
  },
  {
   "cell_type": "code",
   "execution_count": 65,
   "id": "0bc0054a",
   "metadata": {},
   "outputs": [
    {
     "name": "stdout",
     "output_type": "stream",
     "text": [
      "XGB Classifier\n",
      "\n",
      "Accuracy: 0.8639455782312925\n",
      "\n",
      "confusion matrix:\n",
      " [[244  11]\n",
      " [ 29  10]]\n",
      "\n",
      "classification report:\n",
      "               precision    recall  f1-score   support\n",
      "\n",
      "           0       0.89      0.96      0.92       255\n",
      "           1       0.48      0.26      0.33        39\n",
      "\n",
      "    accuracy                           0.86       294\n",
      "   macro avg       0.68      0.61      0.63       294\n",
      "weighted avg       0.84      0.86      0.85       294\n",
      "\n"
     ]
    }
   ],
   "source": [
    "print('XGB Classifier')\n",
    "print('\\nAccuracy:', accuracy_score(y_test, y_pred_xgb))\n",
    "print('\\nconfusion matrix:\\n', confusion_matrix(y_test, y_pred_xgb))\n",
    "print('\\nclassification report:\\n', classification_report(y_test, y_pred_xgb))"
   ]
  },
  {
   "cell_type": "code",
   "execution_count": null,
   "id": "428bb888",
   "metadata": {},
   "outputs": [],
   "source": [
    "The accuracy of the model is 0.8639455782312925. \n",
    "The confusion matrix shows that there are 244 true negatives \n",
    "and 11 false positives for class 0 (employees who did not leave) \n",
    "and 29 false negatives and 10 true positives for class 1 (employees who left). \n",
    "The classification report shows that the precision, recall, and f1-score for class 0 are 0.89, 0.96, and 0.92 respectively \n",
    "while those for class 1 are 0.48, 0.26, and 0.33 respectively."
   ]
  },
  {
   "cell_type": "code",
   "execution_count": 47,
   "id": "7f10d14b",
   "metadata": {},
   "outputs": [],
   "source": [
    "from sklearn.svm import SVC"
   ]
  },
  {
   "cell_type": "code",
   "execution_count": 48,
   "id": "66833950",
   "metadata": {},
   "outputs": [],
   "source": [
    "model_svc = SVC()"
   ]
  },
  {
   "cell_type": "code",
   "execution_count": 49,
   "id": "f12cfb85",
   "metadata": {},
   "outputs": [
    {
     "data": {
      "text/html": [
       "<style>#sk-container-id-3 {color: black;background-color: white;}#sk-container-id-3 pre{padding: 0;}#sk-container-id-3 div.sk-toggleable {background-color: white;}#sk-container-id-3 label.sk-toggleable__label {cursor: pointer;display: block;width: 100%;margin-bottom: 0;padding: 0.3em;box-sizing: border-box;text-align: center;}#sk-container-id-3 label.sk-toggleable__label-arrow:before {content: \"▸\";float: left;margin-right: 0.25em;color: #696969;}#sk-container-id-3 label.sk-toggleable__label-arrow:hover:before {color: black;}#sk-container-id-3 div.sk-estimator:hover label.sk-toggleable__label-arrow:before {color: black;}#sk-container-id-3 div.sk-toggleable__content {max-height: 0;max-width: 0;overflow: hidden;text-align: left;background-color: #f0f8ff;}#sk-container-id-3 div.sk-toggleable__content pre {margin: 0.2em;color: black;border-radius: 0.25em;background-color: #f0f8ff;}#sk-container-id-3 input.sk-toggleable__control:checked~div.sk-toggleable__content {max-height: 200px;max-width: 100%;overflow: auto;}#sk-container-id-3 input.sk-toggleable__control:checked~label.sk-toggleable__label-arrow:before {content: \"▾\";}#sk-container-id-3 div.sk-estimator input.sk-toggleable__control:checked~label.sk-toggleable__label {background-color: #d4ebff;}#sk-container-id-3 div.sk-label input.sk-toggleable__control:checked~label.sk-toggleable__label {background-color: #d4ebff;}#sk-container-id-3 input.sk-hidden--visually {border: 0;clip: rect(1px 1px 1px 1px);clip: rect(1px, 1px, 1px, 1px);height: 1px;margin: -1px;overflow: hidden;padding: 0;position: absolute;width: 1px;}#sk-container-id-3 div.sk-estimator {font-family: monospace;background-color: #f0f8ff;border: 1px dotted black;border-radius: 0.25em;box-sizing: border-box;margin-bottom: 0.5em;}#sk-container-id-3 div.sk-estimator:hover {background-color: #d4ebff;}#sk-container-id-3 div.sk-parallel-item::after {content: \"\";width: 100%;border-bottom: 1px solid gray;flex-grow: 1;}#sk-container-id-3 div.sk-label:hover label.sk-toggleable__label {background-color: #d4ebff;}#sk-container-id-3 div.sk-serial::before {content: \"\";position: absolute;border-left: 1px solid gray;box-sizing: border-box;top: 0;bottom: 0;left: 50%;z-index: 0;}#sk-container-id-3 div.sk-serial {display: flex;flex-direction: column;align-items: center;background-color: white;padding-right: 0.2em;padding-left: 0.2em;position: relative;}#sk-container-id-3 div.sk-item {position: relative;z-index: 1;}#sk-container-id-3 div.sk-parallel {display: flex;align-items: stretch;justify-content: center;background-color: white;position: relative;}#sk-container-id-3 div.sk-item::before, #sk-container-id-3 div.sk-parallel-item::before {content: \"\";position: absolute;border-left: 1px solid gray;box-sizing: border-box;top: 0;bottom: 0;left: 50%;z-index: -1;}#sk-container-id-3 div.sk-parallel-item {display: flex;flex-direction: column;z-index: 1;position: relative;background-color: white;}#sk-container-id-3 div.sk-parallel-item:first-child::after {align-self: flex-end;width: 50%;}#sk-container-id-3 div.sk-parallel-item:last-child::after {align-self: flex-start;width: 50%;}#sk-container-id-3 div.sk-parallel-item:only-child::after {width: 0;}#sk-container-id-3 div.sk-dashed-wrapped {border: 1px dashed gray;margin: 0 0.4em 0.5em 0.4em;box-sizing: border-box;padding-bottom: 0.4em;background-color: white;}#sk-container-id-3 div.sk-label label {font-family: monospace;font-weight: bold;display: inline-block;line-height: 1.2em;}#sk-container-id-3 div.sk-label-container {text-align: center;}#sk-container-id-3 div.sk-container {/* jupyter's `normalize.less` sets `[hidden] { display: none; }` but bootstrap.min.css set `[hidden] { display: none !important; }` so we also need the `!important` here to be able to override the default hidden behavior on the sphinx rendered scikit-learn.org. See: https://github.com/scikit-learn/scikit-learn/issues/21755 */display: inline-block !important;position: relative;}#sk-container-id-3 div.sk-text-repr-fallback {display: none;}</style><div id=\"sk-container-id-3\" class=\"sk-top-container\"><div class=\"sk-text-repr-fallback\"><pre>SVC()</pre><b>In a Jupyter environment, please rerun this cell to show the HTML representation or trust the notebook. <br />On GitHub, the HTML representation is unable to render, please try loading this page with nbviewer.org.</b></div><div class=\"sk-container\" hidden><div class=\"sk-item\"><div class=\"sk-estimator sk-toggleable\"><input class=\"sk-toggleable__control sk-hidden--visually\" id=\"sk-estimator-id-3\" type=\"checkbox\" checked><label for=\"sk-estimator-id-3\" class=\"sk-toggleable__label sk-toggleable__label-arrow\">SVC</label><div class=\"sk-toggleable__content\"><pre>SVC()</pre></div></div></div></div></div>"
      ],
      "text/plain": [
       "SVC()"
      ]
     },
     "execution_count": 49,
     "metadata": {},
     "output_type": "execute_result"
    }
   ],
   "source": [
    "model_svc.fit(x_train, y_train)"
   ]
  },
  {
   "cell_type": "code",
   "execution_count": 50,
   "id": "bf0e59d6",
   "metadata": {},
   "outputs": [],
   "source": [
    "y_pred_svc = model_svc.predict(x_test)"
   ]
  },
  {
   "cell_type": "code",
   "execution_count": 51,
   "id": "d9f5e217",
   "metadata": {
    "scrolled": true
   },
   "outputs": [
    {
     "name": "stdout",
     "output_type": "stream",
     "text": [
      "SVC\n",
      "\n",
      "Accuracy: 0.8843537414965986\n",
      "\n",
      "confusion matrix:\n",
      " [[255   0]\n",
      " [ 34   5]]\n",
      "\n",
      "classification report:\n",
      "               precision    recall  f1-score   support\n",
      "\n",
      "           0       0.88      1.00      0.94       255\n",
      "           1       1.00      0.13      0.23        39\n",
      "\n",
      "    accuracy                           0.88       294\n",
      "   macro avg       0.94      0.56      0.58       294\n",
      "weighted avg       0.90      0.88      0.84       294\n",
      "\n"
     ]
    }
   ],
   "source": [
    "#The code you provided is printing the accuracy score, confusion matrix and classification report for the SVC model. The accuracy score is the percentage of correctly classified samples. The confusion matrix shows the number of true positives, false positives, true negatives and false negatives. The classification report shows the precision, recall and f1-score for each class.\n",
    "print('SVC')\n",
    "print('\\nAccuracy:', accuracy_score(y_test, y_pred_svc))\n",
    "print('\\nconfusion matrix:\\n', confusion_matrix(y_test, y_pred_svc))\n",
    "print('\\nclassification report:\\n', classification_report(y_test, y_pred_svc))"
   ]
  },
  {
   "cell_type": "code",
   "execution_count": null,
   "id": "f06bcf4f",
   "metadata": {},
   "outputs": [],
   "source": [
    "\n",
    "#CONCLUSION ON EMPLOYEE ATTRITION BASED ON SVC RESULT\n",
    "The accuracy score of 0.88 means that the model is able to correctly classify 88% of the samples. \n",
    "The confusion matrix shows that there are 255 true positives (employees who stayed) and 5 false negatives (employees who left but were predicted to stay). \n",
    "The classification report shows that the precision for class 1 (employees who left) is 1.0, which means that all the employees who were predicted to leave actually left. \n",
    "The recall for class 1 is 0.13, which means that only 13% of the employees who actually left were correctly identified by the model."
   ]
  },
  {
   "cell_type": "code",
   "execution_count": null,
   "id": "49b11375",
   "metadata": {},
   "outputs": [],
   "source": []
  },
  {
   "cell_type": "code",
   "execution_count": null,
   "id": "1cedcb31",
   "metadata": {},
   "outputs": [],
   "source": [
    "import tensorflow as tf\n",
    "from tensorflow.keras.models import Sequential \n",
    "from tensorflow.keras.layers import Dense, Dropout"
   ]
  },
  {
   "cell_type": "code",
   "execution_count": null,
   "id": "7658c86e",
   "metadata": {},
   "outputs": [],
   "source": [
    "model = Sequential()\n",
    "\n",
    "model.add(Dense(32, activation='relu')),\n",
    "model.add(Dropout(0.5)),\n",
    "model.add(Dense(16, activation='relu')),\n",
    "model.add(Dropout(0.5)),\n",
    "\n",
    "model.add(Dense(1, activation='sigmoid'))\n",
    "\n",
    "\n",
    "model.compile(loss='binary_crossentropy', optimizer='adam')"
   ]
  },
  {
   "cell_type": "code",
   "execution_count": null,
   "id": "418279ea",
   "metadata": {},
   "outputs": [],
   "source": [
    "from tensorflow.keras.callbacks import EarlyStopping"
   ]
  },
  {
   "cell_type": "code",
   "execution_count": null,
   "id": "3b90abe7",
   "metadata": {},
   "outputs": [],
   "source": [
    "early_stop = EarlyStopping(\n",
    "    monitor='val_loss',\n",
    "    mode='min',\n",
    "    verbose=1,\n",
    "    patience=25\n",
    ")"
   ]
  },
  {
   "cell_type": "code",
   "execution_count": null,
   "id": "ac7e7b87",
   "metadata": {},
   "outputs": [],
   "source": [
    "model.fit(x=x_train, y=y_train, epochs=200, validation_data =(x_test, y_test), callbacks=[early_stop])"
   ]
  },
  {
   "cell_type": "code",
   "execution_count": null,
   "id": "ba8035f3",
   "metadata": {},
   "outputs": [],
   "source": [
    "losses = pd.DataFrame(model.history.history)"
   ]
  },
  {
   "cell_type": "code",
   "execution_count": null,
   "id": "31f2e7a2",
   "metadata": {},
   "outputs": [],
   "source": [
    "losses.plot()"
   ]
  },
  {
   "cell_type": "code",
   "execution_count": null,
   "id": "289cdb84",
   "metadata": {},
   "outputs": [],
   "source": [
    "y_pred = model.predict(x_test)"
   ]
  },
  {
   "cell_type": "code",
   "execution_count": null,
   "id": "f34013bd",
   "metadata": {},
   "outputs": [],
   "source": [
    "model.evaluate(x_test, y_test)"
   ]
  },
  {
   "cell_type": "code",
   "execution_count": null,
   "id": "fcbe1000",
   "metadata": {},
   "outputs": [],
   "source": [
    "y_pred = [ 1 if y>=0.5 else 0 for y in y_pred ]"
   ]
  },
  {
   "cell_type": "code",
   "execution_count": null,
   "id": "ff3ba12e",
   "metadata": {},
   "outputs": [],
   "source": [
    "print('\\nAccuracy:', accuracy_score(y_test, y_pred))\n",
    "print('\\nconfusion matrix:\\n', confusion_matrix(y_test, y_pred))\n",
    "print('\\nclassification report:\\n', classification_report(y_test, y_pred))"
   ]
  },
  {
   "cell_type": "code",
   "execution_count": null,
   "id": "bcf7640b",
   "metadata": {},
   "outputs": [],
   "source": []
  },
  {
   "cell_type": "code",
   "execution_count": null,
   "id": "bf3465ac",
   "metadata": {},
   "outputs": [],
   "source": []
  },
  {
   "cell_type": "code",
   "execution_count": null,
   "id": "0e5363b8",
   "metadata": {},
   "outputs": [],
   "source": []
  },
  {
   "cell_type": "code",
   "execution_count": null,
   "id": "91fd2bb6",
   "metadata": {},
   "outputs": [],
   "source": []
  },
  {
   "cell_type": "code",
   "execution_count": null,
   "id": "1da32f14",
   "metadata": {},
   "outputs": [],
   "source": [
    "target=df.iloc[:,1].value_counts()\n",
    "plt.pie(target,labels=[\"Attrited\",\"Not Attrited\"],autopct = \"%0.2f\",shadow = True,startangle = 140)\n",
    "plt.title = (\"Attrition\")\n",
    "plt.legend(loc = \"lower left\")\n",
    "plt.show()\n",
    "df['Attrition'].value_counts().plot.bar()"
   ]
  },
  {
   "cell_type": "code",
   "execution_count": null,
   "id": "2a991b53",
   "metadata": {},
   "outputs": [],
   "source": [
    "target=df.iloc[:,4].value_counts()\n",
    "plt.pie(target,labels=[\"Research & Development\",\"Sales\",\"Human Resources\"],autopct = \"%0.2f\",shadow = True,startangle = 140)\n",
    "plt.title = (\"Department\")\n",
    "plt.legend(loc = \"lower left\")\n",
    "plt.show()\n",
    "#df['Department'].value_counts().plot.bar()\n",
    "sns.countplot(x='Department', hue='Attrition', data=df);"
   ]
  },
  {
   "cell_type": "code",
   "execution_count": null,
   "id": "5f11de1a",
   "metadata": {},
   "outputs": [],
   "source": [
    "target=df.iloc[:,11].value_counts()\n",
    "plt.pie(target,labels=[\"male\",\"female\"],autopct = \"%0.2f\",shadow = True,startangle = 140)\n",
    "plt.title = (\"GENDER\")\n",
    "plt.legend(loc = \"lower left\")\n",
    "plt.show()\n",
    "#df['Gender'].value_counts().plot.bar()\n",
    "sns.countplot(x='Attrition', hue='Gender', data=df);\n"
   ]
  },
  {
   "cell_type": "code",
   "execution_count": null,
   "id": "0bbc214a",
   "metadata": {},
   "outputs": [],
   "source": [
    "target=df.iloc[:,17].value_counts()\n",
    "plt.pie(target,labels=[\"single\",\"married\",\"divorsed\"],autopct = \"%0.2f\",shadow = True,startangle = 140)\n",
    "plt.title = (\"MaritalStatus\")\n",
    "plt.legend(loc = \"lower left\")\n",
    "plt.show()\n",
    "sns.countplot(x='Attrition', hue= 'MaritalStatus', data = df)\n",
    "plt.show()"
   ]
  },
  {
   "cell_type": "code",
   "execution_count": null,
   "id": "394561a3",
   "metadata": {},
   "outputs": [],
   "source": [
    "sns.countplot(x='PerformanceRating', hue= 'Attrition', data = df)\n",
    "plt.show()\n"
   ]
  },
  {
   "cell_type": "code",
   "execution_count": null,
   "id": "cbf005f0",
   "metadata": {},
   "outputs": [],
   "source": [
    "plt.figure(figsize=(50,40))\n",
    "sns.countplot(x='Age', hue='Attrition', data=df);\n"
   ]
  },
  {
   "cell_type": "code",
   "execution_count": null,
   "id": "339e5bfa",
   "metadata": {},
   "outputs": [],
   "source": [
    "plt.figure(figsize=(8,6))\n",
    "sns.countplot(x='EnvironmentSatisfaction', hue='Attrition', data=df);\n"
   ]
  },
  {
   "cell_type": "code",
   "execution_count": null,
   "id": "cfcfa065",
   "metadata": {},
   "outputs": [],
   "source": [
    "target=df.iloc[:,22].value_counts()\n",
    "plt.pie(target,labels=[\"yes\",\"no\"],autopct = \"%0.2f\",shadow = True,startangle = 140)\n",
    "plt.title = (\"MaritalStatus\")\n",
    "plt.legend(loc = \"lower left\")\n",
    "plt.show()\n",
    "sns.countplot(x='OverTime', hue='Attrition', data=df);\n"
   ]
  },
  {
   "cell_type": "code",
   "execution_count": null,
   "id": "4e2387f8",
   "metadata": {},
   "outputs": [],
   "source": [
    "plt.figure(figsize = (30,20))        # Size of the figure\n",
    "sns.heatmap(df.corr(),annot = True)\n",
    "plt.show()"
   ]
  },
  {
   "cell_type": "code",
   "execution_count": null,
   "id": "7982a060",
   "metadata": {},
   "outputs": [],
   "source": [
    "# Plotting the numerical variables in histograms to see their distribution.\n",
    "df.hist(figsize=(20,20))\n",
    "plt.show()"
   ]
  },
  {
   "cell_type": "code",
   "execution_count": null,
   "id": "3aa7a543",
   "metadata": {},
   "outputs": [],
   "source": [
    "import matplotlib.pyplot as plt\n",
    "import numpy as np\n",
    "import seaborn as sns\n",
    "from sklearn.preprocessing import StandardScaler\n",
    "from sklearn.preprocessing import LabelEncoder\n",
    "from sklearn.linear_model import LogisticRegression\n",
    "from sklearn.model_selection import train_test_split\n",
    "from sklearn.metrics import confusion_matrix,accuracy_score,classification_report"
   ]
  },
  {
   "cell_type": "code",
   "execution_count": null,
   "id": "1cc57959",
   "metadata": {},
   "outputs": [],
   "source": [
    "df.isnull().sum()"
   ]
  },
  {
   "cell_type": "code",
   "execution_count": null,
   "id": "78b692fd",
   "metadata": {},
   "outputs": [],
   "source": [
    "df.describe()"
   ]
  },
  {
   "cell_type": "code",
   "execution_count": null,
   "id": "b387ff0a",
   "metadata": {},
   "outputs": [],
   "source": [
    "df.describe(include=object).T"
   ]
  },
  {
   "cell_type": "code",
   "execution_count": null,
   "id": "90cbb8cd",
   "metadata": {},
   "outputs": [],
   "source": [
    "df.shape"
   ]
  },
  {
   "cell_type": "code",
   "execution_count": null,
   "id": "41fee1da",
   "metadata": {},
   "outputs": [],
   "source": [
    "df.info()"
   ]
  },
  {
   "cell_type": "code",
   "execution_count": null,
   "id": "329e38bd",
   "metadata": {},
   "outputs": [],
   "source": [
    "varlist =  ['Attrition','OverTime']"
   ]
  },
  {
   "cell_type": "code",
   "execution_count": null,
   "id": "ed97adde",
   "metadata": {},
   "outputs": [],
   "source": [
    "def binary_map(x):\n",
    "    return x.map({'Yes': 1, \"No\": 0})\n",
    "df[varlist] = df[varlist].apply(binary_map)"
   ]
  },
  {
   "cell_type": "code",
   "execution_count": null,
   "id": "8ab976af",
   "metadata": {},
   "outputs": [],
   "source": [
    "pd.pandas.set_option(\"display.max_columns\",None)\n",
    "df.head()"
   ]
  },
  {
   "cell_type": "code",
   "execution_count": null,
   "id": "de7aebed",
   "metadata": {},
   "outputs": [],
   "source": [
    "label=LabelEncoder()\n",
    "BusinessTravel=label.fit_transform(df['BusinessTravel'])\n",
    "Department=label.fit_transform(df['Department'])\n",
    "EducationField=label.fit_transform(df['EducationField'])\n",
    "Gender=label.fit_transform(df['Gender'])\n",
    "JobRole=label.fit_transform(df['JobRole'])\n",
    "MaritalStatus=label.fit_transform(df['MaritalStatus'])\n",
    "Over18=label.fit_transform(df['Over18'])\n",
    "df['BusinessTravel']=BusinessTravel\n",
    "df['Department']=Department\n",
    "df['EducationField']=EducationField\n",
    "df['Gender']=Gender\n",
    "df['JobRole']=JobRole\n",
    "df['MaritalStatus']=MaritalStatus\n",
    "df['Over18']=Over18\n"
   ]
  },
  {
   "cell_type": "code",
   "execution_count": null,
   "id": "5ed794c2",
   "metadata": {},
   "outputs": [],
   "source": [
    "pd.pandas.set_option(\"display.max_columns\",None)\n",
    "df.head()"
   ]
  },
  {
   "cell_type": "code",
   "execution_count": null,
   "id": "a1308ffb",
   "metadata": {},
   "outputs": [],
   "source": [
    "X=df.drop([\"Attrition\"],axis=1)\n",
    "X.head()"
   ]
  },
  {
   "cell_type": "code",
   "execution_count": null,
   "id": "9ef52c5c",
   "metadata": {},
   "outputs": [],
   "source": [
    "y=df['Attrition']\n",
    "y.head()"
   ]
  },
  {
   "cell_type": "code",
   "execution_count": null,
   "id": "5eac7298",
   "metadata": {},
   "outputs": [],
   "source": [
    "sc=StandardScaler()\n",
    "x=sc.fit_transform(X)"
   ]
  },
  {
   "cell_type": "code",
   "execution_count": null,
   "id": "ec701036",
   "metadata": {},
   "outputs": [],
   "source": [
    "xtrain, xtest, ytrain, ytest = train_test_split(x, y, train_size=0.7, test_size=0.3, random_state=100)"
   ]
  },
  {
   "cell_type": "code",
   "execution_count": null,
   "id": "fc700b2b",
   "metadata": {},
   "outputs": [],
   "source": [
    "xtrain"
   ]
  },
  {
   "cell_type": "code",
   "execution_count": null,
   "id": "264fb429",
   "metadata": {},
   "outputs": [],
   "source": [
    "model1=LogisticRegression()\n",
    "model1.fit(xtrain,ytrain)"
   ]
  },
  {
   "cell_type": "code",
   "execution_count": null,
   "id": "661048f4",
   "metadata": {},
   "outputs": [],
   "source": [
    "ypred1=model1.predict(xtest)"
   ]
  },
  {
   "cell_type": "code",
   "execution_count": null,
   "id": "1e9d9690",
   "metadata": {},
   "outputs": [],
   "source": [
    "ypred1"
   ]
  },
  {
   "cell_type": "code",
   "execution_count": null,
   "id": "e0a0e3c6",
   "metadata": {},
   "outputs": [],
   "source": [
    "cm1=confusion_matrix(ytest,ypred1)"
   ]
  },
  {
   "cell_type": "code",
   "execution_count": null,
   "id": "974cec7e",
   "metadata": {},
   "outputs": [],
   "source": [
    "cm1"
   ]
  },
  {
   "cell_type": "code",
   "execution_count": null,
   "id": "717e91de",
   "metadata": {},
   "outputs": [],
   "source": [
    "ac1=accuracy_score(ytest,ypred1)"
   ]
  },
  {
   "cell_type": "code",
   "execution_count": null,
   "id": "e84cba9d",
   "metadata": {},
   "outputs": [],
   "source": [
    "ac1"
   ]
  },
  {
   "cell_type": "code",
   "execution_count": null,
   "id": "fd2209f4",
   "metadata": {},
   "outputs": [],
   "source": [
    "cr1=classification_report(ytest,ypred1)\n"
   ]
  },
  {
   "cell_type": "code",
   "execution_count": null,
   "id": "53b67571",
   "metadata": {},
   "outputs": [],
   "source": [
    "cr1"
   ]
  },
  {
   "cell_type": "code",
   "execution_count": null,
   "id": "0a405de4",
   "metadata": {},
   "outputs": [],
   "source": [
    "from sklearn.tree import DecisionTreeClassifier\n",
    "model2=DecisionTreeClassifier(criterion=\"gini\")\n",
    "model2.fit(xtrain,ytrain)\n",
    "ypred2=model2.predict(xtest)\n",
    "cm2=confusion_matrix(ytest,ypred2)"
   ]
  },
  {
   "cell_type": "code",
   "execution_count": null,
   "id": "0a4d7562",
   "metadata": {},
   "outputs": [],
   "source": [
    "cm2"
   ]
  },
  {
   "cell_type": "code",
   "execution_count": null,
   "id": "c72fa04f",
   "metadata": {},
   "outputs": [],
   "source": [
    "ac2=accuracy_score(ytest,ypred2)\n",
    "ac2"
   ]
  },
  {
   "cell_type": "code",
   "execution_count": null,
   "id": "3273490f",
   "metadata": {},
   "outputs": [],
   "source": [
    "classification_report(ytest,ypred2)"
   ]
  },
  {
   "cell_type": "code",
   "execution_count": null,
   "id": "14ee4d58",
   "metadata": {},
   "outputs": [],
   "source": [
    "from sklearn.ensemble import RandomForestClassifier\n",
    "model3=RandomForestClassifier(n_estimators=5,criterion='entropy')\n",
    "model3.fit(xtrain,ytrain)\n",
    "ypred3=model3.predict(xtest)\n",
    "cm3=confusion_matrix(ytest,ypred3)\n",
    "cm3"
   ]
  },
  {
   "cell_type": "code",
   "execution_count": null,
   "id": "ba8c7a0f",
   "metadata": {},
   "outputs": [],
   "source": [
    "ac3=accuracy_score(ytest,ypred3)\n",
    "ac3"
   ]
  },
  {
   "cell_type": "code",
   "execution_count": null,
   "id": "3037d67a",
   "metadata": {},
   "outputs": [],
   "source": [
    "classification_report(ytest,ypred3)"
   ]
  },
  {
   "cell_type": "code",
   "execution_count": null,
   "id": "7a2c9265",
   "metadata": {},
   "outputs": [],
   "source": [
    "from sklearn.svm import SVC\n",
    "model4=SVC(kernel=\"linear\",random_state=0)\n",
    "model4.fit(xtrain,ytrain)\n",
    "ypred4=model4.predict(xtest)\n",
    "cm4=confusion_matrix(ytest,ypred4)\n",
    "cm4"
   ]
  },
  {
   "cell_type": "code",
   "execution_count": null,
   "id": "06d23d79",
   "metadata": {},
   "outputs": [],
   "source": [
    "ac4=accuracy_score(ytest,ypred4)\n",
    "ac4"
   ]
  },
  {
   "cell_type": "code",
   "execution_count": null,
   "id": "0416341e",
   "metadata": {},
   "outputs": [],
   "source": [
    "classification_report(ytest,ypred4)"
   ]
  },
  {
   "cell_type": "code",
   "execution_count": null,
   "id": "d34569fb",
   "metadata": {},
   "outputs": [],
   "source": [
    "model5=SVC(kernel='rbf',random_state=0)\n",
    "model5.fit(xtrain,ytrain)\n",
    "ypred5=model5.predict(xtest)\n",
    "confusion_matrix(ytest,ypred5)\n"
   ]
  },
  {
   "cell_type": "code",
   "execution_count": null,
   "id": "3dd72b87",
   "metadata": {},
   "outputs": [],
   "source": [
    "accuracy_score(ytest,ypred5)"
   ]
  },
  {
   "cell_type": "code",
   "execution_count": null,
   "id": "e4c4be27",
   "metadata": {},
   "outputs": [],
   "source": [
    "classification_report(ytest,ypred5)"
   ]
  },
  {
   "cell_type": "code",
   "execution_count": null,
   "id": "69b3473b",
   "metadata": {},
   "outputs": [],
   "source": []
  },
  {
   "cell_type": "code",
   "execution_count": null,
   "id": "564b3839",
   "metadata": {},
   "outputs": [],
   "source": []
  },
  {
   "cell_type": "code",
   "execution_count": null,
   "id": "dd7836e5",
   "metadata": {},
   "outputs": [],
   "source": []
  },
  {
   "cell_type": "code",
   "execution_count": null,
   "id": "bee55ce7",
   "metadata": {},
   "outputs": [],
   "source": []
  },
  {
   "cell_type": "code",
   "execution_count": null,
   "id": "2069a1db",
   "metadata": {},
   "outputs": [],
   "source": [
    "#create list of categorical columns\n",
    "categorical_columns = ['Attrition', 'BusinessTravel', 'Department', 'EducationField', 'Gender', 'JobRole', 'MaritalStatus', 'Over18', 'OverTime']\n",
    "\n",
    "#check for unique value in categorical columns\n",
    "for column in categorical_columns:\n",
    "    unique_values = emp_data_df[column].unique()\n",
    "    print(f\"Unique values in column '{column}': {unique_values}\")"
   ]
  },
  {
   "cell_type": "code",
   "execution_count": null,
   "id": "57586beb",
   "metadata": {},
   "outputs": [],
   "source": [
    "#create a copy of a dataframe for encoded data\n",
    "encoded_emp_data_df = emp_data_df.copy()\n",
    "\n",
    "#create dictionary to store the label encoders\n",
    "label_encoders = {}\n",
    "\n",
    "#fit and perform label encoding for each categorical column\n",
    "for column in categorical_columns:\n",
    "    label_encoder = LabelEncoder()\n",
    "    encoded_emp_data_df[column] = label_encoder.fit_transform(encoded_emp_data_df[column])\n",
    "    label_encoders[column] = label_encoder\n",
    "    #check encoded data head\n",
    "encoded_emp_data_df.head()"
   ]
  },
  {
   "cell_type": "code",
   "execution_count": null,
   "id": "b97a8773",
   "metadata": {},
   "outputs": [],
   "source": [
    "#check the mapping of original labels and encoded values\n",
    "for col, map_dict in label_encoders.items():\n",
    "    print(f\"Column '{col}':\")\n",
    "    for label, encoded_value in zip(map_dict.classes_, map_dict.transform(map_dict.classes_)):\n",
    "        print(f'{label}: {encoded_value}')"
   ]
  },
  {
   "cell_type": "code",
   "execution_count": null,
   "id": "5f94a19e",
   "metadata": {},
   "outputs": [],
   "source": [
    "#calculate attrition count\n",
    "attrition_counts = emp_data_df['Attrition'].value_counts()\n",
    "\n",
    "#create figure with pie chart\n",
    "fig = px.pie(names=attrition_counts.index, values=attrition_counts)\n",
    "\n",
    "#update layout\n",
    "fig.update_layout(\n",
    "    title='Employee Attrition Size',\n",
    "    template='seaborn'\n",
    ")\n",
    "\n",
    "#show figure\n",
    "fig.show()"
   ]
  },
  {
   "cell_type": "code",
   "execution_count": null,
   "id": "1d1ee628",
   "metadata": {},
   "outputs": [],
   "source": [
    "#create correlation matrix\n",
    "correlation_matrix = encoded_emp_data_df.corr()\n",
    "\n",
    "#create figure with heatmap\n",
    "fig = px.imshow(\n",
    "    correlation_matrix.values, \n",
    "    x=correlation_matrix.columns, y=correlation_matrix.columns,\n",
    "    zmin=-0.8, zmax=0.8, \n",
    "    color_continuous_scale='RdBu', \n",
    "    aspect='auto'\n",
    ")"
   ]
  },
  {
   "cell_type": "code",
   "execution_count": null,
   "id": "5bea624c",
   "metadata": {},
   "outputs": [],
   "source": [
    "#update layout\n",
    "fig.update_layout(\n",
    "    title='Correlation Heatmap',\n",
    "    height=800,\n",
    "    template='seaborn'\n",
    ")\n",
    "\n",
    "#show figure\n",
    "fig.show()"
   ]
  },
  {
   "cell_type": "code",
   "execution_count": null,
   "id": "b4b95e9a",
   "metadata": {},
   "outputs": [],
   "source": [
    "#define dictionary for mapping label\n",
    "education_mapping = {1: 'Below College', 2: 'College', 3: 'Bachelor', 4: 'Master', 5: 'Doctor'}\n",
    "\n",
    "#replace values in specified columns\n",
    "emp_data_df['Education'] = emp_data_df['Education'].replace(education_mapping)\n",
    "\n",
    "#check data head\n",
    "emp_data_df.head()"
   ]
  },
  {
   "cell_type": "code",
   "execution_count": null,
   "id": "c5e83060",
   "metadata": {},
   "outputs": [],
   "source": [
    "#group attrition by age\n",
    "attrition_age = pd.pivot_table(emp_data_df, index='Age', columns='Attrition', aggfunc='size')\n",
    "\n",
    "#check data\n",
    "attrition_age.head()"
   ]
  },
  {
   "cell_type": "code",
   "execution_count": null,
   "id": "2480ece6",
   "metadata": {},
   "outputs": [],
   "source": [
    "#find attrition in environment satisfaction, job involvementm and job level\n",
    "attrition_environment = pd.pivot_table(emp_data_df, index='EnvironmentSatisfaction', columns='Attrition', aggfunc='size')\n",
    "attrition_involvement = pd.pivot_table(emp_data_df, index='JobInvolvement', columns='Attrition', aggfunc='size')\n",
    "attrition_joblevel = pd.pivot_table(emp_data_df, index='JobLevel', columns='Attrition', aggfunc='size')\n",
    "attrition_jobsatisfaction = pd.pivot_table(emp_data_df, index='JobSatisfaction', columns='Attrition', aggfunc='size')"
   ]
  },
  {
   "cell_type": "code",
   "execution_count": null,
   "id": "cd081274",
   "metadata": {},
   "outputs": [],
   "source": [
    "#find attrition by marital status\n",
    "attrition_marital = pd.pivot_table(emp_data_df, index='MaritalStatus', columns='Attrition', aggfunc='size')\n",
    "\n",
    "#calculate the precentage of attrition\n",
    "attrition_marital['Yes_percent'] = attrition_marital['Yes'] / (attrition_marital['Yes'] + attrition_marital['No']) * 100\n",
    "attrition_marital['No_percent'] = attrition_marital['No'] / (attrition_marital['Yes'] + attrition_marital['No']) * 100\n",
    "\n",
    "#check data\n",
    "attrition_marital"
   ]
  },
  {
   "cell_type": "code",
   "execution_count": null,
   "id": "87ecc4e8",
   "metadata": {},
   "outputs": [],
   "source": [
    "#find attrition by monthly income\n",
    "attrition_monthincome = emp_data_df[['Attrition', 'MonthlyIncome']]\n",
    "\n",
    "#check data\n",
    "attrition_monthincome.head()"
   ]
  },
  {
   "cell_type": "code",
   "execution_count": null,
   "id": "d15ab0a9",
   "metadata": {},
   "outputs": [],
   "source": [
    "#create a cross-tab of attrition and overtime\n",
    "attrition_overtime = pd.crosstab(emp_data_df['Attrition'], emp_data_df['OverTime'])\n",
    "\n",
    "#check data\n",
    "attrition_overtime"
   ]
  },
  {
   "cell_type": "code",
   "execution_count": null,
   "id": "15f92ec6",
   "metadata": {},
   "outputs": [],
   "source": [
    "#find count of attrition by stock option level\n",
    "attrition_stockoption = pd.pivot_table(emp_data_df, index='Attrition', columns='StockOptionLevel', aggfunc='size')\n",
    "\n",
    "#find count of stock option level\n",
    "occurrence_stockoption = emp_data_df['StockOptionLevel'].value_counts()\n",
    "\n",
    "#check data\n",
    "attrition_stockoption"
   ]
  },
  {
   "cell_type": "code",
   "execution_count": null,
   "id": "4cf14d84",
   "metadata": {},
   "outputs": [],
   "source": [
    "#find total working years\n",
    "attrition_totalworkyear = emp_data_df[['Attrition', 'TotalWorkingYears']]\n",
    "attrition_yearsatcompany = emp_data_df[['Attrition', 'YearsAtCompany']]\n",
    "attrition_yearscurrrole = emp_data_df[['Attrition', 'YearsInCurrentRole']]\n",
    "attrition_yearscurrmgr = emp_data_df[['Attrition', 'YearsWithCurrManager']]\n",
    "\n",
    "#create list of dataframe\n",
    "attrition_yeardata = [attrition_totalworkyear, attrition_yearsatcompany, attrition_yearscurrrole, attrition_yearscurrmgr]\n",
    "\n",
    "#check each of the data\n",
    "for i, data in enumerate(attrition_yeardata):\n",
    "    display(data.head(3))\n",
    "    print('-' * 80)"
   ]
  },
  {
   "cell_type": "code",
   "execution_count": null,
   "id": "a8f78dea",
   "metadata": {},
   "outputs": [],
   "source": [
    "#filter data to only include the listed features previously\n",
    "columns = [\n",
    "    'Age', 'EnvironmentSatisfaction', 'JobInvolvement', 'JobLevel', 'JobSatisfaction', \n",
    "    'MaritalStatus', 'MonthlyIncome', 'OverTime', 'StockOptionLevel', 'TotalWorkingYears', \n",
    "    'YearsAtCompany', 'YearsInCurrentRole', 'YearsWithCurrManager', 'Attrition'\n",
    "]\n",
    "\n",
    "#create a copy of dataframe with selected columns\n",
    "ml_data_df = pd.DataFrame(encoded_emp_data_df[columns])\n",
    "ml_data_df.head()"
   ]
  },
  {
   "cell_type": "code",
   "execution_count": null,
   "id": "d6123e96",
   "metadata": {},
   "outputs": [],
   "source": [
    "#select X, y data as target data\n",
    "X = ml_data_df.drop('Attrition', axis=1)\n",
    "y = ml_data_df['Attrition']\n",
    "\n",
    "#check data shape\n",
    "print(X.shape, y.shape)"
   ]
  },
  {
   "cell_type": "code",
   "execution_count": null,
   "id": "e22f7fc7",
   "metadata": {},
   "outputs": [],
   "source": [
    "#Scale X data\n",
    "minmax_scaler = MinMaxScaler()\n",
    "X_scaled = minmax_scaler.fit_transform(X)\n",
    "\n",
    "#create instance of ExtraTreesClassifier\n",
    "extra_trees = ExtraTreesClassifier()\n",
    "extra_trees.fit(X_scaled, y)\n",
    "\n",
    "#feature importance\n",
    "feat_importance = extra_trees.feature_importances_\n",
    "feat_importance"
   ]
  },
  {
   "cell_type": "code",
   "execution_count": null,
   "id": "d86225d5",
   "metadata": {},
   "outputs": [],
   "source": [
    "#sort feature in ascending\n",
    "sorted_indices = np.argsort(feat_importance)\n",
    "sorted_feat_importance = feat_importance[sorted_indices]\n",
    "sorted_columns = X.columns[sorted_indices]\n",
    "\n",
    "#create figure\n",
    "fig = go.Figure()\n",
    "\n",
    "#create bar trace\n",
    "trace = go.Bar(\n",
    "    x=sorted_feat_importance,\n",
    "    y=sorted_columns,\n",
    "    orientation='h'\n",
    ")"
   ]
  },
  {
   "cell_type": "code",
   "execution_count": null,
   "id": "98104804",
   "metadata": {},
   "outputs": [],
   "source": [
    "#add trace to figure\n",
    "fig.add_trace(trace)\n",
    "\n",
    "#update layout\n",
    "fig.update_layout(\n",
    "    title='Feature Importance',\n",
    "    xaxis=dict(title='Importance'),\n",
    "    yaxis=dict(title='Feature'),\n",
    "    height=600,\n",
    "    margin=dict(l=150)\n",
    ")\n",
    "\n",
    "#show figure\n",
    "fig.show()"
   ]
  },
  {
   "cell_type": "code",
   "execution_count": null,
   "id": "440932b0",
   "metadata": {},
   "outputs": [],
   "source": [
    "#split data into train and test set using scaled data.\n",
    "X_train_scaled, X_test_scaled, y_train, y_test = train_test_split(X_scaled, y, test_size=0.2, random_state=42)\n",
    "print('training shape: ', X_train_scaled.shape, y_train.shape)\n",
    "print('testing shape: ', X_test_scaled.shape, y_test.shape)"
   ]
  },
  {
   "cell_type": "code",
   "execution_count": null,
   "id": "6166730f",
   "metadata": {},
   "outputs": [],
   "source": [
    "#create instance for each classifier\n",
    "lr_classifier = LogisticRegression()\n",
    "svc_classifier = SVC()\n",
    "kn_classifier = KNeighborsClassifier()\n",
    "dt_classifier = DecisionTreeClassifier()\n",
    "rf_classifier = RandomForestClassifier()\n",
    "\n",
    "#define list of classifier\n",
    "classifier_list = [lr_classifier, svc_classifier, kn_classifier, dt_classifier, rf_classifier]\n",
    "\n",
    "#check the accuracy score on scalled features \n",
    "for classifier in classifier_list:\n",
    "    #fit data into classifier\n",
    "    classifier.fit(X_train_scaled, y_train)\n",
    "    "
   ]
  },
  {
   "cell_type": "code",
   "execution_count": null,
   "id": "49faf49c",
   "metadata": {},
   "outputs": [],
   "source": [
    "#predict test data\n",
    "    pred = classifier.predict(X_test_scaled)\n",
    "    \n",
    "    #check the resulting accuracy\n",
    "    print(classifier.__class__.__name__, ' ', accuracy_score(y_test,pred))\n",
    "    "
   ]
  },
  {
   "cell_type": "code",
   "execution_count": null,
   "id": "9787e6d5",
   "metadata": {},
   "outputs": [],
   "source": [
    "#define the list of classifiers and their names for the VotingClassifier\n",
    "classifiers = [\n",
    "    ('lgclf', lr_classifier),\n",
    "    ('svc', svc_classifier),\n",
    "    ('knn', kn_classifier),\n",
    "    ('dt', dt_classifier),\n",
    "    ('rf', rf_classifier)\n",
    "]\n",
    "\n",
    "#create instance of VotingClassifier\n",
    "voting_classifier = VotingClassifier(classifiers, voting='hard')"
   ]
  },
  {
   "cell_type": "code",
   "execution_count": null,
   "id": "3ebe712d",
   "metadata": {},
   "outputs": [],
   "source": [
    "#fit on training data\n",
    "voting_classifier.fit(X_train_scaled, y_train)\n",
    "\n",
    "#predict on test data\n",
    "y_pred = voting_classifier.predict(X_test_scaled)\n",
    "\n",
    "#calculate and print the accuracy\n",
    "print('Accuracy: ', accuracy_score(y_test, y_pred))"
   ]
  },
  {
   "cell_type": "code",
   "execution_count": null,
   "id": "c0f4e74f",
   "metadata": {},
   "outputs": [],
   "source": [
    "#save model to a file\n",
    "with open('voting_classifier.pkl', 'wb') as file:\n",
    "    pickle.dump(voting_classifier, file)\n",
    "    print(f'{file} exported')"
   ]
  },
  {
   "cell_type": "code",
   "execution_count": null,
   "id": "7c5454b2",
   "metadata": {},
   "outputs": [],
   "source": [
    "#get new data only for a non-attrition employee\n",
    "new_test_df = ml_data_df[ml_data_df['Attrition'] == 0].copy()\n",
    "new_test_df = new_test_df.drop('Attrition', axis=1)\n",
    "\n",
    "#apply scaling to the new test data\n",
    "new_test_scaled = minmax_scaler.transform(new_test_df)\n",
    "\n",
    "#check new test df\n",
    "new_test_df.shape"
   ]
  },
  {
   "cell_type": "code",
   "execution_count": null,
   "id": "e2cf46fc",
   "metadata": {},
   "outputs": [],
   "source": [
    "#load saved model\n",
    "with open('voting_classifier.pkl', 'rb') as file:\n",
    "    loaded_model = pickle.load(file)\n",
    "\n",
    "#make prediction on new data\n",
    "predictions = loaded_model.predict(new_test_scaled)\n",
    "\n",
    "#print prediction\n",
    "print(predictions.shape)"
   ]
  },
  {
   "cell_type": "code",
   "execution_count": null,
   "id": "b94ca703",
   "metadata": {},
   "outputs": [],
   "source": [
    "#get employee that is yet to attrition\n",
    "employee_retain = emp_data_df[emp_data_df['Attrition'] == 'No'].copy()\n",
    "employee_retain['Predictions'] = predictions\n",
    "\n",
    "#check employee predicted as attrition = yes/1\n",
    "yes_attrition = employee_retain[employee_retain['Predictions'] == 1]\n",
    "yes_attrition"
   ]
  },
  {
   "cell_type": "code",
   "execution_count": null,
   "id": "0deb1a4b",
   "metadata": {},
   "outputs": [],
   "source": [
    "#select necessary feature for decision making\n",
    "column_metric = ['Age', 'PerformanceRating', 'JobInvolvement', 'Education', 'StandardHours', 'YearsAtCompany', 'MonthlyIncome', 'Predictions']\n",
    "employee_rating = yes_attrition[column_metric]\n",
    "employee_rating"
   ]
  },
  {
   "cell_type": "code",
   "execution_count": null,
   "id": "256e20a3",
   "metadata": {},
   "outputs": [],
   "source": []
  },
  {
   "cell_type": "code",
   "execution_count": null,
   "id": "4e378f79",
   "metadata": {},
   "outputs": [],
   "source": []
  },
  {
   "cell_type": "code",
   "execution_count": null,
   "id": "3e1d94cb",
   "metadata": {},
   "outputs": [],
   "source": []
  }
 ],
 "metadata": {
  "kernelspec": {
   "display_name": "Python 3 (ipykernel)",
   "language": "python",
   "name": "python3"
  },
  "language_info": {
   "codemirror_mode": {
    "name": "ipython",
    "version": 3
   },
   "file_extension": ".py",
   "mimetype": "text/x-python",
   "name": "python",
   "nbconvert_exporter": "python",
   "pygments_lexer": "ipython3",
   "version": "3.10.9"
  }
 },
 "nbformat": 4,
 "nbformat_minor": 5
}
