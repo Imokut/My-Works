{
 "cells": [
  {
   "cell_type": "code",
   "execution_count": 1,
   "metadata": {
    "collapsed": true,
    "ExecuteTime": {
     "end_time": "2023-05-30T17:31:22.292019600Z",
     "start_time": "2023-05-30T17:31:17.047687600Z"
    }
   },
   "outputs": [],
   "source": [
    "import pandas as pd"
   ]
  },
  {
   "cell_type": "code",
   "execution_count": 3,
   "outputs": [],
   "source": [
    "df = pd.read_csv('FoodBalanceSheets_E_Africa_NOFLAG.csv', encoding = \"latin-1\")"
   ],
   "metadata": {
    "collapsed": false,
    "ExecuteTime": {
     "end_time": "2023-05-30T17:32:37.837837900Z",
     "start_time": "2023-05-30T17:32:37.148977800Z"
    }
   }
  },
  {
   "cell_type": "code",
   "execution_count": 4,
   "outputs": [
    {
     "data": {
      "text/plain": "   Area Code     Area  Item Code         Item  Element Code  \\\n0          4  Algeria       2501   Population           511   \n1          4  Algeria       2501   Population          5301   \n2          4  Algeria       2901  Grand Total           664   \n3          4  Algeria       2901  Grand Total           674   \n4          4  Algeria       2901  Grand Total           684   \n\n                                  Element             Unit     Y2014  \\\n0           Total Population - Both sexes     1000 persons  38924.00   \n1                Domestic supply quantity      1000 tonnes      0.00   \n2           Food supply (kcal/capita/day)  kcal/capita/day   3377.00   \n3  Protein supply quantity (g/capita/day)     g/capita/day     94.90   \n4      Fat supply quantity (g/capita/day)     g/capita/day     80.06   \n\n      Y2015     Y2016     Y2017     Y2018  \n0  39728.00  40551.00  41389.00  42228.00  \n1      0.00      0.00      0.00      0.00  \n2   3379.00   3372.00   3341.00   3322.00  \n3     94.35     94.72     92.82     91.83  \n4     79.36     77.40     80.19     77.28  ",
      "text/html": "<div>\n<style scoped>\n    .dataframe tbody tr th:only-of-type {\n        vertical-align: middle;\n    }\n\n    .dataframe tbody tr th {\n        vertical-align: top;\n    }\n\n    .dataframe thead th {\n        text-align: right;\n    }\n</style>\n<table border=\"1\" class=\"dataframe\">\n  <thead>\n    <tr style=\"text-align: right;\">\n      <th></th>\n      <th>Area Code</th>\n      <th>Area</th>\n      <th>Item Code</th>\n      <th>Item</th>\n      <th>Element Code</th>\n      <th>Element</th>\n      <th>Unit</th>\n      <th>Y2014</th>\n      <th>Y2015</th>\n      <th>Y2016</th>\n      <th>Y2017</th>\n      <th>Y2018</th>\n    </tr>\n  </thead>\n  <tbody>\n    <tr>\n      <th>0</th>\n      <td>4</td>\n      <td>Algeria</td>\n      <td>2501</td>\n      <td>Population</td>\n      <td>511</td>\n      <td>Total Population - Both sexes</td>\n      <td>1000 persons</td>\n      <td>38924.00</td>\n      <td>39728.00</td>\n      <td>40551.00</td>\n      <td>41389.00</td>\n      <td>42228.00</td>\n    </tr>\n    <tr>\n      <th>1</th>\n      <td>4</td>\n      <td>Algeria</td>\n      <td>2501</td>\n      <td>Population</td>\n      <td>5301</td>\n      <td>Domestic supply quantity</td>\n      <td>1000 tonnes</td>\n      <td>0.00</td>\n      <td>0.00</td>\n      <td>0.00</td>\n      <td>0.00</td>\n      <td>0.00</td>\n    </tr>\n    <tr>\n      <th>2</th>\n      <td>4</td>\n      <td>Algeria</td>\n      <td>2901</td>\n      <td>Grand Total</td>\n      <td>664</td>\n      <td>Food supply (kcal/capita/day)</td>\n      <td>kcal/capita/day</td>\n      <td>3377.00</td>\n      <td>3379.00</td>\n      <td>3372.00</td>\n      <td>3341.00</td>\n      <td>3322.00</td>\n    </tr>\n    <tr>\n      <th>3</th>\n      <td>4</td>\n      <td>Algeria</td>\n      <td>2901</td>\n      <td>Grand Total</td>\n      <td>674</td>\n      <td>Protein supply quantity (g/capita/day)</td>\n      <td>g/capita/day</td>\n      <td>94.90</td>\n      <td>94.35</td>\n      <td>94.72</td>\n      <td>92.82</td>\n      <td>91.83</td>\n    </tr>\n    <tr>\n      <th>4</th>\n      <td>4</td>\n      <td>Algeria</td>\n      <td>2901</td>\n      <td>Grand Total</td>\n      <td>684</td>\n      <td>Fat supply quantity (g/capita/day)</td>\n      <td>g/capita/day</td>\n      <td>80.06</td>\n      <td>79.36</td>\n      <td>77.40</td>\n      <td>80.19</td>\n      <td>77.28</td>\n    </tr>\n  </tbody>\n</table>\n</div>"
     },
     "execution_count": 4,
     "metadata": {},
     "output_type": "execute_result"
    }
   ],
   "source": [
    "df.head()"
   ],
   "metadata": {
    "collapsed": false,
    "ExecuteTime": {
     "end_time": "2023-05-30T17:32:55.347488200Z",
     "start_time": "2023-05-30T17:32:55.289442700Z"
    }
   }
  },
  {
   "cell_type": "code",
   "execution_count": 5,
   "outputs": [
    {
     "data": {
      "text/plain": "Element\nDomestic supply quantity                  2088198.10\nExport Quantity                            182338.80\nFat supply quantity (g/capita/day)          10253.84\nFeed                                       223705.68\nFood                                      1258888.28\nFood supply (kcal/capita/day)              454681.00\nFood supply quantity (kg/capita/yr)         48690.04\nImport Quantity                            294559.09\nLosses                                     160614.00\nOther uses (non-food)                       91645.97\nProcessing                                 292836.00\nProduction                                2030056.89\nProtein supply quantity (g/capita/day)      11842.45\nResiduals                                   35500.00\nSeed                                        24870.14\nStock Variation                             54316.91\nTotal Population - Both sexes             1112641.00\nTourist consumption                            91.00\nName: Y2017, dtype: float64"
     },
     "execution_count": 5,
     "metadata": {},
     "output_type": "execute_result"
    }
   ],
   "source": [
    "df.groupby('Element')['Y2017'].sum()"
   ],
   "metadata": {
    "collapsed": false,
    "ExecuteTime": {
     "end_time": "2023-05-30T17:33:44.736821200Z",
     "start_time": "2023-05-30T17:33:44.692564100Z"
    }
   }
  },
  {
   "cell_type": "code",
   "execution_count": 6,
   "outputs": [],
   "source": [
    "y = [(2, 4), (7, 8), (1, 5, 9)]"
   ],
   "metadata": {
    "collapsed": false,
    "ExecuteTime": {
     "end_time": "2023-05-30T17:34:43.757408300Z",
     "start_time": "2023-05-30T17:34:43.719326700Z"
    }
   }
  },
  {
   "cell_type": "code",
   "execution_count": 8,
   "outputs": [
    {
     "name": "stdout",
     "output_type": "stream",
     "text": [
      "8\n"
     ]
    }
   ],
   "source": [
    "x = y[1][1]\n",
    "print(x)"
   ],
   "metadata": {
    "collapsed": false,
    "ExecuteTime": {
     "end_time": "2023-05-30T17:35:15.989985500Z",
     "start_time": "2023-05-30T17:35:15.939369100Z"
    }
   }
  },
  {
   "cell_type": "code",
   "execution_count": 9,
   "outputs": [
    {
     "data": {
      "text/plain": "'e'"
     },
     "execution_count": 9,
     "metadata": {},
     "output_type": "execute_result"
    }
   ],
   "source": [
    "S = [['him', 'sell'], [90, 28, 43]]\n",
    "S[0][1][1]"
   ],
   "metadata": {
    "collapsed": false,
    "ExecuteTime": {
     "end_time": "2023-05-30T17:35:39.336909500Z",
     "start_time": "2023-05-30T17:35:39.310347Z"
    }
   }
  },
  {
   "cell_type": "code",
   "execution_count": 10,
   "outputs": [
    {
     "data": {
      "text/plain": "Index(['Area Code', 'Area', 'Item Code', 'Item', 'Element Code', 'Element',\n       'Unit', 'Y2014', 'Y2015', 'Y2016', 'Y2017', 'Y2018'],\n      dtype='object')"
     },
     "execution_count": 10,
     "metadata": {},
     "output_type": "execute_result"
    }
   ],
   "source": [
    "df.columns"
   ],
   "metadata": {
    "collapsed": false,
    "ExecuteTime": {
     "end_time": "2023-05-30T17:37:10.464563800Z",
     "start_time": "2023-05-30T17:37:10.423386800Z"
    }
   }
  },
  {
   "cell_type": "code",
   "execution_count": 11,
   "outputs": [
    {
     "data": {
      "text/plain": "49"
     },
     "execution_count": 11,
     "metadata": {},
     "output_type": "execute_result"
    }
   ],
   "source": [
    "# Number of Unique Countries\n",
    "df['Area'].nunique()"
   ],
   "metadata": {
    "collapsed": false,
    "ExecuteTime": {
     "end_time": "2023-05-30T17:37:52.006221300Z",
     "start_time": "2023-05-30T17:37:51.982686Z"
    }
   }
  },
  {
   "cell_type": "code",
   "execution_count": 14,
   "outputs": [
    {
     "data": {
      "text/plain": "1506"
     },
     "execution_count": 14,
     "metadata": {},
     "output_type": "execute_result"
    }
   ],
   "source": [
    "n = df['Y2017'].isna().sum()\n",
    "n"
   ],
   "metadata": {
    "collapsed": false,
    "ExecuteTime": {
     "end_time": "2023-05-30T17:39:38.789583600Z",
     "start_time": "2023-05-30T17:39:38.711324800Z"
    }
   }
  },
  {
   "cell_type": "code",
   "execution_count": 15,
   "outputs": [
    {
     "data": {
      "text/plain": "60943"
     },
     "execution_count": 15,
     "metadata": {},
     "output_type": "execute_result"
    }
   ],
   "source": [
    "t = len(df['Y2017'])\n",
    "t"
   ],
   "metadata": {
    "collapsed": false,
    "ExecuteTime": {
     "end_time": "2023-05-30T17:39:58.842630600Z",
     "start_time": "2023-05-30T17:39:58.783860700Z"
    }
   }
  },
  {
   "cell_type": "code",
   "execution_count": 16,
   "outputs": [
    {
     "data": {
      "text/plain": "2.4711615772114928"
     },
     "execution_count": 16,
     "metadata": {},
     "output_type": "execute_result"
    }
   ],
   "source": [
    "(n/t) * 100"
   ],
   "metadata": {
    "collapsed": false,
    "ExecuteTime": {
     "end_time": "2023-05-30T17:40:16.847877400Z",
     "start_time": "2023-05-30T17:40:16.806395300Z"
    }
   }
  },
  {
   "cell_type": "code",
   "execution_count": 20,
   "outputs": [
    {
     "data": {
      "text/plain": "Area\nNigeria                        1483268.23\nEgypt                           866379.92\nSouth Africa                    517590.54\nEthiopia                        448683.76\nMorocco                         388495.36\nGhana                           337599.06\nAlgeria                         325644.27\nUnited Republic of Tanzania     322616.85\nKenya                           264660.66\nSudan                           239931.92\nCameroon                        232030.43\nAngola                          229159.57\nCôte d'Ivoire                   224599.01\nUganda                          213950.38\nMalawi                          181098.71\nMozambique                      161407.98\nMauritania                      156665.46\nMali                            149928.33\nMadagascar                      131197.73\nNiger                           126707.58\nBenin                           124771.22\nTunisia                         124167.20\nZambia                          103223.77\nBurkina Faso                    101855.07\nGuinea                           98138.87\nSenegal                          95681.15\nZimbabwe                         75919.34\nRwanda                           73663.69\nChad                             71594.68\nSierra Leone                     55311.33\nEswatini                         54343.33\nMauritius                        51114.83\nTogo                             49841.88\nCongo                            41181.68\nCentral African Republic         29937.00\nNamibia                          29874.89\nLiberia                          29342.20\nGabon                            27979.64\nGambia                           23154.18\nDjibouti                         22729.91\nBotswana                         22101.30\nLesotho                          21267.96\nGuinea-Bissau                    19102.77\nCabo Verde                       14650.74\nSao Tome and Principe            12662.63\nSeychelles                         442.34\nComoros                             59.84\nSudan (former)                       0.00\nEthiopia PDR                         0.00\nName: Y2017, dtype: float64"
     },
     "execution_count": 20,
     "metadata": {},
     "output_type": "execute_result"
    }
   ],
   "source": [
    "df.groupby('Area')['Y2017'].sum().sort_values(ascending= False)"
   ],
   "metadata": {
    "collapsed": false,
    "ExecuteTime": {
     "end_time": "2023-05-30T17:42:06.468521300Z",
     "start_time": "2023-05-30T17:42:06.419352500Z"
    }
   }
  },
  {
   "cell_type": "code",
   "execution_count": 21,
   "outputs": [
    {
     "name": "stderr",
     "output_type": "stream",
     "text": [
      "C:\\Users\\HP\\AppData\\Local\\Temp\\ipykernel_11208\\532883487.py:1: FutureWarning: Indexing with multiple keys (implicitly converted to a tuple of keys) will be deprecated, use a list instead.\n",
      "  df.groupby('Item')['Y2015', 'Y2017'].sum()\n"
     ]
    },
    {
     "data": {
      "text/plain": "                         Y2015      Y2017\nItem                                     \nAlcohol, Non-Food      2180.00    2348.00\nAlcoholic Beverages   98783.72   95581.06\nAnimal Products       11811.73   11547.65\nAnimal fats          200675.72  269617.53\nApples and products   10559.15   10198.90\n...                        ...        ...\nVegetables, Other    158104.08  157752.59\nVegetal Products     107064.17  107655.20\nWheat and products   234710.51  240047.62\nWine                   4251.81    4178.02\nYams                 203151.78  229174.59\n\n[119 rows x 2 columns]",
      "text/html": "<div>\n<style scoped>\n    .dataframe tbody tr th:only-of-type {\n        vertical-align: middle;\n    }\n\n    .dataframe tbody tr th {\n        vertical-align: top;\n    }\n\n    .dataframe thead th {\n        text-align: right;\n    }\n</style>\n<table border=\"1\" class=\"dataframe\">\n  <thead>\n    <tr style=\"text-align: right;\">\n      <th></th>\n      <th>Y2015</th>\n      <th>Y2017</th>\n    </tr>\n    <tr>\n      <th>Item</th>\n      <th></th>\n      <th></th>\n    </tr>\n  </thead>\n  <tbody>\n    <tr>\n      <th>Alcohol, Non-Food</th>\n      <td>2180.00</td>\n      <td>2348.00</td>\n    </tr>\n    <tr>\n      <th>Alcoholic Beverages</th>\n      <td>98783.72</td>\n      <td>95581.06</td>\n    </tr>\n    <tr>\n      <th>Animal Products</th>\n      <td>11811.73</td>\n      <td>11547.65</td>\n    </tr>\n    <tr>\n      <th>Animal fats</th>\n      <td>200675.72</td>\n      <td>269617.53</td>\n    </tr>\n    <tr>\n      <th>Apples and products</th>\n      <td>10559.15</td>\n      <td>10198.90</td>\n    </tr>\n    <tr>\n      <th>...</th>\n      <td>...</td>\n      <td>...</td>\n    </tr>\n    <tr>\n      <th>Vegetables, Other</th>\n      <td>158104.08</td>\n      <td>157752.59</td>\n    </tr>\n    <tr>\n      <th>Vegetal Products</th>\n      <td>107064.17</td>\n      <td>107655.20</td>\n    </tr>\n    <tr>\n      <th>Wheat and products</th>\n      <td>234710.51</td>\n      <td>240047.62</td>\n    </tr>\n    <tr>\n      <th>Wine</th>\n      <td>4251.81</td>\n      <td>4178.02</td>\n    </tr>\n    <tr>\n      <th>Yams</th>\n      <td>203151.78</td>\n      <td>229174.59</td>\n    </tr>\n  </tbody>\n</table>\n<p>119 rows × 2 columns</p>\n</div>"
     },
     "execution_count": 21,
     "metadata": {},
     "output_type": "execute_result"
    }
   ],
   "source": [
    "df.groupby('Item')['Y2015', 'Y2017'].sum()"
   ],
   "metadata": {
    "collapsed": false,
    "ExecuteTime": {
     "end_time": "2023-05-30T17:42:54.001417700Z",
     "start_time": "2023-05-30T17:42:53.946091600Z"
    }
   }
  },
  {
   "cell_type": "code",
   "execution_count": 22,
   "outputs": [
    {
     "data": {
      "text/plain": "140.9177648602722"
     },
     "execution_count": 22,
     "metadata": {},
     "output_type": "execute_result"
    }
   ],
   "source": [
    "df['Y2017'].mean()"
   ],
   "metadata": {
    "collapsed": false,
    "ExecuteTime": {
     "end_time": "2023-05-30T17:43:37.781199600Z",
     "start_time": "2023-05-30T17:43:37.751817100Z"
    }
   }
  },
  {
   "cell_type": "code",
   "execution_count": 24,
   "outputs": [
    {
     "data": {
      "text/plain": "1671.8623590567995"
     },
     "execution_count": 24,
     "metadata": {},
     "output_type": "execute_result"
    }
   ],
   "source": [
    "df['Y2017'].std()"
   ],
   "metadata": {
    "collapsed": false,
    "ExecuteTime": {
     "end_time": "2023-05-30T17:44:01.593252400Z",
     "start_time": "2023-05-30T17:44:01.529952100Z"
    }
   }
  },
  {
   "cell_type": "code",
   "execution_count": 27,
   "outputs": [
    {
     "data": {
      "text/plain": "Area\nSudan (former)                       0.00\nEthiopia PDR                         0.00\nComoros                             59.84\nSeychelles                         442.34\nSao Tome and Principe            12662.63\nCabo Verde                       14650.74\nGuinea-Bissau                    19102.77\nLesotho                          21267.96\nBotswana                         22101.30\nDjibouti                         22729.91\nGambia                           23154.18\nGabon                            27979.64\nLiberia                          29342.20\nNamibia                          29874.89\nCentral African Republic         29937.00\nCongo                            41181.68\nTogo                             49841.88\nMauritius                        51114.83\nEswatini                         54343.33\nSierra Leone                     55311.33\nChad                             71594.68\nRwanda                           73663.69\nZimbabwe                         75919.34\nSenegal                          95681.15\nGuinea                           98138.87\nBurkina Faso                    101855.07\nZambia                          103223.77\nTunisia                         124167.20\nBenin                           124771.22\nNiger                           126707.58\nMadagascar                      131197.73\nMali                            149928.33\nMauritania                      156665.46\nMozambique                      161407.98\nMalawi                          181098.71\nUganda                          213950.38\nCôte d'Ivoire                   224599.01\nAngola                          229159.57\nCameroon                        232030.43\nSudan                           239931.92\nKenya                           264660.66\nUnited Republic of Tanzania     322616.85\nAlgeria                         325644.27\nGhana                           337599.06\nMorocco                         388495.36\nEthiopia                        448683.76\nSouth Africa                    517590.54\nEgypt                           866379.92\nNigeria                        1483268.23\nName: Y2017, dtype: float64"
     },
     "execution_count": 27,
     "metadata": {},
     "output_type": "execute_result"
    }
   ],
   "source": [
    "df.groupby('Area')['Y2017'].sum().sort_values(ascending=True)\n"
   ],
   "metadata": {
    "collapsed": false,
    "ExecuteTime": {
     "end_time": "2023-05-30T17:46:24.369408500Z",
     "start_time": "2023-05-30T17:46:24.302909Z"
    }
   }
  },
  {
   "cell_type": "code",
   "execution_count": 40,
   "outputs": [],
   "source": [
    "display(df.head())"
   ],
   "metadata": {
    "collapsed": false
   }
  },
  {
   "cell_type": "code",
   "execution_count": null,
   "outputs": [],
   "source": [
    "df.groupby('Element')"
   ],
   "metadata": {
    "collapsed": false
   }
  }
 ],
 "metadata": {
  "kernelspec": {
   "display_name": "Python 3",
   "language": "python",
   "name": "python3"
  },
  "language_info": {
   "codemirror_mode": {
    "name": "ipython",
    "version": 2
   },
   "file_extension": ".py",
   "mimetype": "text/x-python",
   "name": "python",
   "nbconvert_exporter": "python",
   "pygments_lexer": "ipython2",
   "version": "2.7.6"
  }
 },
 "nbformat": 4,
 "nbformat_minor": 0
}
