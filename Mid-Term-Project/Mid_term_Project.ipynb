{
 "nbformat": 4,
 "nbformat_minor": 0,
 "metadata": {
  "colab": {
   "provenance": []
  },
  "kernelspec": {
   "name": "python3",
   "display_name": "Python 3"
  },
  "language_info": {
   "name": "python"
  }
 },
 "cells": [
  {
   "cell_type": "code",
   "execution_count": 76,
   "outputs": [
    {
     "ename": "AttributeError",
     "evalue": "'list' object has no attribute 'decode'",
     "output_type": "error",
     "traceback": [
      "\u001B[1;31m---------------------------------------------------------------------------\u001B[0m",
      "\u001B[1;31mAttributeError\u001B[0m                            Traceback (most recent call last)",
      "Cell \u001B[1;32mIn[76], line 7\u001B[0m\n\u001B[0;32m      5\u001B[0m english, chinese_definition \u001B[38;5;241m=\u001B[39m line_split[\u001B[38;5;241m0\u001B[39m], line_split[\u001B[38;5;241m1\u001B[39m:]\n\u001B[0;32m      6\u001B[0m \u001B[38;5;66;03m# Split the Chinese translations into a list\u001B[39;00m\n\u001B[1;32m----> 7\u001B[0m exam \u001B[38;5;241m=\u001B[39m \u001B[43mjieba\u001B[49m\u001B[38;5;241;43m.\u001B[39;49m\u001B[43mlcut\u001B[49m\u001B[43m(\u001B[49m\u001B[43mchinese_definition\u001B[49m\u001B[43m)\u001B[49m\n\u001B[0;32m      8\u001B[0m chinese_listset \u001B[38;5;241m=\u001B[39m extract_chinese_words(exam)\n\u001B[0;32m      9\u001B[0m chinese_list \u001B[38;5;241m=\u001B[39m [item[\u001B[38;5;241m0\u001B[39m] \u001B[38;5;28;01mfor\u001B[39;00m item \u001B[38;5;129;01min\u001B[39;00m chinese_listset]\n",
      "File \u001B[1;32m~\\AppData\\Local\\Programs\\Python\\Python310\\lib\\site-packages\\jieba\\__init__.py:357\u001B[0m, in \u001B[0;36mTokenizer.lcut\u001B[1;34m(self, *args, **kwargs)\u001B[0m\n\u001B[0;32m    356\u001B[0m \u001B[38;5;28;01mdef\u001B[39;00m \u001B[38;5;21mlcut\u001B[39m(\u001B[38;5;28mself\u001B[39m, \u001B[38;5;241m*\u001B[39margs, \u001B[38;5;241m*\u001B[39m\u001B[38;5;241m*\u001B[39mkwargs):\n\u001B[1;32m--> 357\u001B[0m     \u001B[38;5;28;01mreturn\u001B[39;00m \u001B[38;5;28;43mlist\u001B[39;49m\u001B[43m(\u001B[49m\u001B[38;5;28;43mself\u001B[39;49m\u001B[38;5;241;43m.\u001B[39;49m\u001B[43mcut\u001B[49m\u001B[43m(\u001B[49m\u001B[38;5;241;43m*\u001B[39;49m\u001B[43margs\u001B[49m\u001B[43m,\u001B[49m\u001B[43m \u001B[49m\u001B[38;5;241;43m*\u001B[39;49m\u001B[38;5;241;43m*\u001B[39;49m\u001B[43mkwargs\u001B[49m\u001B[43m)\u001B[49m\u001B[43m)\u001B[49m\n",
      "File \u001B[1;32m~\\AppData\\Local\\Programs\\Python\\Python310\\lib\\site-packages\\jieba\\__init__.py:300\u001B[0m, in \u001B[0;36mTokenizer.cut\u001B[1;34m(self, sentence, cut_all, HMM, use_paddle)\u001B[0m\n\u001B[0;32m    290\u001B[0m \u001B[38;5;250m\u001B[39m\u001B[38;5;124;03m\"\"\"\u001B[39;00m\n\u001B[0;32m    291\u001B[0m \u001B[38;5;124;03mThe main function that segments an entire sentence that contains\u001B[39;00m\n\u001B[0;32m    292\u001B[0m \u001B[38;5;124;03mChinese characters into separated words.\u001B[39;00m\n\u001B[1;32m   (...)\u001B[0m\n\u001B[0;32m    297\u001B[0m \u001B[38;5;124;03m    - HMM: Whether to use the Hidden Markov Model.\u001B[39;00m\n\u001B[0;32m    298\u001B[0m \u001B[38;5;124;03m\"\"\"\u001B[39;00m\n\u001B[0;32m    299\u001B[0m is_paddle_installed \u001B[38;5;241m=\u001B[39m check_paddle_install[\u001B[38;5;124m'\u001B[39m\u001B[38;5;124mis_paddle_installed\u001B[39m\u001B[38;5;124m'\u001B[39m]\n\u001B[1;32m--> 300\u001B[0m sentence \u001B[38;5;241m=\u001B[39m \u001B[43mstrdecode\u001B[49m\u001B[43m(\u001B[49m\u001B[43msentence\u001B[49m\u001B[43m)\u001B[49m\n\u001B[0;32m    301\u001B[0m \u001B[38;5;28;01mif\u001B[39;00m use_paddle \u001B[38;5;129;01mand\u001B[39;00m is_paddle_installed:\n\u001B[0;32m    302\u001B[0m     \u001B[38;5;66;03m# if sentence is null, it will raise core exception in paddle.\u001B[39;00m\n\u001B[0;32m    303\u001B[0m     \u001B[38;5;28;01mif\u001B[39;00m sentence \u001B[38;5;129;01mis\u001B[39;00m \u001B[38;5;28;01mNone\u001B[39;00m \u001B[38;5;129;01mor\u001B[39;00m \u001B[38;5;28mlen\u001B[39m(sentence) \u001B[38;5;241m==\u001B[39m \u001B[38;5;241m0\u001B[39m:\n",
      "File \u001B[1;32m~\\AppData\\Local\\Programs\\Python\\Python310\\lib\\site-packages\\jieba\\_compat.py:79\u001B[0m, in \u001B[0;36mstrdecode\u001B[1;34m(sentence)\u001B[0m\n\u001B[0;32m     77\u001B[0m \u001B[38;5;28;01mif\u001B[39;00m \u001B[38;5;129;01mnot\u001B[39;00m \u001B[38;5;28misinstance\u001B[39m(sentence, text_type):\n\u001B[0;32m     78\u001B[0m     \u001B[38;5;28;01mtry\u001B[39;00m:\n\u001B[1;32m---> 79\u001B[0m         sentence \u001B[38;5;241m=\u001B[39m \u001B[43msentence\u001B[49m\u001B[38;5;241;43m.\u001B[39;49m\u001B[43mdecode\u001B[49m(\u001B[38;5;124m'\u001B[39m\u001B[38;5;124mutf-8\u001B[39m\u001B[38;5;124m'\u001B[39m)\n\u001B[0;32m     80\u001B[0m     \u001B[38;5;28;01mexcept\u001B[39;00m \u001B[38;5;167;01mUnicodeDecodeError\u001B[39;00m:\n\u001B[0;32m     81\u001B[0m         sentence \u001B[38;5;241m=\u001B[39m sentence\u001B[38;5;241m.\u001B[39mdecode(\u001B[38;5;124m'\u001B[39m\u001B[38;5;124mgbk\u001B[39m\u001B[38;5;124m'\u001B[39m, \u001B[38;5;124m'\u001B[39m\u001B[38;5;124mignore\u001B[39m\u001B[38;5;124m'\u001B[39m)\n",
      "\u001B[1;31mAttributeError\u001B[0m: 'list' object has no attribute 'decode'"
     ]
    }
   ],
   "source": [
    "with open('words.txt', 'r', encoding='gb2312') as file:\n",
    "        # Split the line into English word, part of speech and Chinese translations\n",
    "        line_split = line.strip().split(\" \")\n",
    "        english, chinese_definitions = line_split[0], line_split[1:]\n",
    "        print(english)\n",
    "        print(chinese_definitions)\n",
    "# Split the Chinese translations into a list\n",
    "exam = [jieba.lcut(x) for x in chinese_definitions]\n",
    "print(exam)\n",
    "chinese_listset = [extract_chinese_words(x) for x in exam]\n",
    "print(chinese_listset)\n",
    "chinese_list = [lst[0] for item in chinese_listset for lst in item]\n",
    "print(chinese_list)\n",
    "# Add the English word and its Chinese translations to the dictionary\n",
    "english_to_chinese[english] = chinese_list\n",
    "e_t_c_s[english] = chinese_listset\n",
    "e_t_c_d[english] = chinese_definition"
   ],
   "metadata": {
    "collapsed": false
   }
  },
  {
   "cell_type": "code",
   "source": [
    "import jieba\n",
    "import unicodedata"
   ],
   "metadata": {
    "id": "7rG2xQgLT14O"
   },
   "execution_count": 1,
   "outputs": []
  },
  {
   "cell_type": "code",
   "execution_count": 66,
   "outputs": [
    {
     "name": "stdout",
     "output_type": "stream",
     "text": [
      "[('交往', 'vi'), ('伙伴', 'n'), ('同事', 'n')]\n"
     ]
    }
   ],
   "source": [
    "\n",
    "def extract_chinese_words(lst):\n",
    "    chinese_words = []\n",
    "    pos = None\n",
    "\n",
    "    for i, item in enumerate(lst):\n",
    "        # Remove symbols\n",
    "        if item in [\".\", \",\"]:\n",
    "            continue\n",
    "\n",
    "        # Extract part-of-speech\n",
    "        if item.isalpha() and not all('\\u4e00' <= char <= '\\u9fff' for char in item) and pos is None:\n",
    "            pos = item\n",
    "        elif item.isalpha() and pos is not None and not all('\\u4e00' <= char <= '\\u9fff' for char in item):\n",
    "            pos = item\n",
    "\n",
    "        # Extract Chinese word\n",
    "        if all('\\u4e00' <= char <= '\\u9fff' for char in item):\n",
    "            chinese_words.append((item.strip(), pos))\n",
    "\n",
    "    return chinese_words"
   ],
   "metadata": {
    "collapsed": false
   }
  },
  {
   "cell_type": "code",
   "execution_count": 104,
   "metadata": {
    "id": "_mAoaEf9Xq9q"
   },
   "outputs": [],
   "source": [
    "english_to_chinese_definitions = {}\n",
    "chinese_to_english_words = {}\n",
    "\n",
    "e_t_c_words = {}\n",
    "\n",
    "with open('words.txt', 'r', encoding='gb2312') as file:\n",
    "    for line in file:\n",
    "        # Split the line into English word, part of speech and Chinese translations\n",
    "        line_split = line.strip().split(\" \")\n",
    "        english, chinese_definitions = line_split[0], line_split[1:]\n",
    "        # Split the Chinese translations into a list\n",
    "        exam = [jieba.lcut(x) for x in chinese_definitions]\n",
    "        chinese_listset = [extract_chinese_words(x) for x in exam]\n",
    "        chinese_listwords = [lst[0] for item in chinese_listset for lst in item]\n",
    "\n",
    "        # Add the English word and its Chinese translations to the dictionary\n",
    "        english_to_chinese_definitions[english] = chinese_definitions\n",
    "        e_t_c_words[english] = chinese_listwords\n",
    "\n",
    "        # Add the Chinese translations and their corresponding English words to the dictionary\n",
    "        for list in chinese_listwords:\n",
    "            for chinese in list:\n",
    "                if chinese in chinese_to_english:\n",
    "                    chinese_to_english[chinese].append(english)\n",
    "                else:\n",
    "                    chinese_to_english[chinese] = [english]\n"
   ]
  },
  {
   "cell_type": "code",
   "execution_count": 105,
   "outputs": [
    {
     "data": {
      "text/plain": "dict_keys(['abandon', 'ability', 'able', 'abnormal', 'aboard', 'about', 'above', 'abroad', 'absence', 'absent', 'absolute', 'absolutely', 'absorb', 'abstract', 'abundant', 'abuse', 'academic', 'academy', 'accelerate', 'acceleration', 'accent', 'accept', 'acceptable', 'acceptance', 'access', 'accessory', 'accident', 'accidental', 'accommodate', 'accommodation', 'accompany', 'accomplish', 'accord', 'accordance', 'accordingly', 'account', 'accumulate', 'accuracy', 'accurate', 'accuse', 'accustom', 'accustomed', 'ache', 'achieve', 'achievement', 'acid', 'acquaintance', 'acquire', 'acre', 'across', 'act', 'action', 'active', 'activity', 'actor', 'actress', 'actual', 'actually', 'acute', 'ad', 'adapt', 'add', 'addition', 'additional', 'address', 'adequate', 'adjective', 'adjust', 'administration', 'admire', 'admission', 'admit', 'adopt', 'adult', 'advance', 'advanced', 'advantage', 'adventure', 'adverb', 'advertisement', 'advice', 'advisable', 'advise', 'aeroplane', 'affair', 'affect', 'affection', 'afford', 'afraid', 'Africa', 'African', 'after', 'afternoon', 'afterward', 'again', 'against', 'age', 'agency', 'agent', 'aggressive', 'ago', 'agony', 'agree', 'agreement', 'agriculture', 'ahead', 'aid', 'aim', 'air', 'aircraft', 'airline', 'airplane', 'airport', 'alarm', 'alcohol', 'alike', 'alive', 'all', 'allow', 'alloy', 'almost', 'alone', 'along', 'aloud', 'alphabet', 'already', 'also', 'alter', 'alternative', 'although', 'altitude', 'altogether', 'aluminium', 'always', 'a.m', 'amaze', 'ambition', 'ambulance', 'America', 'American', 'among', 'amongst', 'amount', 'ampere', 'amplify', 'amuse', 'analyse', 'analysis', 'ancestor', 'anchor', 'ancient', 'and', 'angel', 'anger', 'angle', 'angry', 'animal', 'ankle', 'announce', 'announcer', 'annoy', 'annual', 'another', 'answer', 'ant', 'anticipate', 'anxiety', 'anxious', 'any', 'anybody', 'anyhow', 'anyone', 'anything', 'anyway', 'anywhere', 'apart', 'apartment', 'apologize', 'apology', 'apparatus', 'apparent', 'appeal', 'appear', 'appearance', 'appetite', 'apple', 'appliance', 'applicable', 'application', 'apply', 'appoint', 'appointment', 'appreciate', 'approach', 'appropriate', 'approval', 'approve', 'approximate', 'approximately', 'April', 'Arabian', 'arbitrary', 'architecture', 'area', 'argue', 'argument', 'arise', 'arithmetic', 'arm', 'army', 'around', 'arouse', 'arrange', 'arrangement', 'arrest', 'arrival', 'arrive', 'arrow', 'art', 'article', 'artificial', 'artist', 'artistic', 'as', 'ash', 'ashamed', 'Asia', 'Asian', 'aside', 'ask', 'asleep', 'aspect', 'assemble', 'assembly', 'assess', 'assign', 'assignment', 'assist', 'assistant', 'associate', 'association', 'assume', 'assure', 'astonish', 'astronaut', 'at', 'athlete', 'Atlantic', 'atmosphere', 'atmospheric', 'atom', 'atomic', 'attach', 'attack', 'attain', 'attempt', 'attend', 'attention', 'attentive', 'attitude', 'attract', 'attraction', 'attractive', 'attribute', 'audience', 'August', 'aunt', 'aural', 'Australia', 'Australian', 'author', 'authority', 'auto', 'automatic', 'automation', 'automobile', 'autumn', 'auxiliary', 'available', 'avenue', 'average', 'aviation', 'avoid', 'await', 'awake', 'award', 'aware', 'away', 'awful', 'awfully', 'awkward', 'ax', 'axis', 'baby', 'back', 'background', 'backward', 'bacteria', 'bad', 'badly', 'badminton', 'bag', 'baggage', 'bake', 'balance', 'ball', 'balloon', 'banana', 'band', 'bang', 'bank', 'banner', 'bar', 'barber', 'bare', 'bargain', 'bark', 'barn', 'barrel', 'barrier', 'base', 'basic', 'basically', 'basin', 'basis', 'basket', 'basketball', 'bat', 'bath', 'bathe', 'bathroom', 'battery', 'battle', 'bay', 'B.C.', 'be', 'beach', 'beam', 'bean', 'bear', 'beard', 'beast', 'beat', 'beautiful', 'beauty', 'because', 'become', 'bed', 'bee', 'beef', 'beer', 'before', 'beg', 'beggar', 'begin', 'beginner', 'beginning', 'behalf', 'behave', 'behavior', 'behind', 'being', 'belief', 'believe', 'bell', 'belong', 'beloved', 'below', 'belt', 'bench', 'bend', 'beneath', 'beneficial', 'benefit', 'berry', 'beside', 'besides', 'best', 'bet', 'betray', 'better', 'between', 'beyond', 'Bible', 'bicycle', 'big', 'bike', 'bill', 'billion', 'bind', 'biology', 'bird', 'birth', 'birthday', 'biscuit', 'bit', 'bite', 'bitter', 'bitterly', 'black', 'blackboard', 'blade', 'blame', 'blank', 'blanket', 'blast', 'blaze', 'bleed', 'blend', 'bless', 'blind', 'block', 'blood', 'bloom', 'blossom', 'blow', 'blue', 'board', 'boast', 'boat', 'body', 'boil', 'bold', 'bolt', 'bomb', 'bond', 'bone', 'book', 'boot', 'booth', 'border', 'bore', 'born', 'borrow', 'bosom', 'boss', 'both', 'bother', 'bottle', 'bottom', 'bough', 'bounce', 'bound', 'boundary', 'bow', 'bowl', 'box', 'boy', 'brain', 'brake', 'branch', 'brand', 'brandy', 'brass', 'brave', 'bread', 'breadth', 'break', 'breakfast', 'breast', 'breath', 'breathe', 'breed', 'breeze', 'brick', 'bridge', 'brief', 'bright', 'brighten', 'brilliant', 'brim', 'bring', 'brisk', 'bristle', 'Britain', 'British', 'brittle', 'broad', 'broadcast', 'broken', 'bronze', 'brood', 'brook', 'broom', 'brother', 'brow', 'brown', 'bruise', 'brush', 'brute', 'bubble', 'bucket', 'bud', 'build', 'building', 'bulb', 'bulk', 'bull', 'bullet', 'bunch', 'bundle', 'burden', 'bureau', 'burn', 'burst', 'bury', 'bus', 'bush', 'business', 'busy', 'but', 'butcher', 'butter', 'butterfly', 'button', 'buy', 'by', 'cabbage', 'cabin', 'cabinet', 'cable', 'cafe', 'cafeteria', 'cage', 'cake', 'calculate', 'calculation', 'calculator', 'calendar', 'call', 'calm', 'camel', 'camera', 'camp', 'campaign', 'campus', 'can', 'Canada', 'Canadian', 'canal', 'cancel', 'cancer', 'candidate', 'candle', 'candy', 'cannon', 'canoe', 'canteen', 'canvas', 'cap', 'capable', 'capacity', 'capital', 'captain', 'captive', 'capture', 'car', 'carbon', 'card', 'care', 'career', 'careful', 'careless', 'cargo', 'carpenter', 'carpet', 'carriage', 'carrier', 'carrot', 'carry', 'cart', 'carve', 'case', 'cash', 'cassette', 'cast', 'castle', 'casual', 'cat', 'catalog', 'catch', 'cathedral', 'cattle', 'cause', 'cave', 'cease', 'ceiling', 'celebrate', 'cell', 'cellar', 'cement', 'cent', 'centigrade', 'centimetre', 'central', 'centre', 'century', 'ceremony', 'certain', 'certainly', 'certainty', 'certificate', 'chain', 'chair', 'chairman', 'chalk', 'challenge', 'chamber', 'champion', 'chance', 'change', 'channel', 'chapter', 'character', 'characteristic', 'charge', 'charity', 'charming', 'chart', 'chase', 'cheap', 'cheat', 'check', 'cheek', 'cheer', 'cheerful', 'cheese', 'chemical', 'chemist', 'chemistry', 'cheque', 'cherry', 'chess', 'chest', 'chew', 'chicken', 'chief', 'child', 'childhood', 'childish', 'chill', 'chimney', 'chin', 'China', 'china', 'Chinese', 'chocolate', 'choice', 'choke', 'choose', 'chop', 'Christian', 'Christmas', 'church', 'cigarette', 'cinema', 'circle', 'circuit', 'circular', 'circulate', 'circumference', 'circumstance', 'citizen', 'city', 'civil', 'civilization', 'civilize', 'claim', 'clap', 'clarify', 'clasp', 'class', 'classical', 'classification', 'classify', 'classmate', 'classroom', 'claw', 'clay', 'clean', 'clear', 'clearly', 'clerk', 'clever', 'cliff', 'climate', 'climb', 'cloak', 'clock', 'close', 'closely', 'cloth', 'clothe', 'clothes', 'clothing', 'cloud', 'cloudy', 'club', 'clue', 'clumsy', 'coach', 'coal', 'coarse', 'coast', 'coat', 'cock', 'code', 'coffee', 'coil', 'coin', 'cold', 'collapse', 'collar', 'colleague', 'collect', 'collection', 'collective', 'college', 'collision', 'colonel', 'colony', 'color', 'column', 'comb', 'combination', 'combine', 'come', 'comfort', 'comfortable', 'command', 'commander', 'comment', 'commerce', 'commercial', 'commission', 'commit', 'committee', 'common', 'commonly', 'communicate', 'communication', 'communism', 'communist', 'community', 'companion', 'company', 'comparative', 'compare', 'comparison', 'compass', 'compel', 'compete', 'competent', 'competition', 'compile', 'complain', 'complaint', 'complete', 'completely', 'complex', 'complicate', 'complicated', 'component', 'compose', 'composition', 'compound', 'comprehension', 'comprehensive', 'compress', 'comprise', 'compromise', 'compute', 'computer', 'comrade', 'conceal', 'concentrate', 'concentration', 'concept', 'concern', 'concerning', 'concert', 'conclude', 'conclusion', 'concrete', 'condemn', 'condense', 'condition', 'conduct', 'conductor', 'conference', 'confess', 'confidence', 'confident', 'confine', 'confirm', 'conflict', 'confuse', 'confusion', 'congratulate', 'congratulation', 'congress', 'conjunction', 'connect', 'connection', 'conquer', 'conquest', 'conscience', 'conscious', 'consciousness', 'consent', 'consequence', 'consequently', 'conservation', 'conservative', 'consider', 'considerable', 'considerate', 'consideration', 'consist', 'consistent', 'constant', 'constitution', 'construct', 'construction', 'consult', 'consume', 'consumption', 'contact', 'contain', 'container', 'contemporary', 'contempt', 'content', 'contest', 'continent', 'continual', 'continue', 'continuous', 'contract', 'contradiction', 'contrary', 'contrast', 'contribute', 'control', 'convenience', 'convenient', 'convention', 'conventional', 'conversation', 'conversely', 'conversion', 'convert', 'convey', 'convince', 'cook', 'cool', 'cooperate', 'coordinate', 'cope', 'copper', 'copy', 'cord', 'cordial', 'core', 'corn', 'corner', 'corporation', 'correct', 'correction', 'correspond', 'correspondent', 'corresponding', 'corridor', 'cost', 'costly', 'cottage', 'cotton', 'cough', 'could', 'council', 'count', 'counter', 'country', 'countryside', 'county', 'couple', 'courage', 'course', 'court', 'cousin', 'cover', 'cow', 'coward', 'crack', 'craft', 'crane', '无效', 'crawl', 'crazy', 'cream', 'create', 'creative', 'creature', 'credit', 'creep', 'crew', 'cricket', 'crime', 'criminal', 'cripple', 'crisis', 'critic', 'critical', 'criticism', 'criticize', 'crop', 'cross', 'crow', 'crowd', 'crown', 'crude', 'cruel', 'crush', 'crust', 'cry', 'crystal', 'cube', 'cubic', 'cucumber', 'cultivate', 'culture', 'cunning', 'cup', 'cupboard', 'cure', 'curiosity', 'curious', 'curl', 'current', 'curse', 'curtain', 'curve', 'cushion', 'custom', 'customer', 'cut', 'cycle', 'daily', 'dairy', 'dam', 'damage', 'damp', 'dance', 'danger', 'dangerous', 'dare', 'daring', 'dark', 'darling', 'dash', 'data', 'date', 'daughter', 'dawn', 'day', 'daylight', 'dead', 'deadly', 'deaf', 'deal', 'dear', 'death', 'debate', 'debt', 'decade', 'decay', 'deceit', 'deceive', 'December', 'decent', 'decide', 'decision', 'deck', 'declare', 'decorate', 'decrease', 'deduce', 'deed', 'deep', 'deepen', 'deer', 'defeat', 'defect', 'defence', 'defend', 'define', 'definite', 'definitely', 'definition', 'degree', 'delay', 'delegation', 'delicate', 'delicious', 'delight', 'deliver', 'delivery', 'demand', 'democracy', 'democratic', 'demonstrate', 'dense', 'density', 'deny', 'depart', 'department', 'departure', 'depend', 'dependent', 'deposit', 'depress', 'depth', 'derive', 'descend', 'describe', 'desert', 'deserve', 'design', 'desirable', 'desire', 'desk', 'despair', 'desperate', 'despise', 'despite', 'destination', 'destroy', 'destruction', 'detail', 'detect', 'detection', 'determination', 'determine', 'develop', 'development', 'device', 'devil', 'devise', 'devote', 'dew', 'diagram', 'dial', 'dialect', 'dialog', 'diameter', 'diamond', 'diary', 'dictate', 'dictation', 'dictionary', 'die', 'differ', 'difference', 'different', 'difficult', 'difficulty', 'dig', 'digest', 'digital', 'diligent', 'dim', 'dimension', 'dinner', 'dip', 'direct', 'direction', 'directly', 'director', 'dirt', 'dirty', 'disable', 'disadvantage', 'disagree', 'disappear', 'disappoint', 'disaster', 'disk', 'discard', 'discharge', 'discipline', 'disclose', 'discourage', 'discover', 'discovery', 'discuss', 'discussion', 'disease', 'disguise', 'disgust', 'dish', 'dishonour', 'dislike', 'dismiss', 'disorder', 'display', 'disposal', 'dispose', 'displease', 'dispute', 'dissatisfy', 'dissolve', 'distance', 'distant', 'distinct', 'distinction', 'distinguish', 'distress', 'distribute', 'distribution', 'district', 'disturb', 'ditch', 'dive', 'diverse', 'divide', 'division', 'divorce', 'do', 'dock', 'doctor', '文档', 'dog', 'dollar', 'domestic', 'donkey', 'door', 'dorm', 'dormitory', 'dose', 'dot', 'double', 'doubt', 'doubtful', 'doubtless', 'down', 'downstairs', 'downward', 'dozen', 'draft', 'drag', 'dragon', 'drain', 'drama', 'dramatic', 'draw', 'drawer', 'drawing', 'dread', 'dream', 'dress', 'drift', 'drill', 'drink', 'drip', 'drive', 'driver', 'drop', 'drought', 'drown', 'drug', 'drum', 'drunk', 'dry', 'duck', 'due', 'dull', 'dumb', 'dump', 'durable', 'duration', 'during', 'dusk', 'dust', 'duty', 'dwelling', 'dye', 'dying', 'dynamic', 'each', 'eager', 'eagle', 'ear', 'early', 'earn', 'earnest', 'earth', 'earthquake', 'ease', 'easily', 'east', 'eastern', 'easy', 'eat', 'echo', 'economic', 'economical', 'economy', 'edge', 'edition', 'editor', 'educate', 'education', 'effect', 'effective', 'efficiency', 'efficient', 'effort', 'egg', 'eight', 'eighteen', 'eighth', 'eighty', 'either', 'elaborate', 'elastic', 'elbow', 'elder', 'elect', 'election', 'electric', 'electrical', 'electricity', 'electron', 'electronic', 'electronics', 'element', 'elementary', 'elephant', 'elevator', 'eleven', 'eleventh', 'eliminate', 'elimination', 'else', 'elsewhere', 'embarrass', 'embrace', 'emerge', 'emergency', 'emit', 'emotion', 'emotional', 'emperor', 'emphasis', 'emphasize', 'empire', 'employ', 'employee', 'employer', 'employment', 'empty', 'enable', 'enclose', 'encounter', 'encourage', 'end', 'ending', 'endless', 'endure', 'enemy', 'energy', 'enforce', 'engage', 'engine', 'engineer', 'engineering', 'England', 'English', 'Englishman', 'enjoy', 'enlarge', 'enormous', 'enough', 'ensure', 'enter', 'entertain', 'enthusiasm', 'enthusiastic', 'entire', 'entitle', 'entrance', 'entry', 'envelope', 'environment', 'envy', 'equal', 'equality', 'equation', 'equip', 'equipment', 'equivalent', 'era', 'erect', 'error', 'escape', 'especially', 'essay', 'essential', 'establish', 'establishment', 'estimate', 'Europe', 'European', 'evaporate', 'eve', 'even', 'evening', 'event', 'eventually', 'ever', 'every', 'everybody', 'everyday', 'everyone', 'everything', 'everywhere', 'evidence', 'evident', 'evil', 'evolution', 'evolve', 'exact', 'exactly', 'exaggerate', 'exam', 'examination', 'examine', 'example', 'exceed', 'exceedingly', 'excellent', 'except', 'exception', 'excess', 'excessive', 'exchange', 'excite', 'exciting', 'exclaim', 'exclude', 'exclusively', 'excursion', 'excuse', 'exercise', 'exert', 'exhaust', 'exhibit', 'exhibition', 'exist', 'existence', 'exit', 'expand', 'expansion', 'expect', 'expectation', 'expense', 'expensive', 'experience', 'experiment', 'experimental', 'expert', 'explain', 'explanation', 'explode', 'exploit', 'explore', 'explosion', 'explosive', 'export', 'expose', 'exposure', 'express', 'expression', 'extend', 'extension', 'extensive', 'extent', 'exterior', 'external', 'extra', 'extraordinary', 'extreme', 'extremely', 'eye', 'eyesight', 'facility', 'fact', 'factor', 'factory', 'faculty', 'fade', 'Fahrenheit', 'fail', 'failure', 'faint', 'fair', 'fairly', 'faith', 'faithful', 'fall', 'false', 'fame', 'familiar', 'family', 'famine', 'famous', 'fan', 'fancy', 'far', 'fare', 'farewell', 'farm', 'farmer', 'farther', 'fashion', 'fashionable', 'fast', 'fasten', 'fatal', 'fate', 'father', 'father-in-law', 'fatigue', 'fault', 'faulty', 'favour', 'favourable', 'favourite', 'fear', 'fearful', 'feasible', 'feast', 'feather', 'feature', 'February', 'federal', 'fee', 'feeble', 'feed', 'feedback', 'feel', 'feeling', 'fellow', 'female', 'fence', 'fertile', 'fertilizer', 'festival', 'fetch', 'fever', 'few', 'fibre', 'fiction', 'field', 'fierce', 'fifteen', 'fifth', 'fifty', 'fight', 'figure', 'file', 'fill', 'film', 'filter', 'final', 'finally', 'finance', 'financial', 'find', 'finding', 'fine', 'finger', 'finish', 'fire', 'fireman', 'firm', 'first', 'fish', 'fisherman', 'fist', 'fit', 'five', 'fix', 'flag', 'flame', 'flare', 'flash', 'flat', 'flavour', 'fleet', 'flesh', 'flexible', 'flight', 'float', 'flock', 'flood', 'floor', 'flour', 'flourish', 'flow', 'flower', 'flu', 'fluent', 'fluid', 'flush', 'fly', 'focus', 'fog', 'fold', 'folk', 'follow', 'following', 'fond', 'food', 'fool', 'foolish', 'foot', 'football', 'footstep', 'for', 'forbid', 'force', 'forecast', 'forehead', 'foreign', 'foreigner', 'foremost', 'forest', 'forever', 'forget', 'forgive', 'fork', 'form', 'formal', 'formation', 'former', 'formula', 'forth', 'fortnight', 'fortunate', 'fortunately', 'fortune', 'forty', 'forward', 'found', 'foundation', 'fountain', 'four', 'fourteen', 'fourth', 'fox', 'fraction', 'fragment', 'frame', 'framework', 'France', 'frank', 'free', 'freedom', 'freely', 'freeze', 'freight', 'French', 'frequency', 'frequent', 'frequently', 'fresh', 'friction', 'Friday', 'fridge', 'friend', 'friendly', 'friendship', 'frighten', 'frog', 'from', 'front', 'frontier', 'frost', 'frown', 'fruit', 'fruitful', 'fry', 'fuel', 'fulfil', 'full', 'fun', 'function', 'fund', 'fundamental', 'funeral', 'funny', 'fur', 'furious', 'furnace', 'furnish', 'furniture', 'further', 'furthermore', 'future', 'gain', 'gallery', 'gallon', 'game', 'gang', 'gap', 'garage', 'garbage', 'garden', 'gardener', 'gas', 'gaseous', 'gasoline', 'gasp', 'gate', 'gather', 'gauge', 'gay', 'gaze', 'general', 'generally', 'generate', 'generation', 'generator', 'generous', 'genius', 'gentle', 'gentleman', 'gently', 'genuine', 'geography', 'geometry', 'germ', 'German', 'Germany', 'gesture', 'get', 'ghost', 'giant', 'gift', 'girl', 'give', 'glad', 'glance', 'glare', 'glass', 'glide', 'glimpse', 'glitter', 'globe', 'gloomy', 'glorious', 'glory', 'glove', 'glow', 'glue', 'go', 'goal', 'goat', 'God', 'gold', 'golden', 'golf', 'good', 'goodbye', 'goodness', 'goods', 'goose', 'govern', 'government', 'governor', 'gown', 'grace', 'graceful', 'gracious', 'grade', 'gradual', 'gradually', 'graduate', 'grain', 'gramme', 'grammar', 'grammatical', 'grand', 'granddaughter', 'grandfather', 'grandmother', 'grandson', 'grant', 'grape', 'graph', 'grasp', 'grass', 'grateful', 'gratitude', 'grave', 'gravity', 'gray', 'great', 'greatly', 'greedy', 'Greek', 'green', 'greenhouse', 'greet', 'greeting', 'grey', 'grieve', 'grind', 'grip', 'groan', 'grocer', 'grocery', 'gross', 'ground', 'group', 'grow', 'growth', 'guarantee', 'guard', 'guess', 'guest', 'guidance', 'guide', 'guilty', 'gulf', 'gum', 'gun', 'gunpowder', 'gymnasium', 'habit', 'habitual', 'hair', 'haircut', 'half', 'hall', 'halt', 'hamburger', 'hammer', 'hand', 'handful', 'handkerchief', 'handle', 'handsome', 'handwriting', 'handy', 'hang', 'happen', 'happiness', 'happy', 'harbour', 'hard', 'harden', 'hardly', 'hardship', 'hardware', 'hare', 'harm', 'harmful', 'harmony', 'harness', 'harsh', 'harvest', 'haste', 'hasten', 'hasty', 'hat', 'hatch', 'hate', 'hateful', 'hatred', 'have', 'hawk', 'hay', 'hazard', 'he', 'head', 'headache', 'heading', 'headline', 'headmaster', 'headquarters', 'heal', 'health', 'healthy', 'heap', 'hear', 'heart', 'heat', 'heating', 'heaven', 'heavily', 'heavy', 'hedge', 'heel', 'height', 'heir', 'helicopter', 'hell', 'hello', 'helmet', 'help', 'helpful', 'helpless', 'hen', 'hence', 'her', 'herd', 'here', 'hero', 'heroic', 'heroine', 'hers', 'herself', 'hesitate', 'hi', 'hide', 'high', 'highly', 'highway', 'hill', 'hillside', 'him', 'himself', 'hint', 'hire', 'his', 'historical', 'history', 'hit', 'hobby', 'hold', 'hole', 'holiday', 'hollow', 'holy', 'home', 'honest', 'honesty', 'honey', 'honeymoon', 'honour', 'honourable', 'hook', 'hope', 'hopeful', 'hopeless', 'horizon', 'horizontal', 'horn', 'horror', 'horse', 'horsepower', 'hospital', 'host', 'hostess', 'hostile', 'hot', 'hotel', 'hour', 'house', 'household', 'housewife', 'how', 'however', 'huge', 'human', 'humble', 'humid', 'humorous', 'humour', 'hundred', 'hunger', 'hungry', 'hunt', 'hurry', 'hurt', 'husband', 'hut', 'hydrogen', 'I', 'ice', 'ice-cream', 'idea', 'ideal', 'identical', 'identify', 'idiom', 'idle', 'i.e.', 'if', 'ignorant', 'ignore', 'ill', 'illegal', 'illness', 'illustrate', 'illustration', 'image', 'imaginary', 'imagination', 'imagine', 'imitate', 'immediate', 'immediately', 'immense', 'immigrant', 'impact', 'impatient', 'implication', 'imply', 'import', 'importance', 'important', 'impose', 'impossible', 'impress', 'impression', 'impressive', 'imprison', 'improve', 'improvement', 'in', 'inch', 'incident', 'incline', 'include', 'income', 'incorrect', 'increase', 'increasingly', 'indeed', 'indefinite', 'independence', 'independent', 'index', 'India', 'Indian', 'indicate', 'indication', 'indifferent', 'indignant', 'indirect', 'indispensable', 'individual', 'indoors', 'industrial', 'industrialize', 'industry', 'inefficient', 'inevitable', 'inexpensive', 'infant', 'infect', 'infer', 'inferior', 'infinite', 'influence', 'influential', 'inform', 'information', 'inhabit', 'inhabitant', 'inherit', 'initial', 'injection', 'injure', 'injury', 'ink', 'inn', 'inner', 'innocent', 'inquire', 'inquiry', 'insect', 'insert', 'inside', 'insist', 'inspect', 'inspection', 'inspire', 'install', 'installation', 'instance', 'instant', 'instantly', 'instead', 'instinct', 'institute', 'institution', 'insufficient', 'insult', 'insurance', 'insure', 'intellectual', 'intelligence', 'intelligent', 'intend', 'intense', 'intensity', 'intensive', 'intention', 'intentional', 'interaction', 'interest', 'interesting', 'interfere', 'interference', 'interior', 'intermediate', 'internal', 'international', 'interpret', 'interpretation', 'interpreter', 'interrupt', 'interruption', 'interval', 'interview', 'intimate', 'into', 'introduce', 'introduction', 'invade', 'invasion', 'invent', 'invention', 'inventor', 'invest', 'investigate', 'investigation', 'investment', 'invisible', 'invitation', 'invite', 'involve', 'inward', 'iron', 'irregular', 'island', 'isolate', 'issue', 'it', 'Italian', 'item', 'its', 'itself', 'jacket', 'jail', 'jam', 'January', 'Japan', 'Japanese', 'jar', 'jaw', 'jazz', 'jealous', 'jet', 'jewel', 'jewish', 'job', 'join', 'joint', 'joke', 'jolly', 'journal', 'journalist', 'journey', 'joy', 'joyful', 'judge', 'judgement', 'juice', 'July', 'jump', 'June', 'jungle', 'junior', 'jury', 'just', 'justice', 'justify', 'keen', 'keep', 'keeper', 'kettle', 'key', 'keyboard', 'kick', 'kid', 'kill', 'kilogram', 'kilometer', 'kind', 'kindness', 'king', 'kingdom', 'kiss', 'kitchen', 'kite', 'knee', 'kneel', 'knife', 'knit', 'knob', 'knock', 'knot', 'know', 'knowledge', 'lab', 'label', 'laboratory', 'labour', 'lace', 'lack', 'ladder', 'lady', 'lag', 'lake', 'lamb', 'lame', 'lamp', 'land', 'landing', 'landlady', 'landlord', 'lane', 'language', 'lantern', 'lap', 'large', 'largely', 'laser', 'last', 'late', 'lately', 'later', 'Latin', 'latter', 'laugh', 'laughter', 'launch', 'laundry', 'lavatory', 'law', 'lawn', 'lawyer', 'lay', 'layer', 'layout', 'lazy', 'lead', 'leader', 'leadership', 'leading', 'leaf', 'league', 'leak', 'lean', 'leap', 'learn', 'learned', 'learning', 'least', 'leather', 'leave', 'lecture', 'left', 'leg', 'legal', 'legend', 'leisure', 'lemon', 'lend', 'length', 'lens', 'less', 'lessen', 'lesson', 'lest', 'let', 'letter', 'level', 'lever', 'liable', 'liar', 'liberal', 'liberate', 'liberation', 'liberty', 'librarian', 'library', 'license', 'lick', 'lid', 'lie', 'lieutenant', 'life', 'lifetime', 'lift', 'light', 'lighten', 'lightly', 'lightning', 'like', 'likely', 'likewise', 'limb', 'lime', 'limit', 'limitation', 'limited', 'line', 'linen', 'liner', 'link', 'lion', 'lip', 'liquid', 'liquor', 'list', 'listen', 'listener', 'liter', 'literary', 'literature', 'little', 'live', 'lively', 'liver', 'living', 'living-room', 'load', 'loaf', 'loan', 'local', 'locate', '本地', 'lock', 'locomotive', 'lodge', 'log', 'logic', 'logical', 'lonely', 'long', 'look', 'loop', 'loose', 'loosen', 'lord', 'lorry', 'lose', 'loss', 'lot', 'loud', 'loudspeaker', 'love', 'lovely', 'lover', 'low', 'lower', 'loyal', 'loyalty', 'luck', 'lucky', 'luggage', 'lumber', 'lump', 'lunch', 'lung', 'luxury', 'machine', 'mad', 'madam', 'magazine', 'magic', 'magnet', 'magnetic', 'magnificent', 'maid', 'mail', 'main', 'mainly', 'mainland', 'maintain', 'maintenance', 'major', 'majority', 'make', 'male', 'man', 'manage', 'management', 'manager', 'mankind', 'manly', 'manner', 'manual', 'manufacture', 'manufacturer', 'many', 'map', 'marble', 'March', 'march', 'margin', 'marine', 'mark', 'market', 'marriage', 'married', 'marry', 'marvelous', 'Marxisim', 'Marxist', 'mask', 'mass', 'master', 'masterpiece', 'mat', 'match', 'mate', 'material', 'materialism', 'mathematical', 'mathematics', 'maths', 'matter', 'mature', 'maximum', 'May', 'may', 'maybe', 'mayor', 'me', 'meadow', 'meal', 'mean', 'meaning', 'means', 'meantime', 'meanwhile', 'measurable', 'measure', 'measurement', 'meat', 'mechanic', 'mechanical', 'mechanically', 'mechanics', 'medal', 'medical', 'medicine', 'Mediterranean', 'medium', 'meet', 'meeting', 'melon', 'melt', 'member', 'memorial', 'memory', 'mend', 'mental', 'mention', 'menu', 'merchant', 'mercury', 'Mercury', 'mercy', 'mere', 'merely', 'merit', 'merry', 'mess', 'message', 'messenger', 'metal', 'meter', 'method', 'metre', 'metric', 'microcomputer', 'microphone', 'microscope', 'midday', 'middle', 'midnight', 'midst', 'might', 'mild', 'mile', 'military', 'milk', 'mill', 'millimetre', 'million', 'mind', 'mine', 'miner', 'mineral', 'minimum', 'minister', 'ministry', 'minor', 'minority', 'minus', 'minute', 'miracle', 'mirror', 'miserable', 'mislead', 'miss', 'missile', 'missing', 'mission', 'mist', 'mistake', 'Mister', 'mistress', 'misunderstand', 'mix', 'mixture', 'moan', 'mobile', 'mode', 'model', 'moderate', 'modern', 'modest', 'modify', 'moist', 'moisture', 'molecule', 'moment', 'Monday', 'money', 'monitor', 'monkey', 'month', 'monthly', 'monument', 'mood', 'moon', 'moral', 'more', 'moreover', 'morning', 'mortal', 'mosquito', 'most', 'mostly', 'mother', 'motion', 'motivate', 'motive', 'motor', 'mould', 'mount', 'mountain', 'mourn', 'mouse', 'mouth', 'mouthful', 'move', 'movement', 'movie', 'much', 'mud', 'muddy', 'mug', 'multiple', 'multiply', 'murder', 'murderer', 'muscle', 'museum', 'mushroom', 'music', 'musical', 'musician', 'must', 'mute', 'mutter', 'mutton', 'mutual', 'my', 'myself', 'mysterious', 'mystery', 'nail', 'naked', 'name', 'namely', 'nap', 'narrow', 'nasty', 'nation', 'national', 'nationality', 'native', 'natural', 'naturally', 'nature', 'naughty', 'naval', 'navigation', 'navy', 'near', 'nearby', 'nearly', 'neat', 'necessarily', 'necessary', 'necessity', 'neck', 'necklace', 'need', 'needle', 'needless', 'negative', 'neglect', 'Negro', 'neighbour', 'neighbourhood', 'neither', 'nephew', 'nerve', 'nervous', 'nest', 'net', 'network', 'neutral', 'never', 'nevertheless', 'new', 'newly', 'news', 'newspaper', 'next', 'nice', 'niece', 'night', 'nine', 'nineteen', 'ninety', 'ninth', 'nitrogen', 'no', 'noble', 'nobody', 'nod', 'noise', 'noisy', 'none', 'nonsense', 'noon', 'nor', 'normal', 'normally', 'north', 'northeast', 'northern', 'northwest', 'nose', 'not', 'note', 'notebook', 'nothing', 'notice', 'noticeable', 'noun', 'novel', 'November', 'now', 'nowadays', 'nowhere', 'nuclear', 'nucleus', 'nuisance', 'number', 'numerous', 'nurse', 'nursery', 'nut', 'nylon', 'obey', 'object', 'objection', 'objective', 'oblige', 'observation', 'observe', 'observer', 'obstacle', 'obtain', 'obvious', 'obviously', 'occasion', 'occasional', 'occasionally', 'occupation', 'occupy', 'occur', 'occurrence', 'ocean', 'Oceania', \"o'clock\", 'October', 'odd', 'odour', 'of', 'off', 'offend', 'offer', 'office', 'officer', 'official', 'often', 'oh', 'oil', 'okay', 'old', 'omit', 'on', 'once', 'one', 'oneself', 'onion', 'only', 'onto', 'open', 'opening', 'opera', 'operate', 'operation', 'operational', 'operator', 'opinion', 'opponent', 'opportunity', 'oppose', 'opposite', 'oppress', 'optical', 'optimistic', 'option', 'optional', 'or', 'oral', 'orange', 'orbit', 'orchestra', 'order', 'orderly', 'ordinary', 'ore', 'organ', 'organic', 'organism', 'organization', 'organize', 'oriental', 'origin', 'original', 'ornament', 'orphan', 'other', 'otherwise', 'ought', 'ounce', 'our', 'ours', 'ourselves', 'out', 'outcome', 'outdoor', 'outdoors', 'outer', 'outlet', 'outline', 'outlook', 'output', 'outset', 'outside', 'outskirt', 'outstanding', 'outward', 'outwards', 'oven', 'over', 'overall', 'overcoat', 'overcome', 'overhead', 'overlook', 'overnight', 'overseas', 'overtake', 'overtime', 'owe', 'owl', 'own', 'owner', 'ownership', 'ox', 'pace', 'pacific', 'pack', 'package', 'packet', 'pad', 'page', 'pail', 'pain', 'painful', 'paint', 'painter', 'painting', 'pair', 'palace', 'pale', 'palm', 'pan', 'panda', 'pane', 'panel', 'pant', 'paper', 'parade', 'paradise', 'paragraph', 'parallel', 'parcel', 'pardon', 'parent', 'park', 'parliament', 'part', 'partial', 'partially', 'participate', 'particle', 'particular', 'particularly', 'partly', 'partner', 'party', 'pass', 'passage', 'passenger', 'passion', 'passive', 'passport', 'past', 'paste', 'pastime', 'pat', 'patch', 'path', 'patience', 'patient', 'pattern', 'pause', 'pave', 'pavement', 'paw', 'pay', 'payment', 'pea', 'peace', 'peaceful', 'peach', 'peak', 'pear', 'pearl', 'peasant', 'pebble', 'peculiar', 'peel', 'peep', 'pen', 'pencil', 'penetrate', 'peninsula', 'penny', 'pension', 'people', 'pepper', 'per', 'perceive', 'percent', 'percentage', 'perfect', 'perfectly', 'perform', 'performance', 'perfume', 'perhaps', 'period', 'permanent', 'permanently', 'permission', 'permit', 'persist', 'person', 'personal', 'personnel', 'perspective', 'persuade', 'pessimistic', 'pet', 'petrol', 'petroleum', 'phase', 'phenomenon', 'philosopher', 'philosophy', 'phone', 'photograph', 'photographic', 'phrase', 'physical', 'physician', 'physicist', 'physics', 'piano', 'pick', 'picnic', 'picture', 'pie', 'piece', 'pierce', 'pig', 'pigeon', 'pile', 'pill', 'pillar', 'pillow', 'pilot', 'pin', 'pinch', 'pine', 'pink', 'pint', 'pioneer', 'pipe', 'pipeline', 'pistol', 'pit', 'pitch', 'pity', 'place', 'plain', 'plan', 'plane', 'planet', 'plant', 'plantation', 'plaster', 'plastic', 'plate', 'platform', 'play', 'player', 'playground', 'pleasant', 'please', 'pleasure', 'plentiful', 'plenty', 'plot', 'plough', 'pluck', 'plug', 'plunge', 'plural', 'plus', 'P.M.', 'pocket', 'poem', 'poet', 'poetry', 'point', 'poison', 'poisonous', 'pole', 'police', 'policeman', 'policy', 'polish', 'polite', 'political', 'politician', 'politics', 'pollute', 'pollution', 'pond', 'pool', 'poor', 'pop', 'popular', 'population', 'porch', 'pork', 'porridge', 'port', 'portable', 'porter', 'portion', 'portrait', 'Portuguese', 'position', 'positive', 'possess', 'possession', 'possibility', 'possible', 'possibly', 'post', 'postage', 'postman', 'postpone', 'pot', 'potato', 'potential', 'pound', 'pour', 'poverty', 'powder', 'power', 'powerful', 'practical', 'practically', 'practice', 'practise', 'praise', 'pray', 'prayer', 'precaution', 'preceding', 'precious', 'precise', 'precision', 'predict', 'preface', 'prefer', 'preferable', 'preference', 'prejudice', 'preliminary', 'premier', 'preparation', 'prepare', 'preposition', 'prescribe', 'presence', 'present', 'presently', 'preserve', 'president', 'press', 'pressure', 'pretend', 'pretty', 'prevail', 'prevent', 'previous', 'previously', 'price', 'pride', 'priest', 'primarily', 'primary', 'prime', 'primitive', 'prince', 'princess', 'principal', 'principle', 'print', 'prior', 'prison', 'prisoner', 'private', 'privilege', 'prize', 'probability', 'probable', 'probably', 'problem', 'procedure', 'proceed', 'process', 'procession', 'proclaim', 'produce', 'product', 'production', 'productive', 'profession', 'professional', 'professor', 'profit', 'program', 'progress', 'progressive', 'prohibit', 'project', 'prominent', 'promise', 'promising', 'promote', 'prompt', 'pronoun', 'pronounce', 'pronunciation', 'proof', 'proper', 'properly', 'property', 'proportion', 'proportional', 'proposal', 'propose', 'prospect', 'prosperity', 'prosperous', 'protect', 'protection', 'protective', 'protein', 'protest', 'proud', 'prove', 'provide', 'provided', 'province', 'provision', 'psychological', 'public', 'publication', 'publish', 'pudding', 'puff', 'pull', 'pulse', 'pump', 'punch', 'punctual', 'punish', 'punishment', 'pupil', 'puppet', 'purchase', 'pure', 'purely', 'purify', 'purity', 'purple', 'purpose', 'purse', 'pursue', 'pursuit', 'push', 'put', 'puzzle', 'qualify', 'quality', 'quantity', 'quarrel', 'quart', 'quarter', 'quarterly', 'queen', 'queer', 'question', 'queue', 'quick', 'quicken', 'quickly', 'quiet', 'quilt', 'quit', 'quite', 'quiz', 'quotation', 'quote', 'rabbit', 'race', 'racial', 'rack', 'racket', 'radar', 'radiate', 'radiation', 'radio', 'radioactive', 'radioactivity', 'radish', 'radium', 'radius', 'rag', 'rage', 'raid', 'rail', 'railroad', 'railway', 'rain', 'rainbow', 'rainy', 'raise', 'rake', 'range', 'rank', 'rapid', 'rapidly', 'rare', 'rarely', 'rat', 'rate', 'rather', 'ratio', 'rational', 'raw', 'ray', 'razor', 'reach', 'react', 'reaction', 'read', 'reader', 'readily', 'reading', 'ready', 'real', 'reality', 'realize', 'really', 'realm', 'reap', 'rear', 'reason', 'reasonable', 'rebel', 'rebellion', 'recall', 'receipt', 'receive', 'receiver', 'recent', 'recently', 'reception', 'recite', 'recognition', 'recognize', 'recollect', 'recommend', 'recommendation', 'record', 'recorder', 'recover', 'recovery', 'red', 'reduce', 'reduction', 'reed', 'reel', 'refer', 'reference', 'refine', 'reflect', 'reflection', 'reflexion', 'reform', 'refrigerator', 'refuge', 'refusal', 'refuse', 'refute', 'regard', 'regarding', 'regardless', 'region', 'register', 'regret', 'regular', 'regularly', 'regulate', 'regulation', 'rehearsal', 'reign', 'rein', 'reinforce', 'reject', 'rejoice', 'relate', 'relation', 'relationship', 'relative', 'relatively', 'relativity', 'relax', 'release', 'relevant', 'reliability', 'reliable', 'reliance', 'relief', 'relieve', 'religion', 'religious', 'reluctant', 'rely', 'remain', 'remains', 'remark', 'remarkable', 'remedy', 'remember', 'remind', 'remote', 'removal', 'remove', 'render', 'renew', 'rent', 'repair', 'repeat', 'repeatedly', 'repent', 'repetition', 'replace', 'reply', 'report', 'reporter', 'represent', 'representative', 'reproach', 'reproduce', 'republic', 'republican', 'reputation', 'request', 'require', 'requirement', 'rescue', 'research', 'researcher', 'resemble', 'reserve', 'reservior', 'residence', 'resident', 'resign', 'resignation', 'resist', 'resistance', 'resistant', 'resolution', 'resolve', 'resort', 'resource', 'respect', 'respectful', 'respective', 'respectively', 'respond', 'response', 'responsibility', 'responsible', 'rest', 'restaurant', 'restless', 'restore', 'restrain', 'restraint', 'restrict', 'restriction', 'result', 'resume', 'retain', 'retell', 'retire', 'retreat', 'return', 'reveal', 'revenge', 'reverse', 'review', 'revise', 'revolt', 'revolution', 'revolutionary', 'reward', 'rhythm', 'rib', 'ribbon', 'rice', 'rich', 'rid', 'riddle', 'ride', 'rider', 'ridge', 'ridiculous', 'rifle', 'right', 'rigid', 'ring', 'ripe', 'ripen', 'rise', 'risk', 'rival', 'river', 'road', 'roar', 'roast', 'rob', 'robber', 'robbery', 'robe', 'robot', 'rock', 'rocket', 'rod', 'role', 'roll', 'roller', 'Roman', 'romantic', 'roof', 'room', 'root', 'rope', 'rose', 'rot', 'rotary', 'rotate', 'rotation', 'rotten', 'rough', 'roughly', 'round', 'rouse', 'route', 'routine', 'row', 'royal', 'rub', 'rubber', 'rubbish', 'rude', 'rug', 'ruin', 'rule', 'ruler', 'rumour', 'run', 'runner', 'rural', 'rush', 'Russian', 'rust', 'rusty', 'sack', 'sacred', 'sacrifice', 'sad', 'saddle', 'sadly', 'sadness', 'safe', 'safely', 'safety', 'sail', 'sailor', 'saint', 'sake', 'salad', 'salary', 'sale', 'salesman', 'salt', 'salute', 'same', 'sample', 'sand', 'sandwich', 'sandy', 'satellite', 'satisfaction', 'satisfactory', 'satisfy', 'Saturday', 'sauce', 'saucer', 'sausage', 'save', 'saving', 'saw', 'say', 'scale', 'scan', 'scar', 'scarce', 'scarcely', 'scare', 'scarf', 'scatter', 'scene', 'scenery', 'scent', 'schedule', 'scheme', 'scholar', 'scholarship', 'school', 'science', 'scientific', 'scientist', 'scissors', 'scold', 'scope', 'score', 'scorn', 'scout', 'scrape', 'scratch', 'scream', 'screen', 'screw', 'sea', 'seal', 'seaman', 'seaport', 'search', 'season', 'seat', 'second', 'secondary', 'secondly', 'secret', 'secretary', 'section', 'secure', 'security', 'see', 'seed', 'seek', 'seem', 'seize', 'seldom', 'select', 'selection', 'self', 'selfish', 'sell', 'seller', 'semester', 'semiconductor', 'senate', 'send', 'senior', 'sense', 'sensible', 'sensitive', 'sentence', 'separate', 'separately', 'separation', 'September', 'sequence', 'series', 'serious', 'seriously', 'servant', 'serve', 'service', 'session', 'set', 'setting', 'settle', 'settlement', 'seven', 'seventeen', 'seventh', 'seventy', 'several', 'severe', 'severely', 'sew', 'sex', 'shade', 'shadow', 'shady', 'shake', 'shall', 'shallow', 'shame', 'shampoo', 'shape', 'share', 'sharp', 'sharpen', 'sharply', 'shave', 'she', 'shear', 'shed', 'sheep', 'sheet', 'shelf', 'shell', 'shelter', 'shepherd', 'shield', 'shift', 'shilling', 'shine', 'ship', 'shirt', 'shiver', 'shock', 'shoe', 'shoot', 'shop', 'shopkeeper', 'shopping', 'shore', 'short', 'shortage', 'shortcoming', 'shortly', 'shot', 'should', 'shoulder', 'shout', 'show', 'shower', 'shriek', 'shrink', 'shut', 'shy', 'sick', 'sickness', 'side', 'sideways', 'sigh', 'sight', 'sightseeing', 'sign', 'signal', 'signature', 'significance', 'significant', 'silence', 'silent', 'silk', 'silly', 'silver', 'similar', 'similarly', 'simple', 'simplicity', 'simplify', 'simply', 'sin', 'since', 'sincere', 'sing', 'singer', 'single', 'singular', 'sink', 'sir', 'sister', 'sit', 'site', 'situation', 'six', 'sixteen', 'sixth', 'sixty', 'size', 'skate', 'sketch', 'ski', 'skill', 'skilled', 'skillful', 'skim', 'skin', 'skirt', 'sky', 'slam', 'slave', 'slavery', 'sleep', 'sleepy', 'sleeve', 'slender', 'slice', 'slide', 'slight', 'slightly', 'slip', 'slipper', 'slippery', 'slit', 'slogan', 'slope', 'slow', 'slowly', 'slum', 'sly', 'small', 'smart', 'smell', 'smile', 'smog', 'smoke', 'smooth', 'smoothly', 'snake', 'snow', 'snowstorm', 'snowy', 'so', 'soak', 'soap', 'sob', 'sober', 'so-called', 'soccer', 'social', 'socialism', 'socialist', 'society', 'sock', 'soda', 'soft', 'softly', 'soil', 'solar', 'soldier', 'sole', 'solely', 'solemn', 'solid', 'soluble', 'solution', 'solve', 'some', 'somebody', 'somehow', 'someone', 'something', 'sometime', 'sometimes', 'somewhat', 'somewhere', 'son', 'song', 'soon', 'sophisticated', 'sore', 'sorrow', 'sorry', 'sort', 'soul', 'sound', 'soup', 'sour', 'source', 'south', 'southeast', 'southern', 'southwest', 'Soviet', 'sow', 'space', 'spacecraft', 'spaceship', 'spade', 'span', 'Spanish', 'spare', 'spark', 'sparkle', 'sparrow', 'speak', 'speaker', 'spear', 'special', 'specialist', 'speciality', 'specialize', 'specially', 'specific', 'specify', 'specimen', 'spectacle', 'speech', 'speed', 'spell', 'spelling', 'spend', 'sphere', 'spider', 'spill', 'spin', 'spirit', 'spiritual', 'spit', 'splash', 'splendid', 'split', 'spoil', 'sponge', 'sponsor', 'spontaneous', 'spoon', 'sport', 'sportsman', 'spot', 'spray', 'spread', 'spring', 'springtime', 'sprinkle', 'spur', 'spy', 'square', 'squeeze', 'squirrel', 'stab', 'stability', 'stable', 'stack', 'stadium', 'staff', 'stage', 'stain', 'stair', 'staircase', 'stake', 'stale', 'stamp', 'stand', 'standard', 'standpoint', 'star', 'stare', 'start', 'startle', 'starve', 'state', 'statement', 'statesman', 'static', 'station', 'statistical', 'statue', 'status', 'stay', 'steadily', 'steady', 'steal', 'steam', 'steamer', 'steel', 'steep', 'steer', 'stem', 'step', 'stern', 'steward', 'stewardess', 'stick', 'sticky', 'stiff', 'stiffen', 'still', 'stimulate', 'sting', 'stir', 'stitch', 'stock', 'stocking', 'stomach', 'stone', 'stony', 'stool', 'stoop', 'stop', 'storage', 'store', 'storey', 'storm', 'stormy', 'story', 'stove', 'straight', 'strain', 'strange', 'stranger', 'strap', 'strategy', 'straw', 'strawberry', 'stream', 'street', 'strength', 'strengthen', 'stress', 'stretch', 'strict', 'strictly', 'strike', 'string', 'strip', 'stripe', 'stroke', 'strong', 'strongly', 'structural', 'structure', 'struggle', 'student', 'study', 'stuff', 'stumble', 'stupid', 'ｓｔｙｌｅ', 'subject', 'submarine', 'submerge', 'submit', 'subsequent', 'substance', 'substantial', 'substitute', 'subtract', 'suburb', 'subway', 'succeed', 'success', 'successful', 'successfully', 'succession', 'successive', 'such', 'suck', 'sudden', 'suddenly', 'suffer', 'sufficient', 'sufficiently', 'sugar', 'suggest', 'suggestion', 'suit', 'suitable', 'sulphur', 'sum', 'summarize', 'summary', 'summer', 'sun', 'Sunday', 'sunlight', 'sunny', 'sunrise', 'sunset', 'sunshine', 'super', 'superficial', 'superior', 'supermarket', 'supper', 'supplement', 'supply', 'support', 'suppose', 'supreme', 'sure', 'surely', 'surface', 'surgeon', 'surgery', 'surname', 'surprise', 'surprising', 'surprisingly', 'surrender', 'surround', 'surroundings', 'survey', 'survive', 'suspect', 'suspend', 'suspicion', 'sustain', 'swallow', 'swamp', 'swan', 'swarm', 'sway', 'swear', 'sweat', 'sweater', 'sweep', 'sweet', 'swell', 'swift', 'swim', 'swing', 'Swiss', 'switch', 'sword', 'symbol', 'sympathetic', 'sympathize', 'sympathy', 'synthetic', 'system', 'systematic(al)', 'table', 'tablet', 'tag', 'tail', 'tailor', 'take', 'tale', 'talent', 'talk', 'tall', 'tame', 'tan', 'tank', 'tap', 'tape', 'target', 'task', 'taste', 'tax', 'taxi', 'tea', 'teach', 'teacher', 'teaching', 'team', 'tear', 'technical', 'technician', 'technique', 'technology', 'tedious', 'teenager', 'telegram', 'telegraph', 'telephone', 'telescope', 'television', 'tell', 'temper', 'temperature', 'temple', 'temporary', 'tempt', 'temptation', 'ten', 'tenant', 'tend', 'tendency', 'tender', 'tennis', 'tense', 'tent', 'tenth', 'term', 'terminal', 'terrible', 'terrific', 'territory', 'terror', 'test', 'text', 'textbook', 'textile', 'than', 'thank', 'that', 'the', 'theatre', 'their', 'theirs', 'them', 'themselves', 'then', 'theoretical', 'theory', 'there', 'thereby', 'therefore', 'thermometer', 'these', 'they', 'thick', 'thickness', 'thief', 'thin', 'thing', 'think', 'third', 'thirdly', 'thirst', 'thirsty', 'thirteen', 'thirty', 'this', 'thorn', 'thorough', 'those', 'though', 'thought', 'thoughtful', 'thousand', 'thread', 'threat', 'threaten', 'three', 'thrill', 'thrive', 'throat', 'throne', 'throng', 'through', 'throughout', 'throw', 'thrust', 'thumb', 'thunder', 'Thursday', 'thus', 'tick', 'ticket', 'tide', 'tidy', 'tie', 'tiger', 'tight', 'till', 'timber', 'time', 'timetable', 'timid', 'tin', 'tiny', 'tip', 'tire', 'tired', 'tissue', 'title', 'to', 'toast', 'tobacco', 'today', 'toe', 'together', 'toilet', 'tolerance', 'tolerate', 'tomato', 'tomb', 'tomorrow', 'ton', 'tone', 'tongue', 'tonight', 'too', 'tool', 'tooth', 'top', 'topic', 'torch', 'torrent', 'tortoise', 'torture', 'toss', 'total', 'touch', 'tough', 'tour', 'tourist', 'toward(s)', 'towel', 'tower', 'town', 'toy', 'trace', 'track', 'tractor', 'trade', 'tradition', 'traditional', 'traffic', 'tragedy', 'trail', 'train', 'training', 'traitor', 'tram', 'tramp', 'transfer', 'transform', 'transformation', 'transformer', 'transistor', 'translate', 'translation', 'transmission', 'transmit', 'transparent', 'transport', 'transportation', 'trap', 'travel', 'tray', 'treason', 'treasure', 'treat', 'treatment', 'treaty', 'tree', 'tremble', 'tremendous', 'trend', 'trial', 'triangle', 'tribe', 'trick', 'trifle', 'trim', 'trip', 'triumph', 'troop', 'tropical', 'trouble', 'troublesome', 'trousers', 'truck', 'true', 'truly', 'trumpet', 'trunk', 'trust', 'truth', 'try', 'tub', 'tube', 'tuck', 'Tuesday', 'tuition', 'tumble', 'tune', 'tunnel', 'turbine', 'turbulent', 'turkey', 'turn', 'turning', 'turnip', 'tutor', 'twelfth', 'twelve', 'twentieth', 'twenty', 'twice', 'twin', 'twinkle', 'twist', 'two', '无效writer', 'typhoon', 'typical', 'typist', 'tyre', 'ugly', 'ultimate', 'ultimately', 'umbrella', 'unable', 'unbearable', 'uncertain', 'uncle', 'uncomfortable', 'unconscious', 'uncover', 'under', 'undergo', 'undergraduate', 'underground', 'underline', 'underneath', 'understand', 'understanding', 'undertake', 'undertaking', 'undo', 'undoubtedly', 'uneasy', 'unexpected', 'unfair', 'unfortunate', 'unfortunately', 'unhappy', 'uniform', 'union', 'unique', 'unit', 'unite', 'unity', 'universal', 'universe', 'university', 'unjust', 'unkind', 'unknown', 'unless', 'unlike', 'unlikely', 'unload', 'unlucky', 'unnecessary', 'unpleasant', 'unsatisfactory', 'unstable', 'unsuitable', 'until', 'unusual', 'unusually', 'unwilling', 'up', 'upon', 'upper', 'upright', 'upset', 'upside-down', 'upstairs', 'up-to-date', 'upward', 'upwards', 'urge', 'urgent', 'us', 'usage', 'use', 'used', 'useful', 'useless', 'user', 'usual', 'usually', 'utility', 'utilize', 'utmost', 'utter', 'vacant', 'vacation', 'vacuum', 'vague', 'vain', 'valid', 'valley', 'valuable', 'value', 'van', 'vanish', 'vanity', 'vapour', 'variable', 'variation', 'variety', 'various', 'vary', 'vase', 'vast', 'vegetable', 'vehicle', 'veil', 'velocity', 'velvet', 'venture', 'verb', 'verify', 'version', 'vertical', 'very', 'vessel', 'vest', 'veteran', 'vex', 'via', 'vibrate', 'vibration', 'vice', 'victim', 'victorious', 'victory', 'video', 'view', 'viewpoint', 'vigorous', 'village', 'vine', 'vinegar', 'violence', 'violent', 'violet', 'violin', 'virtually', 'virtue', 'visible', 'vision', 'visit', 'visitor', 'visual', 'vital', 'vitamin', 'vivid', 'vocabulary', 'voice', 'volcano', 'volleyball', 'volt', 'voltage', 'volume', 'voluntary', 'vote', 'voyage', 'wage', 'waggon', 'waist', 'wait', 'waiter', 'wake', 'waken', 'walk', 'wall', 'wallet', 'wander', 'want', 'war', 'warm', 'warmth', 'warn', 'wash', 'waste', 'watch', 'water', 'waterfall', 'waterproof', 'wave', 'wavelength', 'wax', 'way', 'we', 'weak', 'weaken', 'weakness', 'wealth', 'wealthy', 'weapon', 'wear', 'weary', 'weather', 'weave', 'wedding', 'Wednesday', 'weed', 'week', 'weekday', 'weekend', 'weekly', 'weep', 'weigh', 'weight', 'welcome', 'weld', 'welfare', 'well', 'well-known', 'west', 'western', 'westward', 'wet', 'what', 'whatever', 'wheat', 'wheel', 'when', 'whenever', 'where', 'wherever', 'whether', 'which', 'whichever', 'while', 'whilst', 'whip', 'whirl', 'whisky', 'whisper', 'whistle', 'white', 'whitewash', 'who', 'whoever', 'whole', 'wholly', 'whom', 'whose', 'why', 'wicked', 'wide', 'widely', 'widen', 'widespread', 'widow', 'width', 'wife', 'wild', 'will', 'willing', 'win', 'wind', 'window', 'wine', 'wing', 'winner', 'winter', 'wipe', 'wire', 'wireless', 'wisdom', 'wise', 'wish', 'wit', 'with', 'withdraw', 'within', 'without', 'withstand', 'witness', 'wolf', 'woman', 'wonder', 'wonderful', 'wood', 'wooden', 'wool', 'woollen', 'word', 'work', 'worker', 'workman', 'workshop', 'world', 'world-wide', 'worm', 'worry', 'worse', 'worship', 'worst', 'worth', 'worthless', 'worthwhile', 'worthy', 'would', 'wound', 'wrap', 'wreath', 'wreck', 'wrist', 'write', 'writer', 'writing', 'wrong', 'X-ray', 'yard', 'yawn', 'year', 'yearly', 'yell', 'yellow', 'yes', 'yesterday', 'yet', 'yield', 'you', 'young', 'your', 'yours', 'yourself', 'youth', 'youthful', 'zeal', 'zealous', 'zebra', 'zero', 'zone', 'zoo'])"
     },
     "execution_count": 105,
     "metadata": {},
     "output_type": "execute_result"
    }
   ],
   "source": [
    "english_to_chinese_definitions.keys()"
   ],
   "metadata": {
    "collapsed": false
   }
  },
  {
   "cell_type": "code",
   "source": [
    "import re\n",
    "import matplotlib.pyplot as plt\n",
    "\n",
    "class DictionaryTool:\n",
    "    def _init_(self):\n",
    "        self.word_list = []\n",
    "        self.occurrences = {}\n",
    "\n",
    "    def load_words(self, file_name):\n",
    "        with open(file_name, 'r', encoding='gbk') as f:\n",
    "            for line in f:\n",
    "                self.word_list.append(line.strip())\n",
    "\n",
    "    def search_words(self, word):\n",
    "        found_words = []\n",
    "        for w in self.word_list:\n",
    "            if word in w:\n",
    "                found_words.append(w)\n",
    "        return found_words\n",
    "\n",
    "    def count_letter_occurrences(self):\n",
    "        alphabet = 'abcdefghijklmnopqrstuvwxyz'\n",
    "        for w in self.word_list:\n",
    "            for char in w:\n",
    "                if char.isalpha() and char.lower() in alphabet:\n",
    "                    char = char.lower()\n",
    "                    if char in self.occurrences:\n",
    "                        self.occurrences[char] += 1\n",
    "                    else:\n",
    "                        self.occurrences[char] = 1\n",
    "\n",
    "    def display_search_results(self, results):\n",
    "        if results:\n",
    "            print(\"Search results:\")\n",
    "            for i, result in enumerate(results, 1):\n",
    "                print(f\"{i}. {result}\")\n",
    "        else:\n",
    "            print(\"No results found.\")\n",
    "\n",
    "    def display_letter_occurrences(self):\n",
    "        print(\"Letter Occurrences:\")\n",
    "        for char, count in self.occurrences.items():\n",
    "            print(char, count, '#' * count)\n",
    "\n",
    "    def draw_letter_occurrences_bar_graph(self):\n",
    "        x = list(self.occurrences.keys())\n",
    "        y = list(self.occurrences.values())\n",
    "        plt.bar(x, y)\n",
    "        plt.xlabel('Letter')\n",
    "        plt.ylabel('Occurrences')\n",
    "        plt.title('Letter Occurrences Bar Graph')\n",
    "        plt.show()\n",
    "\n",
    "    def search_chinese_word(self, word):\n",
    "        found_words = []\n",
    "        for w in self.word_list:\n",
    "            if word in w:\n",
    "                found_words.append(w)\n",
    "        return found_words\n",
    "\n",
    "    def run(self):\n",
    "        file_name = 'words.txt'\n",
    "        self.load_words(file_name)\n",
    "        while True:\n",
    "            print(\"\\nDictionary Tool\")\n",
    "            print(\"1. Search English words\")\n",
    "            print(\"2. Search Chinese word and show all possible matched English words list\")\n",
    "            print(\"3. Count letter occurrences\")\n",
    "            print(\"4. Draw letter occurrences bar graph\")\n",
    "            print(\"5. Exit\")\n",
    "            choice = input(\"Enter your choice (1/2/3/4/5): \")\n",
    "            if choice == '1':\n",
    "                search_input = input(\"Enter a word to search: \")\n",
    "                results = self.search_words(search_input)\n",
    "                self.display_search_results(results)\n",
    "                print(f\"Total matched words: {len(results)}\")  # Display total matched words\n",
    "                if results:\n",
    "                    selected_word = input(\"Select a word from the matched words: \")\n",
    "                    # Add code to display translation for the selected word\n",
    "                    definition = self.define_english_word(selected_word)\n",
    "                    print(definition)\n",
    "                else:\n",
    "                    print(\"No results to select.\")\n",
    "            elif choice == '2':\n",
    "                search_input = input(\"Enter a Chinese word to search: \")\n",
    "                results = self.search_chinese_word(search_input)\n",
    "                self.display_search_results(results)\n",
    "                print(f\"Total matched words: {len(results)}\")  # Display total matched words\n",
    "                if results:\n",
    "                    selected_word = input(\"Select a word from the matched words: \")\n",
    "                    # Add code to display translation for the selected word\n",
    "                    self.return_chinese_def(selected_word)\n",
    "                else:\n",
    "                    print(\"No results to select.\")\n",
    "            elif choice == '3':\n",
    "                self.count_letter_occurrences()\n",
    "                self.display_letter_occurrences()\n",
    "            elif choice == '4':\n",
    "                self.count_letter_occurrences()\n",
    "                self.draw_letter_occurrences_bar_graph()\n",
    "            elif choice == '5':\n",
    "                print(\"Exiting...\")\n",
    "                break\n",
    "            else:\n",
    "                print(\"Invalid choice.\")\n",
    "    def run(self):\n",
    "        file_name = 'words.txt'\n",
    "        self.load_words(file_name)\n",
    "        while True:\n",
    "            print(\"\\nDictionary Tool\")\n",
    "            print(\"1. Search English words\")\n",
    "            print(\"2. Search Chinese word and show all possible matched English words list\")\n",
    "            print(\"3. Count letter occurrences\")\n",
    "            print(\"4. Draw letter occurrences bar graph\")\n",
    "            print(\"5. Exit\")\n",
    "            choice = input(\"Enter your choice (1/2/3/4/5): \")\n",
    "            if choice == '1':\n",
    "                search_input = input(\"Enter a word to search: \")\n",
    "                results = self.search_words(search_input)\n",
    "                self.display_search_results(results)\n",
    "                print(f\"Total matched words: {len(results)}\")  # Display total matched words\n",
    "                if results:\n",
    "                    selected_word = input(\"Select a word from the matched words: \")\n",
    "                    # Add code to display translation for the selected word\n",
    "                else:\n",
    "                    print(\"No results to select.\")\n",
    "            elif choice == '2':\n",
    "                search_input = input(\"Enter a Chinese word to search: \")\n",
    "                results = self.search_chinese_word(search_input)\n",
    "                self.display_search_results(results)\n",
    "                print(f\"Total matched words: {len(results)}\")  # Display total matched words\n",
    "                if results:\n",
    "                    selected_word = input(\"Select a word from the matched words: \")\n",
    "                    # Add code to display translation for the selected word\n",
    "                else:\n",
    "                    print(\"No results to select.\")\n",
    "            elif choice == '3':\n",
    "                self.count_letter_occurrences()\n",
    "                self.display_letter_occurrences()\n",
    "            elif choice == '4':\n",
    "                self.count_letter_occurrences()\n",
    "                self.draw_letter_occurrences_bar_graph()\n",
    "            elif choice == '5':\n",
    "                print(\"Exiting...\")\n",
    "                break\n",
    "            else:\n",
    "                print(\"Invalid choice.\")\n",
    "\n",
    "                \n"
   ],
   "metadata": {
    "id": "lqpFdj0Gx5vJ"
   },
   "execution_count": null,
   "outputs": []
  },
  {
   "cell_type": "code",
   "source": [
    "dt = DictionaryTool()\n",
    "dt.run()"
   ],
   "metadata": {
    "id": "6KTMH2FWyS9N",
    "outputId": "37cfbee7-4649-4b04-e6c2-df4d6f16613f",
    "colab": {
     "base_uri": "https://localhost:8080/",
     "height": 329
    }
   },
   "execution_count": null,
   "outputs": [
    {
     "output_type": "error",
     "ename": "AttributeError",
     "evalue": "ignored",
     "traceback": [
      "\u001B[0;31m---------------------------------------------------------------------------\u001B[0m",
      "\u001B[0;31mAttributeError\u001B[0m                            Traceback (most recent call last)",
      "\u001B[0;32m<ipython-input-3-c68bfac0e05e>\u001B[0m in \u001B[0;36m<cell line: 2>\u001B[0;34m()\u001B[0m\n\u001B[1;32m      1\u001B[0m \u001B[0mdt\u001B[0m \u001B[0;34m=\u001B[0m \u001B[0mDictionaryTool\u001B[0m\u001B[0;34m(\u001B[0m\u001B[0;34m)\u001B[0m\u001B[0;34m\u001B[0m\u001B[0;34m\u001B[0m\u001B[0m\n\u001B[0;32m----> 2\u001B[0;31m \u001B[0mdt\u001B[0m\u001B[0;34m.\u001B[0m\u001B[0mrun\u001B[0m\u001B[0;34m(\u001B[0m\u001B[0;34m)\u001B[0m\u001B[0;34m\u001B[0m\u001B[0;34m\u001B[0m\u001B[0m\n\u001B[0m",
      "\u001B[0;32m<ipython-input-2-eed93a106478>\u001B[0m in \u001B[0;36mrun\u001B[0;34m(self)\u001B[0m\n\u001B[1;32m     61\u001B[0m     \u001B[0;32mdef\u001B[0m \u001B[0mrun\u001B[0m\u001B[0;34m(\u001B[0m\u001B[0mself\u001B[0m\u001B[0;34m)\u001B[0m\u001B[0;34m:\u001B[0m\u001B[0;34m\u001B[0m\u001B[0;34m\u001B[0m\u001B[0m\n\u001B[1;32m     62\u001B[0m         \u001B[0mfile_name\u001B[0m \u001B[0;34m=\u001B[0m \u001B[0;34m'words.txt'\u001B[0m\u001B[0;34m\u001B[0m\u001B[0;34m\u001B[0m\u001B[0m\n\u001B[0;32m---> 63\u001B[0;31m         \u001B[0mself\u001B[0m\u001B[0;34m.\u001B[0m\u001B[0mload_words\u001B[0m\u001B[0;34m(\u001B[0m\u001B[0mfile_name\u001B[0m\u001B[0;34m)\u001B[0m\u001B[0;34m\u001B[0m\u001B[0;34m\u001B[0m\u001B[0m\n\u001B[0m\u001B[1;32m     64\u001B[0m         \u001B[0;32mwhile\u001B[0m \u001B[0;32mTrue\u001B[0m\u001B[0;34m:\u001B[0m\u001B[0;34m\u001B[0m\u001B[0;34m\u001B[0m\u001B[0m\n\u001B[1;32m     65\u001B[0m             \u001B[0mprint\u001B[0m\u001B[0;34m(\u001B[0m\u001B[0;34m\"\\nDictionary Tool\"\u001B[0m\u001B[0;34m)\u001B[0m\u001B[0;34m\u001B[0m\u001B[0;34m\u001B[0m\u001B[0m\n",
      "\u001B[0;32m<ipython-input-2-eed93a106478>\u001B[0m in \u001B[0;36mload_words\u001B[0;34m(self, file_name)\u001B[0m\n\u001B[1;32m     10\u001B[0m         \u001B[0;32mwith\u001B[0m \u001B[0mopen\u001B[0m\u001B[0;34m(\u001B[0m\u001B[0mfile_name\u001B[0m\u001B[0;34m,\u001B[0m \u001B[0;34m'r'\u001B[0m\u001B[0;34m,\u001B[0m \u001B[0mencoding\u001B[0m\u001B[0;34m=\u001B[0m\u001B[0;34m'gbk'\u001B[0m\u001B[0;34m)\u001B[0m \u001B[0;32mas\u001B[0m \u001B[0mf\u001B[0m\u001B[0;34m:\u001B[0m\u001B[0;34m\u001B[0m\u001B[0;34m\u001B[0m\u001B[0m\n\u001B[1;32m     11\u001B[0m             \u001B[0;32mfor\u001B[0m \u001B[0mline\u001B[0m \u001B[0;32min\u001B[0m \u001B[0mf\u001B[0m\u001B[0;34m:\u001B[0m\u001B[0;34m\u001B[0m\u001B[0;34m\u001B[0m\u001B[0m\n\u001B[0;32m---> 12\u001B[0;31m                 \u001B[0mself\u001B[0m\u001B[0;34m.\u001B[0m\u001B[0mword_list\u001B[0m\u001B[0;34m.\u001B[0m\u001B[0mappend\u001B[0m\u001B[0;34m(\u001B[0m\u001B[0mline\u001B[0m\u001B[0;34m.\u001B[0m\u001B[0mstrip\u001B[0m\u001B[0;34m(\u001B[0m\u001B[0;34m)\u001B[0m\u001B[0;34m)\u001B[0m\u001B[0;34m\u001B[0m\u001B[0;34m\u001B[0m\u001B[0m\n\u001B[0m\u001B[1;32m     13\u001B[0m \u001B[0;34m\u001B[0m\u001B[0m\n\u001B[1;32m     14\u001B[0m     \u001B[0;32mdef\u001B[0m \u001B[0msearch_words\u001B[0m\u001B[0;34m(\u001B[0m\u001B[0mself\u001B[0m\u001B[0;34m,\u001B[0m \u001B[0mword\u001B[0m\u001B[0;34m)\u001B[0m\u001B[0;34m:\u001B[0m\u001B[0;34m\u001B[0m\u001B[0;34m\u001B[0m\u001B[0m\n",
      "\u001B[0;31mAttributeError\u001B[0m: 'DictionaryTool' object has no attribute 'word_list'"
     ]
    }
   ]
  },
  {
   "cell_type": "code",
   "source": [
    "if _name_ == '_main_':\n",
    "    dt = DictionaryTool()\n",
    "    dt.run()"
   ],
   "metadata": {
    "id": "zGFuqcU3x_-6"
   },
   "execution_count": null,
   "outputs": []
  },
  {
   "cell_type": "code",
   "execution_count": 107,
   "outputs": [],
   "source": [
    "  with open(\"words.txt\", 'r', encoding='gb2312') as file:\n",
    "    for line in file:\n",
    "      # Split the line into English word, part of speech and Chinese translations\n",
    "      line_split = line.strip().split(\" \")\n",
    "      english, chinese_definitions = line_split[0], line_split[1:]\n",
    "      # Split the Chinese translations into a list\n",
    "      exam = [jieba.lcut(x) for x in chinese_definitions]\n",
    "      chinese_listset = [extract_chinese_words(x) for x in exam]\n",
    "      chinese_listwords = [lst[0] for item in chinese_listset for lst in item]\n"
   ],
   "metadata": {
    "collapsed": false
   }
  },
  {
   "cell_type": "code",
   "execution_count": 108,
   "outputs": [],
   "source": [
    "def extract_chinese_words(lst):\n",
    "    \"\"\"\n",
    "    This function takes in a list of Chinese definitions for an English Word and extracts the individual Chinese Words\n",
    "    in them. This extraction also excludes the part of speech include in the definition.\n",
    "    Example:\n",
    "\n",
    "    :param lst:\n",
    "    :return:\n",
    "    \"\"\"\n",
    "    chinese_words = []\n",
    "    pos = None\n",
    "\n",
    "    for i, item in enumerate(lst):\n",
    "        # Remove symbols\n",
    "        if item in [\".\", \",\", ', ', '; ', ';', '. ', '...']:\n",
    "            continue\n",
    "\n",
    "        # Extract part-of-speech\n",
    "        if item.isalpha() and not all('\\u4e00' <= char <= '\\u9fff' for char in item) and pos is None:\n",
    "            pos = item\n",
    "        elif item.isalpha() and pos is not None and not all('\\u4e00' <= char <= '\\u9fff' for char in item):\n",
    "            pos = item\n",
    "\n",
    "        # Extract Chinese word\n",
    "        if all('\\u4e00' <= char <= '\\u9fff' for char in item):\n",
    "            chinese_words.append((item.strip(), pos))\n",
    "\n",
    "    return chinese_words\n"
   ],
   "metadata": {
    "collapsed": false
   }
  },
  {
   "cell_type": "code",
   "execution_count": 111,
   "outputs": [
    {
     "name": "stdout",
     "output_type": "stream",
     "text": [
      "[['vt', '.', '丢弃', '；', '放弃', '，', '抛弃']]\n",
      "[[('丢弃', 'vt'), ('放弃', 'vt'), ('抛弃', 'vt')]]\n"
     ]
    }
   ],
   "source": [
    "  with open(\"words.txt\", 'r', encoding='gb2312') as file:\n",
    "    line = file.readline()\n",
    "    # Split the line into English word, part of speech and Chinese translations\n",
    "    line_split = line.strip().split(\" \")\n",
    "    english, chinese_definitions = line_split[0], line_split[1:]\n",
    "    # Split the Chinese translations into a list\n",
    "    exam = [jieba.lcut(x) for x in chinese_definitions]\n",
    "    print(exam)\n",
    "    chinese_listset = [extract_chinese_words(x) for x in exam]\n",
    "    print(chinese_listset)"
   ],
   "metadata": {
    "collapsed": false
   }
  },
  {
   "cell_type": "code",
   "execution_count": 113,
   "outputs": [
    {
     "name": "stdout",
     "output_type": "stream",
     "text": [
      "Note: you may need to restart the kernel to use updated packages.\n"
     ]
    },
    {
     "name": "stderr",
     "output_type": "stream",
     "text": [
      "WARNING: Ignoring invalid distribution -ensorflow-intel (c:\\users\\hp\\appdata\\local\\programs\\python\\python310\\lib\\site-packages)\n",
      "WARNING: Ignoring invalid distribution -ensorflow-intel (c:\\users\\hp\\appdata\\local\\programs\\python\\python310\\lib\\site-packages)\n",
      "ERROR: Could not find a version that satisfies the requirement tkinter (from versions: none)\n",
      "ERROR: No matching distribution found for tkinter\n",
      "WARNING: Ignoring invalid distribution -ensorflow-intel (c:\\users\\hp\\appdata\\local\\programs\\python\\python310\\lib\\site-packages)\n",
      "WARNING: Ignoring invalid distribution -ensorflow-intel (c:\\users\\hp\\appdata\\local\\programs\\python\\python310\\lib\\site-packages)\n",
      "WARNING: Ignoring invalid distribution -ensorflow-intel (c:\\users\\hp\\appdata\\local\\programs\\python\\python310\\lib\\site-packages)\n",
      "\n",
      "[notice] A new release of pip is available: 23.0.1 -> 23.1.2\n",
      "[notice] To update, run: python.exe -m pip install --upgrade pip\n"
     ]
    }
   ],
   "source": [
    "pip install tkinter"
   ],
   "metadata": {
    "collapsed": false
   }
  },
  {
   "cell_type": "code",
   "execution_count": 114,
   "outputs": [],
   "source": [
    "import tkinter"
   ],
   "metadata": {
    "collapsed": false
   }
  },
  {
   "cell_type": "code",
   "execution_count": null,
   "outputs": [],
   "source": [],
   "metadata": {
    "collapsed": false
   }
  }
 ]
}
