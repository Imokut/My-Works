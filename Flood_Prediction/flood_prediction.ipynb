{
 "cells": [
  {
   "cell_type": "code",
   "execution_count": 1,
   "id": "052247a1",
   "metadata": {
    "_cell_guid": "b1076dfc-b9ad-4769-8c92-a6c4dae69d19",
    "_uuid": "8f2839f25d086af736a60e9eeb907d3b93b6e0e5",
    "execution": {
     "iopub.execute_input": "2024-05-31T15:25:55.703631Z",
     "iopub.status.busy": "2024-05-31T15:25:55.703153Z",
     "iopub.status.idle": "2024-05-31T15:25:58.392052Z",
     "shell.execute_reply": "2024-05-31T15:25:58.390283Z"
    },
    "papermill": {
     "duration": 2.707238,
     "end_time": "2024-05-31T15:25:58.395146",
     "exception": false,
     "start_time": "2024-05-31T15:25:55.687908",
     "status": "completed"
    },
    "tags": []
   },
   "outputs": [
    {
     "name": "stdout",
     "output_type": "stream",
     "text": [
      "/kaggle/input/playground-series-s4e5/sample_submission.csv\n",
      "/kaggle/input/playground-series-s4e5/train.csv\n",
      "/kaggle/input/playground-series-s4e5/test.csv\n"
     ]
    }
   ],
   "source": [
    "# This Python 3 environment comes with many helpful analytics libraries installed\n",
    "# It is defined by the kaggle/python Docker image: https://github.com/kaggle/docker-python\n",
    "# For example, here's several helpful packages to load\n",
    "\n",
    "import numpy as np \n",
    "import pandas as pd\n",
    "from sklearn.model_selection import train_test_split, GridSearchCV\n",
    "from xgboost import XGBRegressor\n",
    "from sklearn.metrics import r2_score\n",
    "# Input data files are available in the read-only \"../input/\" directory\n",
    "# For example, running this (by clicking run or pressing Shift+Enter) will list all files under the input directory\n",
    "\n",
    "import os\n",
    "for dirname, _, filenames in os.walk('/kaggle/input'):\n",
    "    for filename in filenames:\n",
    "        print(os.path.join(dirname, filename))\n",
    "\n",
    "# You can write up to 20GB to the current directory (/kaggle/working/) that gets preserved as output when you create a version using \"Save & Run All\" \n",
    "# You can also write temporary files to /kaggle/temp/, but they won't be saved outside of the current session"
   ]
  },
  {
   "cell_type": "code",
   "execution_count": 2,
   "id": "f85394e5",
   "metadata": {
    "execution": {
     "iopub.execute_input": "2024-05-31T15:25:58.424960Z",
     "iopub.status.busy": "2024-05-31T15:25:58.423350Z",
     "iopub.status.idle": "2024-05-31T15:25:58.872843Z",
     "shell.execute_reply": "2024-05-31T15:25:58.871505Z"
    },
    "papermill": {
     "duration": 0.467357,
     "end_time": "2024-05-31T15:25:58.875851",
     "exception": false,
     "start_time": "2024-05-31T15:25:58.408494",
     "status": "completed"
    },
    "tags": []
   },
   "outputs": [],
   "source": [
    "import matplotlib.pyplot as plt\n",
    "import seaborn as sns"
   ]
  },
  {
   "cell_type": "code",
   "execution_count": 3,
   "id": "24c3d9a3",
   "metadata": {
    "execution": {
     "iopub.execute_input": "2024-05-31T15:25:58.904406Z",
     "iopub.status.busy": "2024-05-31T15:25:58.903966Z",
     "iopub.status.idle": "2024-05-31T15:26:03.283106Z",
     "shell.execute_reply": "2024-05-31T15:26:03.281528Z"
    },
    "papermill": {
     "duration": 4.396743,
     "end_time": "2024-05-31T15:26:03.286047",
     "exception": false,
     "start_time": "2024-05-31T15:25:58.889304",
     "status": "completed"
    },
    "tags": []
   },
   "outputs": [],
   "source": [
    "# Load Data\n",
    "train_df = pd.read_csv(\"../input/playground-series-s4e5/train.csv\")\n",
    "test_df = pd.read_csv(\"../input/playground-series-s4e5/test.csv\")"
   ]
  },
  {
   "cell_type": "code",
   "execution_count": 4,
   "id": "6d6d821a",
   "metadata": {
    "execution": {
     "iopub.execute_input": "2024-05-31T15:26:03.315006Z",
     "iopub.status.busy": "2024-05-31T15:26:03.314611Z",
     "iopub.status.idle": "2024-05-31T15:26:03.319946Z",
     "shell.execute_reply": "2024-05-31T15:26:03.318678Z"
    },
    "papermill": {
     "duration": 0.023639,
     "end_time": "2024-05-31T15:26:03.322707",
     "exception": false,
     "start_time": "2024-05-31T15:26:03.299068",
     "status": "completed"
    },
    "tags": []
   },
   "outputs": [],
   "source": [
    "# test_df.head()"
   ]
  },
  {
   "cell_type": "code",
   "execution_count": 5,
   "id": "735df28c",
   "metadata": {
    "execution": {
     "iopub.execute_input": "2024-05-31T15:26:03.351095Z",
     "iopub.status.busy": "2024-05-31T15:26:03.350676Z",
     "iopub.status.idle": "2024-05-31T15:26:03.355413Z",
     "shell.execute_reply": "2024-05-31T15:26:03.354294Z"
    },
    "papermill": {
     "duration": 0.021736,
     "end_time": "2024-05-31T15:26:03.357828",
     "exception": false,
     "start_time": "2024-05-31T15:26:03.336092",
     "status": "completed"
    },
    "tags": []
   },
   "outputs": [],
   "source": [
    "# print(train_df.head())\n",
    "# display(train_df.columns)"
   ]
  },
  {
   "cell_type": "code",
   "execution_count": 6,
   "id": "85abdf66",
   "metadata": {
    "execution": {
     "iopub.execute_input": "2024-05-31T15:26:03.386169Z",
     "iopub.status.busy": "2024-05-31T15:26:03.385241Z",
     "iopub.status.idle": "2024-05-31T15:26:03.390257Z",
     "shell.execute_reply": "2024-05-31T15:26:03.388937Z"
    },
    "papermill": {
     "duration": 0.022031,
     "end_time": "2024-05-31T15:26:03.392938",
     "exception": false,
     "start_time": "2024-05-31T15:26:03.370907",
     "status": "completed"
    },
    "tags": []
   },
   "outputs": [],
   "source": [
    "# train_df.dtypes"
   ]
  },
  {
   "cell_type": "code",
   "execution_count": 7,
   "id": "3c0b3829",
   "metadata": {
    "execution": {
     "iopub.execute_input": "2024-05-31T15:26:03.420974Z",
     "iopub.status.busy": "2024-05-31T15:26:03.420597Z",
     "iopub.status.idle": "2024-05-31T15:26:03.425421Z",
     "shell.execute_reply": "2024-05-31T15:26:03.424224Z"
    },
    "papermill": {
     "duration": 0.022408,
     "end_time": "2024-05-31T15:26:03.428289",
     "exception": false,
     "start_time": "2024-05-31T15:26:03.405881",
     "status": "completed"
    },
    "tags": []
   },
   "outputs": [],
   "source": [
    "# train_df.isna().any()"
   ]
  },
  {
   "cell_type": "code",
   "execution_count": 8,
   "id": "4ed2cc9d",
   "metadata": {
    "execution": {
     "iopub.execute_input": "2024-05-31T15:26:03.456786Z",
     "iopub.status.busy": "2024-05-31T15:26:03.456399Z",
     "iopub.status.idle": "2024-05-31T15:26:03.461531Z",
     "shell.execute_reply": "2024-05-31T15:26:03.460202Z"
    },
    "papermill": {
     "duration": 0.022144,
     "end_time": "2024-05-31T15:26:03.464064",
     "exception": false,
     "start_time": "2024-05-31T15:26:03.441920",
     "status": "completed"
    },
    "tags": []
   },
   "outputs": [],
   "source": [
    "# plt.figure(figsize=(20, 20))\n",
    "# sns.heatmap(train_df.corr(), vmax=1, vmin=-1, cmap='RdBu', annot=True)"
   ]
  },
  {
   "cell_type": "code",
   "execution_count": 9,
   "id": "de5ec985",
   "metadata": {
    "execution": {
     "iopub.execute_input": "2024-05-31T15:26:03.492466Z",
     "iopub.status.busy": "2024-05-31T15:26:03.492058Z",
     "iopub.status.idle": "2024-05-31T15:26:03.497573Z",
     "shell.execute_reply": "2024-05-31T15:26:03.496222Z"
    },
    "papermill": {
     "duration": 0.02261,
     "end_time": "2024-05-31T15:26:03.500276",
     "exception": false,
     "start_time": "2024-05-31T15:26:03.477666",
     "status": "completed"
    },
    "tags": []
   },
   "outputs": [],
   "source": [
    "# train_df.hist(figsize=(20, 20), xrot=-45)\n",
    "# plt.show()"
   ]
  },
  {
   "cell_type": "code",
   "execution_count": 10,
   "id": "4f7ded05",
   "metadata": {
    "execution": {
     "iopub.execute_input": "2024-05-31T15:26:03.528175Z",
     "iopub.status.busy": "2024-05-31T15:26:03.527768Z",
     "iopub.status.idle": "2024-05-31T15:26:03.532673Z",
     "shell.execute_reply": "2024-05-31T15:26:03.531492Z"
    },
    "papermill": {
     "duration": 0.021709,
     "end_time": "2024-05-31T15:26:03.535119",
     "exception": false,
     "start_time": "2024-05-31T15:26:03.513410",
     "status": "completed"
    },
    "tags": []
   },
   "outputs": [],
   "source": [
    "# train_df.nunique()"
   ]
  },
  {
   "cell_type": "code",
   "execution_count": 11,
   "id": "54b852bb",
   "metadata": {
    "execution": {
     "iopub.execute_input": "2024-05-31T15:26:03.563519Z",
     "iopub.status.busy": "2024-05-31T15:26:03.563060Z",
     "iopub.status.idle": "2024-05-31T15:26:03.568532Z",
     "shell.execute_reply": "2024-05-31T15:26:03.567164Z"
    },
    "papermill": {
     "duration": 0.023135,
     "end_time": "2024-05-31T15:26:03.571199",
     "exception": false,
     "start_time": "2024-05-31T15:26:03.548064",
     "status": "completed"
    },
    "tags": []
   },
   "outputs": [],
   "source": [
    "# train_df.shape"
   ]
  },
  {
   "cell_type": "markdown",
   "id": "d57981aa",
   "metadata": {
    "papermill": {
     "duration": 0.012643,
     "end_time": "2024-05-31T15:26:03.596679",
     "exception": false,
     "start_time": "2024-05-31T15:26:03.584036",
     "status": "completed"
    },
    "tags": []
   },
   "source": [
    "Notes:\n",
    "\n",
    "1. There are no missing values\n",
    "\n",
    "2. The data is made of 21 categorical columns that are already encoded as integers and a label column in float\n",
    "\n",
    "3. The distribution of the columns is a guassian distribution\n",
    "\n",
    "4. There's no significant correlation between the features."
   ]
  },
  {
   "cell_type": "code",
   "execution_count": 12,
   "id": "e3aed0c7",
   "metadata": {
    "execution": {
     "iopub.execute_input": "2024-05-31T15:26:03.625488Z",
     "iopub.status.busy": "2024-05-31T15:26:03.624299Z",
     "iopub.status.idle": "2024-05-31T15:26:03.706872Z",
     "shell.execute_reply": "2024-05-31T15:26:03.705708Z"
    },
    "papermill": {
     "duration": 0.100079,
     "end_time": "2024-05-31T15:26:03.709856",
     "exception": false,
     "start_time": "2024-05-31T15:26:03.609777",
     "status": "completed"
    },
    "tags": []
   },
   "outputs": [],
   "source": [
    "X = train_df.drop(['FloodProbability', 'id'], axis = 1)\n",
    "y = train_df['FloodProbability']"
   ]
  },
  {
   "cell_type": "code",
   "execution_count": 13,
   "id": "025094a9",
   "metadata": {
    "execution": {
     "iopub.execute_input": "2024-05-31T15:26:03.737644Z",
     "iopub.status.busy": "2024-05-31T15:26:03.737227Z",
     "iopub.status.idle": "2024-05-31T15:26:04.129736Z",
     "shell.execute_reply": "2024-05-31T15:26:04.128428Z"
    },
    "papermill": {
     "duration": 0.409837,
     "end_time": "2024-05-31T15:26:04.132523",
     "exception": false,
     "start_time": "2024-05-31T15:26:03.722686",
     "status": "completed"
    },
    "tags": []
   },
   "outputs": [],
   "source": [
    "# Split data into training and test sets\n",
    "X_train, X_valid, y_train, y_valid = train_test_split(X, y, test_size=0.2, random_state=42)"
   ]
  },
  {
   "cell_type": "code",
   "execution_count": 14,
   "id": "c06f9d5e",
   "metadata": {
    "execution": {
     "iopub.execute_input": "2024-05-31T15:26:04.160762Z",
     "iopub.status.busy": "2024-05-31T15:26:04.160363Z",
     "iopub.status.idle": "2024-05-31T15:26:04.166198Z",
     "shell.execute_reply": "2024-05-31T15:26:04.165063Z"
    },
    "papermill": {
     "duration": 0.023246,
     "end_time": "2024-05-31T15:26:04.168851",
     "exception": false,
     "start_time": "2024-05-31T15:26:04.145605",
     "status": "completed"
    },
    "tags": []
   },
   "outputs": [],
   "source": [
    "# # Mutual Information\n",
    "\n",
    "# from sklearn.feature_selection import mutual_info_regression\n",
    "\n",
    "# def make_mi_scores(X, y):\n",
    "#     mi_scores = mutual_info_regression(X, y)\n",
    "#     mi_scores = pd.Series(mi_scores, name=\"MI Scores\", index=X.columns)\n",
    "#     mi_scores = mi_scores.sort_values(ascending=False)\n",
    "#     return mi_scores\n",
    "\n",
    "# def plot_mi_scores(scores):\n",
    "#     scores = scores.sort_values(ascending=True)\n",
    "#     width = np.arange(len(scores))\n",
    "#     ticks = list(scores.index)\n",
    "#     plt.barh(width, scores)\n",
    "#     plt.yticks(width, ticks)\n",
    "#     plt.title(\"Mutual Information Scores\")"
   ]
  },
  {
   "cell_type": "code",
   "execution_count": 15,
   "id": "e8e10960",
   "metadata": {
    "execution": {
     "iopub.execute_input": "2024-05-31T15:26:04.196592Z",
     "iopub.status.busy": "2024-05-31T15:26:04.196153Z",
     "iopub.status.idle": "2024-05-31T15:26:04.201147Z",
     "shell.execute_reply": "2024-05-31T15:26:04.199990Z"
    },
    "papermill": {
     "duration": 0.021878,
     "end_time": "2024-05-31T15:26:04.203744",
     "exception": false,
     "start_time": "2024-05-31T15:26:04.181866",
     "status": "completed"
    },
    "tags": []
   },
   "outputs": [],
   "source": [
    "# mi_scores = make_mi_scores(X, y)"
   ]
  },
  {
   "cell_type": "code",
   "execution_count": 16,
   "id": "e5d56485",
   "metadata": {
    "execution": {
     "iopub.execute_input": "2024-05-31T15:26:04.231635Z",
     "iopub.status.busy": "2024-05-31T15:26:04.231254Z",
     "iopub.status.idle": "2024-05-31T15:26:04.236302Z",
     "shell.execute_reply": "2024-05-31T15:26:04.235160Z"
    },
    "papermill": {
     "duration": 0.02189,
     "end_time": "2024-05-31T15:26:04.238774",
     "exception": false,
     "start_time": "2024-05-31T15:26:04.216884",
     "status": "completed"
    },
    "tags": []
   },
   "outputs": [],
   "source": [
    "# plt.figure(dpi=100, figsize=(8, 5))\n",
    "# plot_mi_scores(mi_scores)"
   ]
  },
  {
   "cell_type": "code",
   "execution_count": 17,
   "id": "247ab504",
   "metadata": {
    "execution": {
     "iopub.execute_input": "2024-05-31T15:26:04.267286Z",
     "iopub.status.busy": "2024-05-31T15:26:04.266203Z",
     "iopub.status.idle": "2024-05-31T15:26:04.273169Z",
     "shell.execute_reply": "2024-05-31T15:26:04.272025Z"
    },
    "papermill": {
     "duration": 0.023858,
     "end_time": "2024-05-31T15:26:04.275839",
     "exception": false,
     "start_time": "2024-05-31T15:26:04.251981",
     "status": "completed"
    },
    "tags": []
   },
   "outputs": [],
   "source": [
    "from sklearn.model_selection import cross_val_score\n",
    "\n",
    "def score_dataset(X, y, model=XGBRegressor(n_jobs=4, verbosity=2, random_state=1)):\n",
    "    \n",
    "    score = cross_val_score(\n",
    "        model, X, y, cv=5, scoring=\"r2\",\n",
    "    )\n",
    "    score = score.mean()\n",
    "    score = np.sqrt(score)\n",
    "    return score"
   ]
  },
  {
   "cell_type": "code",
   "execution_count": 18,
   "id": "c894e50f",
   "metadata": {
    "execution": {
     "iopub.execute_input": "2024-05-31T15:26:04.303379Z",
     "iopub.status.busy": "2024-05-31T15:26:04.302979Z",
     "iopub.status.idle": "2024-05-31T15:26:04.310009Z",
     "shell.execute_reply": "2024-05-31T15:26:04.308646Z"
    },
    "papermill": {
     "duration": 0.023913,
     "end_time": "2024-05-31T15:26:04.312633",
     "exception": false,
     "start_time": "2024-05-31T15:26:04.288720",
     "status": "completed"
    },
    "tags": []
   },
   "outputs": [],
   "source": [
    "def score_valid(X_train, y_train, X_valid, y_valid):\n",
    "    model=XGBRegressor(n_jobs=4, verbosity=2, random_state=1, early_stopping_rounds = 5)\n",
    "    model.fit(X_train, y_train, eval_set=[(X_valid, y_valid)], verbose = False)\n",
    "    y_pred = model.predict(X_valid)\n",
    "    r2 = r2_score(y_valid, y_pred)\n",
    "    return r2"
   ]
  },
  {
   "cell_type": "code",
   "execution_count": 19,
   "id": "f27059d5",
   "metadata": {
    "execution": {
     "iopub.execute_input": "2024-05-31T15:26:04.340594Z",
     "iopub.status.busy": "2024-05-31T15:26:04.339612Z",
     "iopub.status.idle": "2024-05-31T15:26:04.344716Z",
     "shell.execute_reply": "2024-05-31T15:26:04.343688Z"
    },
    "papermill": {
     "duration": 0.021865,
     "end_time": "2024-05-31T15:26:04.347275",
     "exception": false,
     "start_time": "2024-05-31T15:26:04.325410",
     "status": "completed"
    },
    "tags": []
   },
   "outputs": [],
   "source": [
    "# score_dataset(X, y)"
   ]
  },
  {
   "cell_type": "code",
   "execution_count": 20,
   "id": "88994939",
   "metadata": {
    "execution": {
     "iopub.execute_input": "2024-05-31T15:26:04.374921Z",
     "iopub.status.busy": "2024-05-31T15:26:04.374490Z",
     "iopub.status.idle": "2024-05-31T15:26:04.379735Z",
     "shell.execute_reply": "2024-05-31T15:26:04.378532Z"
    },
    "papermill": {
     "duration": 0.022047,
     "end_time": "2024-05-31T15:26:04.382338",
     "exception": false,
     "start_time": "2024-05-31T15:26:04.360291",
     "status": "completed"
    },
    "tags": []
   },
   "outputs": [],
   "source": [
    "# score_valid(X_train, y_train, X_valid, y_valid)"
   ]
  },
  {
   "cell_type": "code",
   "execution_count": 21,
   "id": "6f4e3570",
   "metadata": {
    "execution": {
     "iopub.execute_input": "2024-05-31T15:26:04.410440Z",
     "iopub.status.busy": "2024-05-31T15:26:04.409969Z",
     "iopub.status.idle": "2024-05-31T15:26:04.415695Z",
     "shell.execute_reply": "2024-05-31T15:26:04.414203Z"
    },
    "papermill": {
     "duration": 0.022789,
     "end_time": "2024-05-31T15:26:04.418278",
     "exception": false,
     "start_time": "2024-05-31T15:26:04.395489",
     "status": "completed"
    },
    "tags": []
   },
   "outputs": [],
   "source": [
    "# from sklearn.preprocessing import PolynomialFeatures\n",
    "# poly = PolynomialFeatures(degree=2)\n",
    "# X_poly_train = poly.fit_transform(X)\n",
    "# X_t, X_v, y_t, y_v = train_test_split(X_poly_train, y, test_size=0.2, random_state=42)\n",
    "# score_valid(X_t, y_t, X_v, y_v)\n"
   ]
  },
  {
   "cell_type": "code",
   "execution_count": 22,
   "id": "fac551b6",
   "metadata": {
    "execution": {
     "iopub.execute_input": "2024-05-31T15:26:04.445605Z",
     "iopub.status.busy": "2024-05-31T15:26:04.445189Z",
     "iopub.status.idle": "2024-05-31T15:26:04.450165Z",
     "shell.execute_reply": "2024-05-31T15:26:04.448988Z"
    },
    "papermill": {
     "duration": 0.02181,
     "end_time": "2024-05-31T15:26:04.452793",
     "exception": false,
     "start_time": "2024-05-31T15:26:04.430983",
     "status": "completed"
    },
    "tags": []
   },
   "outputs": [],
   "source": [
    "# score_dataset(X_poly_train, y)"
   ]
  },
  {
   "cell_type": "code",
   "execution_count": 23,
   "id": "bad48250",
   "metadata": {
    "execution": {
     "iopub.execute_input": "2024-05-31T15:26:04.480437Z",
     "iopub.status.busy": "2024-05-31T15:26:04.480020Z",
     "iopub.status.idle": "2024-05-31T15:26:04.659669Z",
     "shell.execute_reply": "2024-05-31T15:26:04.658431Z"
    },
    "papermill": {
     "duration": 0.197481,
     "end_time": "2024-05-31T15:26:04.663119",
     "exception": false,
     "start_time": "2024-05-31T15:26:04.465638",
     "status": "completed"
    },
    "tags": []
   },
   "outputs": [],
   "source": [
    "df = train_df.copy()\n",
    "df = df.drop(['FloodProbability'],axis = 1)"
   ]
  },
  {
   "cell_type": "code",
   "execution_count": 24,
   "id": "4f0abafc",
   "metadata": {
    "execution": {
     "iopub.execute_input": "2024-05-31T15:26:04.692331Z",
     "iopub.status.busy": "2024-05-31T15:26:04.691910Z",
     "iopub.status.idle": "2024-05-31T15:26:04.706245Z",
     "shell.execute_reply": "2024-05-31T15:26:04.704939Z"
    },
    "papermill": {
     "duration": 0.032693,
     "end_time": "2024-05-31T15:26:04.708965",
     "exception": false,
     "start_time": "2024-05-31T15:26:04.676272",
     "status": "completed"
    },
    "tags": []
   },
   "outputs": [],
   "source": [
    "def generate_features(dataset):\n",
    "    features = ['MonsoonIntensity', 'TopographyDrainage', 'RiverManagement',\n",
    "       'Deforestation', 'Urbanization', 'ClimateChange', 'DamsQuality',\n",
    "       'Siltation', 'AgriculturalPractices', 'Encroachments',\n",
    "       'IneffectiveDisasterPreparedness', 'DrainageSystems',\n",
    "       'CoastalVulnerability', 'Landslides', 'Watersheds',\n",
    "       'DeterioratingInfrastructure', 'PopulationScore', 'WetlandLoss',\n",
    "       'InadequatePlanning', 'PoliticalFactors']\n",
    "    \n",
    "    \n",
    "    dataset['mean_features'] = 0.1*dataset[features].mean(axis=1)\n",
    "    dataset['std_features'] = dataset[features].std(axis=1)\n",
    "    dataset['max_features'] = dataset[features].max(axis=1)\n",
    "    dataset['min_features'] = dataset[features].min(axis=1)\n",
    "    dataset['median_features'] = 0.1*dataset[features].median(axis=1)\n",
    "    dataset['range_features'] = dataset['max_features'] - dataset['min_features']\n",
    "    dataset['variance_features'] = dataset[features].var(axis=1)\n",
    "    dataset['skewness_features'] = dataset[features].skew(axis=1)\n",
    "    \n",
    "    quartiles = dataset[features].quantile([0.25, 0.5, 0.75], axis=1)\n",
    "    dataset['first_quartile'] = quartiles.loc[0.25]\n",
    "    dataset['second_quartile'] = quartiles.loc[0.5]\n",
    "    dataset['third_quartile'] = quartiles.loc[0.75]\n",
    "    \n",
    "    kurtosis_features = dataset[features].kurtosis(axis=1)\n",
    "    dataset['kurtosis_features'] = kurtosis_features\n",
    "    \n",
    "    selected_columns = ['Urbanization', 'Deforestation', 'AgriculturalPractices', 'InadequatePlanning']\n",
    "    dataset['Sum_Selected_Columns'] = dataset[selected_columns].sum(axis=1)\n",
    "    \n",
    "    dataset['Urbanization_Deforestation_Interaction'] = dataset['Urbanization'] * dataset['Deforestation']\n",
    "    dataset['Urbanization_TopographyDrainage_Ratio'] = dataset['Urbanization'] / (dataset['TopographyDrainage'] + 1)\n",
    "    \n",
    "    dataset.drop(features, axis=1, inplace=True)\n",
    "    \n",
    "    return dataset"
   ]
  },
  {
   "cell_type": "code",
   "execution_count": 25,
   "id": "c95acbec",
   "metadata": {
    "execution": {
     "iopub.execute_input": "2024-05-31T15:26:04.737883Z",
     "iopub.status.busy": "2024-05-31T15:26:04.737452Z",
     "iopub.status.idle": "2024-05-31T15:26:11.643289Z",
     "shell.execute_reply": "2024-05-31T15:26:11.642053Z"
    },
    "papermill": {
     "duration": 6.923653,
     "end_time": "2024-05-31T15:26:11.646230",
     "exception": false,
     "start_time": "2024-05-31T15:26:04.722577",
     "status": "completed"
    },
    "tags": []
   },
   "outputs": [],
   "source": [
    "new_df = generate_features(df)"
   ]
  },
  {
   "cell_type": "code",
   "execution_count": 26,
   "id": "8b9d5b09",
   "metadata": {
    "execution": {
     "iopub.execute_input": "2024-05-31T15:26:11.674206Z",
     "iopub.status.busy": "2024-05-31T15:26:11.673774Z",
     "iopub.status.idle": "2024-05-31T15:26:16.224733Z",
     "shell.execute_reply": "2024-05-31T15:26:16.223373Z"
    },
    "papermill": {
     "duration": 4.569013,
     "end_time": "2024-05-31T15:26:16.228004",
     "exception": false,
     "start_time": "2024-05-31T15:26:11.658991",
     "status": "completed"
    },
    "tags": []
   },
   "outputs": [],
   "source": [
    "t_df = test_df.copy()\n",
    "new_test = generate_features(t_df)"
   ]
  },
  {
   "cell_type": "code",
   "execution_count": 27,
   "id": "e0397ffe",
   "metadata": {
    "execution": {
     "iopub.execute_input": "2024-05-31T15:26:16.255932Z",
     "iopub.status.busy": "2024-05-31T15:26:16.255451Z",
     "iopub.status.idle": "2024-05-31T15:26:16.647969Z",
     "shell.execute_reply": "2024-05-31T15:26:16.646615Z"
    },
    "papermill": {
     "duration": 0.410119,
     "end_time": "2024-05-31T15:26:16.650875",
     "exception": false,
     "start_time": "2024-05-31T15:26:16.240756",
     "status": "completed"
    },
    "tags": []
   },
   "outputs": [],
   "source": [
    "X_t2, X_v2, y_t2, y_v2 = train_test_split(new_df, y, test_size=0.2, random_state=42)"
   ]
  },
  {
   "cell_type": "code",
   "execution_count": 28,
   "id": "8ea239c9",
   "metadata": {
    "execution": {
     "iopub.execute_input": "2024-05-31T15:26:16.680544Z",
     "iopub.status.busy": "2024-05-31T15:26:16.680119Z",
     "iopub.status.idle": "2024-05-31T15:26:16.685642Z",
     "shell.execute_reply": "2024-05-31T15:26:16.684403Z"
    },
    "papermill": {
     "duration": 0.023468,
     "end_time": "2024-05-31T15:26:16.688096",
     "exception": false,
     "start_time": "2024-05-31T15:26:16.664628",
     "status": "completed"
    },
    "tags": []
   },
   "outputs": [],
   "source": [
    "# score_valid(X_t2, y_t2, X_v2, y_v2)"
   ]
  },
  {
   "cell_type": "code",
   "execution_count": 29,
   "id": "7e37ff7e",
   "metadata": {
    "execution": {
     "iopub.execute_input": "2024-05-31T15:26:16.715968Z",
     "iopub.status.busy": "2024-05-31T15:26:16.715169Z",
     "iopub.status.idle": "2024-05-31T15:26:16.721591Z",
     "shell.execute_reply": "2024-05-31T15:26:16.720383Z"
    },
    "papermill": {
     "duration": 0.023229,
     "end_time": "2024-05-31T15:26:16.724154",
     "exception": false,
     "start_time": "2024-05-31T15:26:16.700925",
     "status": "completed"
    },
    "tags": []
   },
   "outputs": [],
   "source": [
    "# score_dataset(new_df, y)"
   ]
  },
  {
   "cell_type": "markdown",
   "id": "3127ffed",
   "metadata": {
    "papermill": {
     "duration": 0.014193,
     "end_time": "2024-05-31T15:26:16.751582",
     "exception": false,
     "start_time": "2024-05-31T15:26:16.737389",
     "status": "completed"
    },
    "tags": []
   },
   "source": [
    "# XGBoost Grid Search"
   ]
  },
  {
   "cell_type": "code",
   "execution_count": null,
   "id": "477f3c35",
   "metadata": {
    "execution": {
     "iopub.status.busy": "2024-05-27T13:21:47.884757Z",
     "iopub.status.idle": "2024-05-27T13:21:47.885694Z",
     "shell.execute_reply": "2024-05-27T13:21:47.885482Z",
     "shell.execute_reply.started": "2024-05-27T13:21:47.885451Z"
    },
    "papermill": {
     "duration": 0.012543,
     "end_time": "2024-05-31T15:26:16.777188",
     "exception": false,
     "start_time": "2024-05-31T15:26:16.764645",
     "status": "completed"
    },
    "tags": []
   },
   "outputs": [],
   "source": []
  },
  {
   "cell_type": "code",
   "execution_count": 30,
   "id": "b2324de0",
   "metadata": {
    "execution": {
     "iopub.execute_input": "2024-05-31T15:26:16.805197Z",
     "iopub.status.busy": "2024-05-31T15:26:16.804746Z",
     "iopub.status.idle": "2024-05-31T15:26:16.810453Z",
     "shell.execute_reply": "2024-05-31T15:26:16.809301Z"
    },
    "papermill": {
     "duration": 0.023062,
     "end_time": "2024-05-31T15:26:16.813062",
     "exception": false,
     "start_time": "2024-05-31T15:26:16.790000",
     "status": "completed"
    },
    "tags": []
   },
   "outputs": [],
   "source": [
    "# # Initialize XGBoost regressor\n",
    "# xgb_reg = XGBRegressor(n_jobs=4, random_state=1, early_stopping_rounds = 5, verbosity=2)\n",
    "\n",
    "# # Define hyperparameters grid for Grid Search\n",
    "# param_grid = {\n",
    "#     'alpha': [0, 0.1, 0.5, 1, 2], \n",
    "#     'lambda': [0, 0.1, 0.5, 1, 2],  \n",
    "#     'learning_rate': [0.001, 0.01, 0.1, 0.2],\n",
    "#     'max_depth': [3, 5, 7],\n",
    "#     'n_estimators': [50, 100, 200, 400]\n",
    "# }\n",
    "\n",
    "# # Initialize Grid Search with cross-validation\n",
    "# grid_search = GridSearchCV(estimator=xgb_reg, param_grid=param_grid, cv=3, scoring='r2', verbose = 1)\n",
    "\n",
    "# # Perform Grid Search to find the best hyperparameters\n",
    "# fit_params = {\n",
    "#     'eval_set': [(X_valid, y_valid)],\n",
    "#     'verbose': True\n",
    "# }\n",
    "# grid_search.fit(X_train, y_train, **fit_params)"
   ]
  },
  {
   "cell_type": "code",
   "execution_count": 31,
   "id": "a60dc553",
   "metadata": {
    "execution": {
     "iopub.execute_input": "2024-05-31T15:26:16.840860Z",
     "iopub.status.busy": "2024-05-31T15:26:16.840415Z",
     "iopub.status.idle": "2024-05-31T15:26:16.845940Z",
     "shell.execute_reply": "2024-05-31T15:26:16.844636Z"
    },
    "papermill": {
     "duration": 0.022646,
     "end_time": "2024-05-31T15:26:16.848509",
     "exception": false,
     "start_time": "2024-05-31T15:26:16.825863",
     "status": "completed"
    },
    "tags": []
   },
   "outputs": [],
   "source": [
    "# # Get the best hyperparameters\n",
    "# best_params = grid_search.best_params_\n",
    "\n",
    "# # Train XGBoost regressor with the best hyperparameters\n",
    "# best_xgb_reg = XGBRegressor(n_jobs=4, random_state=1, early_stopping_rounds = 5, verbosity=2, **best_params)\n",
    "# best_xgb_reg.fit(X_train, y_train, **fit_params)\n",
    "\n",
    "# # Predict on the test set\n",
    "# y_pred = best_xgb_reg.predict(X_valid)\n",
    "\n",
    "# # Calculate R² score on the test set\n",
    "# r2 = r2_score(y_valid, y_pred)\n",
    "# print(\"R² Score:\", r2)"
   ]
  },
  {
   "cell_type": "code",
   "execution_count": 32,
   "id": "757fe5b9",
   "metadata": {
    "execution": {
     "iopub.execute_input": "2024-05-31T15:26:16.876397Z",
     "iopub.status.busy": "2024-05-31T15:26:16.875950Z",
     "iopub.status.idle": "2024-05-31T15:26:16.881078Z",
     "shell.execute_reply": "2024-05-31T15:26:16.879925Z"
    },
    "papermill": {
     "duration": 0.022027,
     "end_time": "2024-05-31T15:26:16.883515",
     "exception": false,
     "start_time": "2024-05-31T15:26:16.861488",
     "status": "completed"
    },
    "tags": []
   },
   "outputs": [],
   "source": [
    "# # best grid search param\n",
    "\n",
    "# # Get the best estimator and evaluate on the validation set\n",
    "# best_grid_reg = grid_search.best_estimator_\n",
    "# y_pred_2 = best_grid_reg.predict(X_valid)\n",
    "\n",
    "# # Calculate R² score\n",
    "# from sklearn.metrics import r2_score\n",
    "# r2 = r2_score(y_valid, y_pred_2)\n",
    "# print(\"R² Score on Validation Set:\", r2)\n"
   ]
  },
  {
   "cell_type": "markdown",
   "id": "bb2b4715",
   "metadata": {
    "papermill": {
     "duration": 0.012767,
     "end_time": "2024-05-31T15:26:16.909223",
     "exception": false,
     "start_time": "2024-05-31T15:26:16.896456",
     "status": "completed"
    },
    "tags": []
   },
   "source": [
    "# Submission"
   ]
  },
  {
   "cell_type": "code",
   "execution_count": 33,
   "id": "e1ac4398",
   "metadata": {
    "execution": {
     "iopub.execute_input": "2024-05-31T15:26:16.938262Z",
     "iopub.status.busy": "2024-05-31T15:26:16.937826Z",
     "iopub.status.idle": "2024-05-31T15:26:24.515021Z",
     "shell.execute_reply": "2024-05-31T15:26:24.514061Z"
    },
    "papermill": {
     "duration": 7.595035,
     "end_time": "2024-05-31T15:26:24.517806",
     "exception": false,
     "start_time": "2024-05-31T15:26:16.922771",
     "status": "completed"
    },
    "tags": []
   },
   "outputs": [],
   "source": [
    "#Sample model\n",
    "model=XGBRegressor(n_jobs=4, verbosity=2, random_state=1)\n",
    "model.fit(new_df, y, verbose = False)\n",
    "y_pred = model.predict(new_test)"
   ]
  },
  {
   "cell_type": "code",
   "execution_count": 34,
   "id": "db510a11",
   "metadata": {
    "execution": {
     "iopub.execute_input": "2024-05-31T15:26:24.546644Z",
     "iopub.status.busy": "2024-05-31T15:26:24.546235Z",
     "iopub.status.idle": "2024-05-31T15:26:24.821017Z",
     "shell.execute_reply": "2024-05-31T15:26:24.820002Z"
    },
    "papermill": {
     "duration": 0.291904,
     "end_time": "2024-05-31T15:26:24.823778",
     "exception": false,
     "start_time": "2024-05-31T15:26:24.531874",
     "status": "completed"
    },
    "tags": []
   },
   "outputs": [],
   "source": [
    "sub = pd.read_csv('/kaggle/input/playground-series-s4e5/sample_submission.csv')"
   ]
  },
  {
   "cell_type": "code",
   "execution_count": 35,
   "id": "097f08c6",
   "metadata": {
    "execution": {
     "iopub.execute_input": "2024-05-31T15:26:24.915664Z",
     "iopub.status.busy": "2024-05-31T15:26:24.915225Z",
     "iopub.status.idle": "2024-05-31T15:26:24.920907Z",
     "shell.execute_reply": "2024-05-31T15:26:24.919780Z"
    },
    "papermill": {
     "duration": 0.086817,
     "end_time": "2024-05-31T15:26:24.923417",
     "exception": false,
     "start_time": "2024-05-31T15:26:24.836600",
     "status": "completed"
    },
    "tags": []
   },
   "outputs": [],
   "source": [
    "sub['FloodProbability'] = y_pred"
   ]
  },
  {
   "cell_type": "code",
   "execution_count": 36,
   "id": "b33a8b5d",
   "metadata": {
    "execution": {
     "iopub.execute_input": "2024-05-31T15:26:24.951383Z",
     "iopub.status.busy": "2024-05-31T15:26:24.950914Z",
     "iopub.status.idle": "2024-05-31T15:26:26.793080Z",
     "shell.execute_reply": "2024-05-31T15:26:26.792102Z"
    },
    "papermill": {
     "duration": 1.859443,
     "end_time": "2024-05-31T15:26:26.795842",
     "exception": false,
     "start_time": "2024-05-31T15:26:24.936399",
     "status": "completed"
    },
    "tags": []
   },
   "outputs": [],
   "source": [
    "sub.to_csv(\"submission.csv\", index=False)"
   ]
  },
  {
   "cell_type": "code",
   "execution_count": null,
   "id": "c757ec84",
   "metadata": {
    "papermill": {
     "duration": 0.012637,
     "end_time": "2024-05-31T15:26:26.821534",
     "exception": false,
     "start_time": "2024-05-31T15:26:26.808897",
     "status": "completed"
    },
    "tags": []
   },
   "outputs": [],
   "source": []
  }
 ],
 "metadata": {
  "kaggle": {
   "accelerator": "none",
   "dataSources": [
    {
     "databundleVersionId": 8121328,
     "sourceId": 73278,
     "sourceType": "competition"
    }
   ],
   "dockerImageVersionId": 30698,
   "isGpuEnabled": false,
   "isInternetEnabled": true,
   "language": "python",
   "sourceType": "notebook"
  },
  "kernelspec": {
   "display_name": "Python 3",
   "language": "python",
   "name": "python3"
  },
  "language_info": {
   "codemirror_mode": {
    "name": "ipython",
    "version": 3
   },
   "file_extension": ".py",
   "mimetype": "text/x-python",
   "name": "python",
   "nbconvert_exporter": "python",
   "pygments_lexer": "ipython3",
   "version": "3.10.13"
  },
  "papermill": {
   "default_parameters": {},
   "duration": 35.019048,
   "end_time": "2024-05-31T15:26:27.456657",
   "environment_variables": {},
   "exception": null,
   "input_path": "__notebook__.ipynb",
   "output_path": "__notebook__.ipynb",
   "parameters": {},
   "start_time": "2024-05-31T15:25:52.437609",
   "version": "2.5.0"
  }
 },
 "nbformat": 4,
 "nbformat_minor": 5
}
