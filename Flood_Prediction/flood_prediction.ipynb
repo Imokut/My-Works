{
 "cells": [
  {
   "cell_type": "code",
   "execution_count": 1,
   "id": "eb9f439b",
   "metadata": {
    "_cell_guid": "b1076dfc-b9ad-4769-8c92-a6c4dae69d19",
    "_uuid": "8f2839f25d086af736a60e9eeb907d3b93b6e0e5",
    "execution": {
     "iopub.execute_input": "2024-06-01T00:04:10.225172Z",
     "iopub.status.busy": "2024-06-01T00:04:10.224696Z",
     "iopub.status.idle": "2024-06-01T00:04:12.976479Z",
     "shell.execute_reply": "2024-06-01T00:04:12.975027Z"
    },
    "papermill": {
     "duration": 2.773711,
     "end_time": "2024-06-01T00:04:12.979432",
     "exception": false,
     "start_time": "2024-06-01T00:04:10.205721",
     "status": "completed"
    },
    "tags": []
   },
   "outputs": [
    {
     "name": "stdout",
     "output_type": "stream",
     "text": [
      "/kaggle/input/playground-series-s4e5/sample_submission.csv\n",
      "/kaggle/input/playground-series-s4e5/train.csv\n",
      "/kaggle/input/playground-series-s4e5/test.csv\n"
     ]
    }
   ],
   "source": [
    "# This Python 3 environment comes with many helpful analytics libraries installed\n",
    "# It is defined by the kaggle/python Docker image: https://github.com/kaggle/docker-python\n",
    "# For example, here's several helpful packages to load\n",
    "\n",
    "import numpy as np \n",
    "import pandas as pd\n",
    "from sklearn.model_selection import train_test_split, GridSearchCV\n",
    "from xgboost import XGBRegressor\n",
    "from sklearn.metrics import r2_score\n",
    "from xgboost import plot_importance\n",
    "# Input data files are available in the read-only \"../input/\" directory\n",
    "# For example, running this (by clicking run or pressing Shift+Enter) will list all files under the input directory\n",
    "\n",
    "import os\n",
    "for dirname, _, filenames in os.walk('/kaggle/input'):\n",
    "    for filename in filenames:\n",
    "        print(os.path.join(dirname, filename))\n",
    "\n",
    "# You can write up to 20GB to the current directory (/kaggle/working/) that gets preserved as output when you create a version using \"Save & Run All\" \n",
    "# You can also write temporary files to /kaggle/temp/, but they won't be saved outside of the current session"
   ]
  },
  {
   "cell_type": "code",
   "execution_count": 2,
   "id": "e428c14b",
   "metadata": {
    "execution": {
     "iopub.execute_input": "2024-06-01T00:04:13.015603Z",
     "iopub.status.busy": "2024-06-01T00:04:13.015035Z",
     "iopub.status.idle": "2024-06-01T00:04:13.524420Z",
     "shell.execute_reply": "2024-06-01T00:04:13.522936Z"
    },
    "papermill": {
     "duration": 0.531147,
     "end_time": "2024-06-01T00:04:13.527544",
     "exception": false,
     "start_time": "2024-06-01T00:04:12.996397",
     "status": "completed"
    },
    "tags": []
   },
   "outputs": [],
   "source": [
    "import matplotlib.pyplot as plt\n",
    "import seaborn as sns"
   ]
  },
  {
   "cell_type": "code",
   "execution_count": 3,
   "id": "f167f1e8",
   "metadata": {
    "execution": {
     "iopub.execute_input": "2024-06-01T00:04:13.561978Z",
     "iopub.status.busy": "2024-06-01T00:04:13.561516Z",
     "iopub.status.idle": "2024-06-01T00:04:17.804488Z",
     "shell.execute_reply": "2024-06-01T00:04:17.803304Z"
    },
    "papermill": {
     "duration": 4.2637,
     "end_time": "2024-06-01T00:04:17.807539",
     "exception": false,
     "start_time": "2024-06-01T00:04:13.543839",
     "status": "completed"
    },
    "tags": []
   },
   "outputs": [],
   "source": [
    "# Load Data\n",
    "train_df = pd.read_csv(\"../input/playground-series-s4e5/train.csv\")\n",
    "test_df = pd.read_csv(\"../input/playground-series-s4e5/test.csv\")"
   ]
  },
  {
   "cell_type": "code",
   "execution_count": 4,
   "id": "e57a4ee6",
   "metadata": {
    "execution": {
     "iopub.execute_input": "2024-06-01T00:04:17.844331Z",
     "iopub.status.busy": "2024-06-01T00:04:17.843937Z",
     "iopub.status.idle": "2024-06-01T00:04:17.849248Z",
     "shell.execute_reply": "2024-06-01T00:04:17.847977Z"
    },
    "papermill": {
     "duration": 0.026532,
     "end_time": "2024-06-01T00:04:17.851837",
     "exception": false,
     "start_time": "2024-06-01T00:04:17.825305",
     "status": "completed"
    },
    "tags": []
   },
   "outputs": [],
   "source": [
    "# test_df.head()"
   ]
  },
  {
   "cell_type": "code",
   "execution_count": 5,
   "id": "ada80a7f",
   "metadata": {
    "execution": {
     "iopub.execute_input": "2024-06-01T00:04:17.886597Z",
     "iopub.status.busy": "2024-06-01T00:04:17.886169Z",
     "iopub.status.idle": "2024-06-01T00:04:17.891915Z",
     "shell.execute_reply": "2024-06-01T00:04:17.890415Z"
    },
    "papermill": {
     "duration": 0.027111,
     "end_time": "2024-06-01T00:04:17.895160",
     "exception": false,
     "start_time": "2024-06-01T00:04:17.868049",
     "status": "completed"
    },
    "tags": []
   },
   "outputs": [],
   "source": [
    "# print(train_df.head())\n",
    "# display(train_df.columns)"
   ]
  },
  {
   "cell_type": "code",
   "execution_count": 6,
   "id": "bf0c1dc5",
   "metadata": {
    "execution": {
     "iopub.execute_input": "2024-06-01T00:04:17.933203Z",
     "iopub.status.busy": "2024-06-01T00:04:17.931707Z",
     "iopub.status.idle": "2024-06-01T00:04:17.937922Z",
     "shell.execute_reply": "2024-06-01T00:04:17.936635Z"
    },
    "papermill": {
     "duration": 0.028572,
     "end_time": "2024-06-01T00:04:17.940754",
     "exception": false,
     "start_time": "2024-06-01T00:04:17.912182",
     "status": "completed"
    },
    "tags": []
   },
   "outputs": [],
   "source": [
    "# train_df.dtypes"
   ]
  },
  {
   "cell_type": "code",
   "execution_count": 7,
   "id": "432d3cf6",
   "metadata": {
    "execution": {
     "iopub.execute_input": "2024-06-01T00:04:17.975056Z",
     "iopub.status.busy": "2024-06-01T00:04:17.974597Z",
     "iopub.status.idle": "2024-06-01T00:04:17.979898Z",
     "shell.execute_reply": "2024-06-01T00:04:17.978590Z"
    },
    "papermill": {
     "duration": 0.025598,
     "end_time": "2024-06-01T00:04:17.982602",
     "exception": false,
     "start_time": "2024-06-01T00:04:17.957004",
     "status": "completed"
    },
    "tags": []
   },
   "outputs": [],
   "source": [
    "# train_df.isna().any()"
   ]
  },
  {
   "cell_type": "code",
   "execution_count": 8,
   "id": "947314e5",
   "metadata": {
    "execution": {
     "iopub.execute_input": "2024-06-01T00:04:18.018702Z",
     "iopub.status.busy": "2024-06-01T00:04:18.018291Z",
     "iopub.status.idle": "2024-06-01T00:04:18.023404Z",
     "shell.execute_reply": "2024-06-01T00:04:18.022205Z"
    },
    "papermill": {
     "duration": 0.025579,
     "end_time": "2024-06-01T00:04:18.025807",
     "exception": false,
     "start_time": "2024-06-01T00:04:18.000228",
     "status": "completed"
    },
    "tags": []
   },
   "outputs": [],
   "source": [
    "# plt.figure(figsize=(20, 20))\n",
    "# sns.heatmap(train_df.corr(), vmax=1, vmin=-1, cmap='RdBu', annot=True)"
   ]
  },
  {
   "cell_type": "code",
   "execution_count": 9,
   "id": "117898a6",
   "metadata": {
    "execution": {
     "iopub.execute_input": "2024-06-01T00:04:18.059769Z",
     "iopub.status.busy": "2024-06-01T00:04:18.059361Z",
     "iopub.status.idle": "2024-06-01T00:04:18.064579Z",
     "shell.execute_reply": "2024-06-01T00:04:18.063255Z"
    },
    "papermill": {
     "duration": 0.025072,
     "end_time": "2024-06-01T00:04:18.067102",
     "exception": false,
     "start_time": "2024-06-01T00:04:18.042030",
     "status": "completed"
    },
    "tags": []
   },
   "outputs": [],
   "source": [
    "# train_df.hist(figsize=(20, 20), xrot=-45)\n",
    "# plt.show()"
   ]
  },
  {
   "cell_type": "code",
   "execution_count": 10,
   "id": "61faccd0",
   "metadata": {
    "execution": {
     "iopub.execute_input": "2024-06-01T00:04:18.101837Z",
     "iopub.status.busy": "2024-06-01T00:04:18.101411Z",
     "iopub.status.idle": "2024-06-01T00:04:18.106568Z",
     "shell.execute_reply": "2024-06-01T00:04:18.105386Z"
    },
    "papermill": {
     "duration": 0.02571,
     "end_time": "2024-06-01T00:04:18.109159",
     "exception": false,
     "start_time": "2024-06-01T00:04:18.083449",
     "status": "completed"
    },
    "tags": []
   },
   "outputs": [],
   "source": [
    "# train_df.nunique()"
   ]
  },
  {
   "cell_type": "code",
   "execution_count": 11,
   "id": "984d1562",
   "metadata": {
    "execution": {
     "iopub.execute_input": "2024-06-01T00:04:18.144242Z",
     "iopub.status.busy": "2024-06-01T00:04:18.143814Z",
     "iopub.status.idle": "2024-06-01T00:04:18.148602Z",
     "shell.execute_reply": "2024-06-01T00:04:18.147465Z"
    },
    "papermill": {
     "duration": 0.025127,
     "end_time": "2024-06-01T00:04:18.151303",
     "exception": false,
     "start_time": "2024-06-01T00:04:18.126176",
     "status": "completed"
    },
    "tags": []
   },
   "outputs": [],
   "source": [
    "# train_df.shape"
   ]
  },
  {
   "cell_type": "markdown",
   "id": "a0c20dbb",
   "metadata": {
    "papermill": {
     "duration": 0.015733,
     "end_time": "2024-06-01T00:04:18.183671",
     "exception": false,
     "start_time": "2024-06-01T00:04:18.167938",
     "status": "completed"
    },
    "tags": []
   },
   "source": [
    "Notes:\n",
    "\n",
    "1. There are no missing values\n",
    "\n",
    "2. The data is made of 21 categorical columns that are already encoded as integers and a label column in float\n",
    "\n",
    "3. The distribution of the columns is a guassian distribution\n",
    "\n",
    "4. There's no significant correlation between the features."
   ]
  },
  {
   "cell_type": "code",
   "execution_count": 12,
   "id": "84b232fb",
   "metadata": {
    "execution": {
     "iopub.execute_input": "2024-06-01T00:04:18.217533Z",
     "iopub.status.busy": "2024-06-01T00:04:18.217117Z",
     "iopub.status.idle": "2024-06-01T00:04:18.301099Z",
     "shell.execute_reply": "2024-06-01T00:04:18.299602Z"
    },
    "papermill": {
     "duration": 0.104735,
     "end_time": "2024-06-01T00:04:18.304456",
     "exception": false,
     "start_time": "2024-06-01T00:04:18.199721",
     "status": "completed"
    },
    "tags": []
   },
   "outputs": [],
   "source": [
    "X = train_df.drop(['FloodProbability', 'id'], axis = 1)\n",
    "y = train_df['FloodProbability']"
   ]
  },
  {
   "cell_type": "code",
   "execution_count": 13,
   "id": "ae79110d",
   "metadata": {
    "execution": {
     "iopub.execute_input": "2024-06-01T00:04:18.341542Z",
     "iopub.status.busy": "2024-06-01T00:04:18.341156Z",
     "iopub.status.idle": "2024-06-01T00:04:18.721432Z",
     "shell.execute_reply": "2024-06-01T00:04:18.720122Z"
    },
    "papermill": {
     "duration": 0.401691,
     "end_time": "2024-06-01T00:04:18.724299",
     "exception": false,
     "start_time": "2024-06-01T00:04:18.322608",
     "status": "completed"
    },
    "tags": []
   },
   "outputs": [],
   "source": [
    "# Split data into training and test sets\n",
    "X_train, X_valid, y_train, y_valid = train_test_split(X, y, test_size=0.2, random_state=42)"
   ]
  },
  {
   "cell_type": "code",
   "execution_count": 14,
   "id": "e2b5316a",
   "metadata": {
    "execution": {
     "iopub.execute_input": "2024-06-01T00:04:18.759361Z",
     "iopub.status.busy": "2024-06-01T00:04:18.758956Z",
     "iopub.status.idle": "2024-06-01T00:04:18.970719Z",
     "shell.execute_reply": "2024-06-01T00:04:18.969265Z"
    },
    "papermill": {
     "duration": 0.23283,
     "end_time": "2024-06-01T00:04:18.973745",
     "exception": false,
     "start_time": "2024-06-01T00:04:18.740915",
     "status": "completed"
    },
    "tags": []
   },
   "outputs": [],
   "source": [
    "# Mutual Information\n",
    "\n",
    "from sklearn.feature_selection import mutual_info_regression\n",
    "\n",
    "def make_mi_scores(X, y):\n",
    "    mi_scores = mutual_info_regression(X, y)\n",
    "    mi_scores = pd.Series(mi_scores, name=\"MI Scores\", index=X.columns)\n",
    "    mi_scores = mi_scores.sort_values(ascending=False)\n",
    "    return mi_scores\n",
    "\n",
    "def plot_mi_scores(scores):\n",
    "    scores = scores.sort_values(ascending=True)\n",
    "    width = np.arange(len(scores))\n",
    "    ticks = list(scores.index)\n",
    "    plt.barh(width, scores)\n",
    "    plt.yticks(width, ticks)\n",
    "    plt.title(\"Mutual Information Scores\")\n",
    "    \n",
    "def drop_uninformative(df, mi_scores, threshold):\n",
    "    return df.loc[:, mi_scores > threshold]"
   ]
  },
  {
   "cell_type": "code",
   "execution_count": 15,
   "id": "d39211be",
   "metadata": {
    "execution": {
     "iopub.execute_input": "2024-06-01T00:04:19.010292Z",
     "iopub.status.busy": "2024-06-01T00:04:19.009854Z",
     "iopub.status.idle": "2024-06-01T00:04:19.015520Z",
     "shell.execute_reply": "2024-06-01T00:04:19.013942Z"
    },
    "papermill": {
     "duration": 0.026274,
     "end_time": "2024-06-01T00:04:19.018544",
     "exception": false,
     "start_time": "2024-06-01T00:04:18.992270",
     "status": "completed"
    },
    "tags": []
   },
   "outputs": [],
   "source": [
    "# mi_scores = make_mi_scores(X, y)"
   ]
  },
  {
   "cell_type": "code",
   "execution_count": 16,
   "id": "ffc122ad",
   "metadata": {
    "execution": {
     "iopub.execute_input": "2024-06-01T00:04:19.052450Z",
     "iopub.status.busy": "2024-06-01T00:04:19.052052Z",
     "iopub.status.idle": "2024-06-01T00:04:19.057136Z",
     "shell.execute_reply": "2024-06-01T00:04:19.055870Z"
    },
    "papermill": {
     "duration": 0.025248,
     "end_time": "2024-06-01T00:04:19.059929",
     "exception": false,
     "start_time": "2024-06-01T00:04:19.034681",
     "status": "completed"
    },
    "tags": []
   },
   "outputs": [],
   "source": [
    "# plt.figure(dpi=100, figsize=(8, 5))\n",
    "# plot_mi_scores(mi_scores)"
   ]
  },
  {
   "cell_type": "code",
   "execution_count": 17,
   "id": "9f7bec49",
   "metadata": {
    "execution": {
     "iopub.execute_input": "2024-06-01T00:04:19.095271Z",
     "iopub.status.busy": "2024-06-01T00:04:19.094807Z",
     "iopub.status.idle": "2024-06-01T00:04:19.100802Z",
     "shell.execute_reply": "2024-06-01T00:04:19.099645Z"
    },
    "papermill": {
     "duration": 0.02705,
     "end_time": "2024-06-01T00:04:19.103578",
     "exception": false,
     "start_time": "2024-06-01T00:04:19.076528",
     "status": "completed"
    },
    "tags": []
   },
   "outputs": [],
   "source": [
    "# from sklearn.model_selection import cross_val_score\n",
    "\n",
    "# def score_dataset(X, y, model=XGBRegressor(n_jobs=4, verbosity=2, random_state=1)):\n",
    "    \n",
    "#     score = cross_val_score(\n",
    "#         model, X, y, cv=5, scoring=\"r2\",\n",
    "#     )\n",
    "#     score = score.mean()\n",
    "#     score = np.sqrt(score)\n",
    "#     return score"
   ]
  },
  {
   "cell_type": "code",
   "execution_count": 18,
   "id": "7ea307ec",
   "metadata": {
    "execution": {
     "iopub.execute_input": "2024-06-01T00:04:19.138363Z",
     "iopub.status.busy": "2024-06-01T00:04:19.137937Z",
     "iopub.status.idle": "2024-06-01T00:04:19.147129Z",
     "shell.execute_reply": "2024-06-01T00:04:19.145925Z"
    },
    "papermill": {
     "duration": 0.029561,
     "end_time": "2024-06-01T00:04:19.149787",
     "exception": false,
     "start_time": "2024-06-01T00:04:19.120226",
     "status": "completed"
    },
    "tags": []
   },
   "outputs": [],
   "source": [
    "def score_valid(X_train, y_train, X_valid, y_valid):\n",
    "    model=XGBRegressor(n_jobs=4, verbosity=2, random_state=1, early_stopping_rounds = 5)\n",
    "    model.fit(X_train, y_train, eval_set=[(X_valid, y_valid)], verbose = False)\n",
    "    y_pred = model.predict(X_valid)\n",
    "    r2 = r2_score(y_valid, y_pred)\n",
    "    print(f\"R2 Score: {r2}\")\n",
    "    # Get feature importances\n",
    "    importances = model.feature_importances_\n",
    "    print(importances)\n",
    "    \n",
    "    # Plot feature importances\n",
    "    plot_importance(model)\n",
    "    plt.show()\n",
    "    return model"
   ]
  },
  {
   "cell_type": "code",
   "execution_count": 19,
   "id": "eefd750d",
   "metadata": {
    "execution": {
     "iopub.execute_input": "2024-06-01T00:04:19.183701Z",
     "iopub.status.busy": "2024-06-01T00:04:19.183236Z",
     "iopub.status.idle": "2024-06-01T00:04:19.189954Z",
     "shell.execute_reply": "2024-06-01T00:04:19.188685Z"
    },
    "papermill": {
     "duration": 0.02692,
     "end_time": "2024-06-01T00:04:19.192700",
     "exception": false,
     "start_time": "2024-06-01T00:04:19.165780",
     "status": "completed"
    },
    "tags": []
   },
   "outputs": [],
   "source": [
    "def score_data(X, y):\n",
    "    X_train, X_valid, y_train, y_valid = train_test_split(X, y, test_size=0.2, random_state=42)\n",
    "    return score_valid(X_train, y_train, X_valid, y_valid)\n",
    "    "
   ]
  },
  {
   "cell_type": "code",
   "execution_count": 20,
   "id": "141f242a",
   "metadata": {
    "execution": {
     "iopub.execute_input": "2024-06-01T00:04:19.226961Z",
     "iopub.status.busy": "2024-06-01T00:04:19.226507Z",
     "iopub.status.idle": "2024-06-01T00:04:19.231940Z",
     "shell.execute_reply": "2024-06-01T00:04:19.230571Z"
    },
    "papermill": {
     "duration": 0.025981,
     "end_time": "2024-06-01T00:04:19.234719",
     "exception": false,
     "start_time": "2024-06-01T00:04:19.208738",
     "status": "completed"
    },
    "tags": []
   },
   "outputs": [],
   "source": [
    "# score_dataset(X, y)"
   ]
  },
  {
   "cell_type": "code",
   "execution_count": 21,
   "id": "f7af280f",
   "metadata": {
    "execution": {
     "iopub.execute_input": "2024-06-01T00:04:19.334083Z",
     "iopub.status.busy": "2024-06-01T00:04:19.333591Z",
     "iopub.status.idle": "2024-06-01T00:04:19.338987Z",
     "shell.execute_reply": "2024-06-01T00:04:19.337839Z"
    },
    "papermill": {
     "duration": 0.09024,
     "end_time": "2024-06-01T00:04:19.341558",
     "exception": false,
     "start_time": "2024-06-01T00:04:19.251318",
     "status": "completed"
    },
    "tags": []
   },
   "outputs": [],
   "source": [
    "# score_valid(X_train, y_train, X_valid, y_valid)"
   ]
  },
  {
   "cell_type": "code",
   "execution_count": 22,
   "id": "01e18103",
   "metadata": {
    "execution": {
     "iopub.execute_input": "2024-06-01T00:04:19.375364Z",
     "iopub.status.busy": "2024-06-01T00:04:19.374968Z",
     "iopub.status.idle": "2024-06-01T00:04:19.380352Z",
     "shell.execute_reply": "2024-06-01T00:04:19.378947Z"
    },
    "papermill": {
     "duration": 0.025204,
     "end_time": "2024-06-01T00:04:19.382766",
     "exception": false,
     "start_time": "2024-06-01T00:04:19.357562",
     "status": "completed"
    },
    "tags": []
   },
   "outputs": [],
   "source": [
    "# from sklearn.preprocessing import PolynomialFeatures\n",
    "# poly = PolynomialFeatures(degree=2)\n",
    "# X_poly_train = poly.fit_transform(X)\n",
    "# X_t, X_v, y_t, y_v = train_test_split(X_poly_train, y, test_size=0.2, random_state=42)\n",
    "# score_valid(X_t, y_t, X_v, y_v)\n"
   ]
  },
  {
   "cell_type": "code",
   "execution_count": 23,
   "id": "f9537453",
   "metadata": {
    "execution": {
     "iopub.execute_input": "2024-06-01T00:04:19.417131Z",
     "iopub.status.busy": "2024-06-01T00:04:19.416687Z",
     "iopub.status.idle": "2024-06-01T00:04:19.422183Z",
     "shell.execute_reply": "2024-06-01T00:04:19.420804Z"
    },
    "papermill": {
     "duration": 0.026109,
     "end_time": "2024-06-01T00:04:19.425044",
     "exception": false,
     "start_time": "2024-06-01T00:04:19.398935",
     "status": "completed"
    },
    "tags": []
   },
   "outputs": [],
   "source": [
    "# score_dataset(X_poly_train, y)"
   ]
  },
  {
   "cell_type": "code",
   "execution_count": 24,
   "id": "8ee70760",
   "metadata": {
    "execution": {
     "iopub.execute_input": "2024-06-01T00:04:19.459558Z",
     "iopub.status.busy": "2024-06-01T00:04:19.459148Z",
     "iopub.status.idle": "2024-06-01T00:04:19.604395Z",
     "shell.execute_reply": "2024-06-01T00:04:19.603133Z"
    },
    "papermill": {
     "duration": 0.165805,
     "end_time": "2024-06-01T00:04:19.607389",
     "exception": false,
     "start_time": "2024-06-01T00:04:19.441584",
     "status": "completed"
    },
    "tags": []
   },
   "outputs": [],
   "source": [
    "df = train_df.copy()\n",
    "df = df.drop(['FloodProbability', 'id'],axis = 1)"
   ]
  },
  {
   "cell_type": "code",
   "execution_count": 25,
   "id": "2a139222",
   "metadata": {
    "execution": {
     "iopub.execute_input": "2024-06-01T00:04:19.641701Z",
     "iopub.status.busy": "2024-06-01T00:04:19.641282Z",
     "iopub.status.idle": "2024-06-01T00:04:19.655223Z",
     "shell.execute_reply": "2024-06-01T00:04:19.654096Z"
    },
    "papermill": {
     "duration": 0.03467,
     "end_time": "2024-06-01T00:04:19.658248",
     "exception": false,
     "start_time": "2024-06-01T00:04:19.623578",
     "status": "completed"
    },
    "tags": []
   },
   "outputs": [],
   "source": [
    "def generate_features(dataset):\n",
    "    features = ['MonsoonIntensity', 'TopographyDrainage', 'RiverManagement',\n",
    "       'Deforestation', 'Urbanization', 'ClimateChange', 'DamsQuality',\n",
    "       'Siltation', 'AgriculturalPractices', 'Encroachments',\n",
    "       'IneffectiveDisasterPreparedness', 'DrainageSystems',\n",
    "       'CoastalVulnerability', 'Landslides', 'Watersheds',\n",
    "       'DeterioratingInfrastructure', 'PopulationScore', 'WetlandLoss',\n",
    "       'InadequatePlanning', 'PoliticalFactors']\n",
    "    \n",
    "    \n",
    "    dataset['mean_features'] = 0.1*dataset[features].mean(axis=1)\n",
    "    dataset['std_features'] = dataset[features].std(axis=1)\n",
    "    dataset['max_features'] = dataset[features].max(axis=1)\n",
    "    #dataset['min_features'] = dataset[features].min(axis=1)\n",
    "    dataset['median_features'] = 0.1*dataset[features].median(axis=1)\n",
    "    #dataset['range_features'] = dataset['max_features'] - dataset['min_features']\n",
    "    dataset['variance_features'] = dataset[features].var(axis=1)\n",
    "    dataset['skewness_features'] = dataset[features].skew(axis=1)\n",
    "    \n",
    "    quartiles = dataset[features].quantile([0.25, 0.5, 0.75], axis=1)\n",
    "    dataset['first_quartile'] = quartiles.loc[0.25]\n",
    "    dataset['second_quartile'] = quartiles.loc[0.5]\n",
    "    dataset['third_quartile'] = quartiles.loc[0.75]\n",
    "    \n",
    "    kurtosis_features = dataset[features].kurtosis(axis=1)\n",
    "    dataset['kurtosis_features'] = kurtosis_features\n",
    "    \n",
    "    selected_columns = ['Urbanization', 'Deforestation', 'AgriculturalPractices', 'InadequatePlanning']\n",
    "    dataset['Sum_Selected_Columns'] = dataset[selected_columns].sum(axis=1)\n",
    "    \n",
    "    dataset['Urbanization_Deforestation_Interaction'] = dataset['Urbanization'] * dataset['Deforestation']\n",
    "    dataset['Urbanization_TopographyDrainage_Ratio'] = dataset['Urbanization'] / (dataset['TopographyDrainage'] + 1)\n",
    "    \n",
    "    dataset.drop(features, axis=1, inplace=True)\n",
    "    \n",
    "    return dataset"
   ]
  },
  {
   "cell_type": "code",
   "execution_count": 26,
   "id": "c5837fcf",
   "metadata": {
    "execution": {
     "iopub.execute_input": "2024-06-01T00:04:19.692222Z",
     "iopub.status.busy": "2024-06-01T00:04:19.691783Z",
     "iopub.status.idle": "2024-06-01T00:04:26.408252Z",
     "shell.execute_reply": "2024-06-01T00:04:26.406984Z"
    },
    "papermill": {
     "duration": 6.737645,
     "end_time": "2024-06-01T00:04:26.411944",
     "exception": false,
     "start_time": "2024-06-01T00:04:19.674299",
     "status": "completed"
    },
    "tags": []
   },
   "outputs": [],
   "source": [
    "new_df = generate_features(df)"
   ]
  },
  {
   "cell_type": "code",
   "execution_count": 27,
   "id": "ef0b36f4",
   "metadata": {
    "execution": {
     "iopub.execute_input": "2024-06-01T00:04:26.449011Z",
     "iopub.status.busy": "2024-06-01T00:04:26.447727Z",
     "iopub.status.idle": "2024-06-01T00:04:30.713178Z",
     "shell.execute_reply": "2024-06-01T00:04:30.711734Z"
    },
    "papermill": {
     "duration": 4.287024,
     "end_time": "2024-06-01T00:04:30.716275",
     "exception": false,
     "start_time": "2024-06-01T00:04:26.429251",
     "status": "completed"
    },
    "tags": []
   },
   "outputs": [],
   "source": [
    "t_df = test_df.copy()\n",
    "new_test = generate_features(t_df)"
   ]
  },
  {
   "cell_type": "code",
   "execution_count": 28,
   "id": "aed899d8",
   "metadata": {
    "execution": {
     "iopub.execute_input": "2024-06-01T00:04:30.751935Z",
     "iopub.status.busy": "2024-06-01T00:04:30.750707Z",
     "iopub.status.idle": "2024-06-01T00:04:35.796655Z",
     "shell.execute_reply": "2024-06-01T00:04:35.795438Z"
    },
    "papermill": {
     "duration": 5.066191,
     "end_time": "2024-06-01T00:04:35.799456",
     "exception": false,
     "start_time": "2024-06-01T00:04:30.733265",
     "status": "completed"
    },
    "tags": []
   },
   "outputs": [
    {
     "name": "stdout",
     "output_type": "stream",
     "text": [
      "R2 Score: 0.8686747817972831\n",
      "[9.8416674e-01 2.1013201e-03 7.7231522e-03 9.5812400e-04 0.0000000e+00\n",
      " 1.1165113e-03 8.6015038e-04 0.0000000e+00 1.1745683e-03 5.6146667e-04\n",
      " 4.6146908e-04 4.9592723e-04 3.8046174e-04]\n"
     ]
    },
    {
     "data": {
      "image/png": "[encoded data removed]",
      "text/plain": [
       "<Figure size 640x480 with 1 Axes>"
      ]
     },
     "metadata": {},
     "output_type": "display_data"
    },
    {
     "data": {
      "text/html": [
       "<style>#sk-container-id-1 {color: black;background-color: white;}#sk-container-id-1 pre{padding: 0;}#sk-container-id-1 div.sk-toggleable {background-color: white;}#sk-container-id-1 label.sk-toggleable__label {cursor: pointer;display: block;width: 100%;margin-bottom: 0;padding: 0.3em;box-sizing: border-box;text-align: center;}#sk-container-id-1 label.sk-toggleable__label-arrow:before {content: \"▸\";float: left;margin-right: 0.25em;color: #696969;}#sk-container-id-1 label.sk-toggleable__label-arrow:hover:before {color: black;}#sk-container-id-1 div.sk-estimator:hover label.sk-toggleable__label-arrow:before {color: black;}#sk-container-id-1 div.sk-toggleable__content {max-height: 0;max-width: 0;overflow: hidden;text-align: left;background-color: #f0f8ff;}#sk-container-id-1 div.sk-toggleable__content pre {margin: 0.2em;color: black;border-radius: 0.25em;background-color: #f0f8ff;}#sk-container-id-1 input.sk-toggleable__control:checked~div.sk-toggleable__content {max-height: 200px;max-width: 100%;overflow: auto;}#sk-container-id-1 input.sk-toggleable__control:checked~label.sk-toggleable__label-arrow:before {content: \"▾\";}#sk-container-id-1 div.sk-estimator input.sk-toggleable__control:checked~label.sk-toggleable__label {background-color: #d4ebff;}#sk-container-id-1 div.sk-label input.sk-toggleable__control:checked~label.sk-toggleable__label {background-color: #d4ebff;}#sk-container-id-1 input.sk-hidden--visually {border: 0;clip: rect(1px 1px 1px 1px);clip: rect(1px, 1px, 1px, 1px);height: 1px;margin: -1px;overflow: hidden;padding: 0;position: absolute;width: 1px;}#sk-container-id-1 div.sk-estimator {font-family: monospace;background-color: #f0f8ff;border: 1px dotted black;border-radius: 0.25em;box-sizing: border-box;margin-bottom: 0.5em;}#sk-container-id-1 div.sk-estimator:hover {background-color: #d4ebff;}#sk-container-id-1 div.sk-parallel-item::after {content: \"\";width: 100%;border-bottom: 1px solid gray;flex-grow: 1;}#sk-container-id-1 div.sk-label:hover label.sk-toggleable__label {background-color: #d4ebff;}#sk-container-id-1 div.sk-serial::before {content: \"\";position: absolute;border-left: 1px solid gray;box-sizing: border-box;top: 0;bottom: 0;left: 50%;z-index: 0;}#sk-container-id-1 div.sk-serial {display: flex;flex-direction: column;align-items: center;background-color: white;padding-right: 0.2em;padding-left: 0.2em;position: relative;}#sk-container-id-1 div.sk-item {position: relative;z-index: 1;}#sk-container-id-1 div.sk-parallel {display: flex;align-items: stretch;justify-content: center;background-color: white;position: relative;}#sk-container-id-1 div.sk-item::before, #sk-container-id-1 div.sk-parallel-item::before {content: \"\";position: absolute;border-left: 1px solid gray;box-sizing: border-box;top: 0;bottom: 0;left: 50%;z-index: -1;}#sk-container-id-1 div.sk-parallel-item {display: flex;flex-direction: column;z-index: 1;position: relative;background-color: white;}#sk-container-id-1 div.sk-parallel-item:first-child::after {align-self: flex-end;width: 50%;}#sk-container-id-1 div.sk-parallel-item:last-child::after {align-self: flex-start;width: 50%;}#sk-container-id-1 div.sk-parallel-item:only-child::after {width: 0;}#sk-container-id-1 div.sk-dashed-wrapped {border: 1px dashed gray;margin: 0 0.4em 0.5em 0.4em;box-sizing: border-box;padding-bottom: 0.4em;background-color: white;}#sk-container-id-1 div.sk-label label {font-family: monospace;font-weight: bold;display: inline-block;line-height: 1.2em;}#sk-container-id-1 div.sk-label-container {text-align: center;}#sk-container-id-1 div.sk-container {/* jupyter's `normalize.less` sets `[hidden] { display: none; }` but bootstrap.min.css set `[hidden] { display: none !important; }` so we also need the `!important` here to be able to override the default hidden behavior on the sphinx rendered scikit-learn.org. See: https://github.com/scikit-learn/scikit-learn/issues/21755 */display: inline-block !important;position: relative;}#sk-container-id-1 div.sk-text-repr-fallback {display: none;}</style><div id=\"sk-container-id-1\" class=\"sk-top-container\"><div class=\"sk-text-repr-fallback\"><pre>XGBRegressor(base_score=None, booster=None, callbacks=None,\n",
       "             colsample_bylevel=None, colsample_bynode=None,\n",
       "             colsample_bytree=None, device=None, early_stopping_rounds=5,\n",
       "             enable_categorical=False, eval_metric=None, feature_types=None,\n",
       "             gamma=None, grow_policy=None, importance_type=None,\n",
       "             interaction_constraints=None, learning_rate=None, max_bin=None,\n",
       "             max_cat_threshold=None, max_cat_to_onehot=None,\n",
       "             max_delta_step=None, max_depth=None, max_leaves=None,\n",
       "             min_child_weight=None, missing=nan, monotone_constraints=None,\n",
       "             multi_strategy=None, n_estimators=None, n_jobs=4,\n",
       "             num_parallel_tree=None, random_state=1, ...)</pre><b>In a Jupyter environment, please rerun this cell to show the HTML representation or trust the notebook. <br />On GitHub, the HTML representation is unable to render, please try loading this page with nbviewer.org.</b></div><div class=\"sk-container\" hidden><div class=\"sk-item\"><div class=\"sk-estimator sk-toggleable\"><input class=\"sk-toggleable__control sk-hidden--visually\" id=\"sk-estimator-id-1\" type=\"checkbox\" checked><label for=\"sk-estimator-id-1\" class=\"sk-toggleable__label sk-toggleable__label-arrow\">XGBRegressor</label><div class=\"sk-toggleable__content\"><pre>XGBRegressor(base_score=None, booster=None, callbacks=None,\n",
       "             colsample_bylevel=None, colsample_bynode=None,\n",
       "             colsample_bytree=None, device=None, early_stopping_rounds=5,\n",
       "             enable_categorical=False, eval_metric=None, feature_types=None,\n",
       "             gamma=None, grow_policy=None, importance_type=None,\n",
       "             interaction_constraints=None, learning_rate=None, max_bin=None,\n",
       "             max_cat_threshold=None, max_cat_to_onehot=None,\n",
       "             max_delta_step=None, max_depth=None, max_leaves=None,\n",
       "             min_child_weight=None, missing=nan, monotone_constraints=None,\n",
       "             multi_strategy=None, n_estimators=None, n_jobs=4,\n",
       "             num_parallel_tree=None, random_state=1, ...)</pre></div></div></div></div></div>"
      ],
      "text/plain": [
       "XGBRegressor(base_score=None, booster=None, callbacks=None,\n",
       "             colsample_bylevel=None, colsample_bynode=None,\n",
       "             colsample_bytree=None, device=None, early_stopping_rounds=5,\n",
       "             enable_categorical=False, eval_metric=None, feature_types=None,\n",
       "             gamma=None, grow_policy=None, importance_type=None,\n",
       "             interaction_constraints=None, learning_rate=None, max_bin=None,\n",
       "             max_cat_threshold=None, max_cat_to_onehot=None,\n",
       "             max_delta_step=None, max_depth=None, max_leaves=None,\n",
       "             min_child_weight=None, missing=nan, monotone_constraints=None,\n",
       "             multi_strategy=None, n_estimators=None, n_jobs=4,\n",
       "             num_parallel_tree=None, random_state=1, ...)"
      ]
     },
     "execution_count": 28,
     "metadata": {},
     "output_type": "execute_result"
    }
   ],
   "source": [
    "score_data(new_df, y)"
   ]
  },
  {
   "cell_type": "code",
   "execution_count": 29,
   "id": "8f42af3e",
   "metadata": {
    "execution": {
     "iopub.execute_input": "2024-06-01T00:04:35.836972Z",
     "iopub.status.busy": "2024-06-01T00:04:35.836500Z",
     "iopub.status.idle": "2024-06-01T00:04:35.841447Z",
     "shell.execute_reply": "2024-06-01T00:04:35.840352Z"
    },
    "papermill": {
     "duration": 0.026748,
     "end_time": "2024-06-01T00:04:35.844061",
     "exception": false,
     "start_time": "2024-06-01T00:04:35.817313",
     "status": "completed"
    },
    "tags": []
   },
   "outputs": [],
   "source": [
    "# score_dataset(new_df, y)"
   ]
  },
  {
   "cell_type": "code",
   "execution_count": 30,
   "id": "5839bced",
   "metadata": {
    "execution": {
     "iopub.execute_input": "2024-06-01T00:04:35.881712Z",
     "iopub.status.busy": "2024-06-01T00:04:35.881255Z",
     "iopub.status.idle": "2024-06-01T00:09:44.609443Z",
     "shell.execute_reply": "2024-06-01T00:09:44.607984Z"
    },
    "papermill": {
     "duration": 308.751021,
     "end_time": "2024-06-01T00:09:44.613007",
     "exception": false,
     "start_time": "2024-06-01T00:04:35.861986",
     "status": "completed"
    },
    "tags": []
   },
   "outputs": [],
   "source": [
    "mi_scores = make_mi_scores(new_df, y)"
   ]
  },
  {
   "cell_type": "code",
   "execution_count": 31,
   "id": "8d6ae56e",
   "metadata": {
    "execution": {
     "iopub.execute_input": "2024-06-01T00:09:44.651413Z",
     "iopub.status.busy": "2024-06-01T00:09:44.650992Z",
     "iopub.status.idle": "2024-06-01T00:09:45.102745Z",
     "shell.execute_reply": "2024-06-01T00:09:45.101387Z"
    },
    "papermill": {
     "duration": 0.474163,
     "end_time": "2024-06-01T00:09:45.105751",
     "exception": false,
     "start_time": "2024-06-01T00:09:44.631588",
     "status": "completed"
    },
    "tags": []
   },
   "outputs": [
    {
     "data": {
      "image/png": "[encoded data removed]",
      "text/plain": [
       "<Figure size 800x500 with 1 Axes>"
      ]
     },
     "metadata": {},
     "output_type": "display_data"
    }
   ],
   "source": [
    "plt.figure(dpi=100, figsize=(8, 5))\n",
    "plot_mi_scores(mi_scores)"
   ]
  },
  {
   "cell_type": "code",
   "execution_count": 32,
   "id": "ca3a0f06",
   "metadata": {
    "execution": {
     "iopub.execute_input": "2024-06-01T00:09:45.145331Z",
     "iopub.status.busy": "2024-06-01T00:09:45.144930Z",
     "iopub.status.idle": "2024-06-01T00:09:45.169624Z",
     "shell.execute_reply": "2024-06-01T00:09:45.168167Z"
    },
    "papermill": {
     "duration": 0.048627,
     "end_time": "2024-06-01T00:09:45.172798",
     "exception": false,
     "start_time": "2024-06-01T00:09:45.124171",
     "status": "completed"
    },
    "tags": []
   },
   "outputs": [],
   "source": [
    "new_df = drop_uninformative(new_df, mi_scores, 0.5)"
   ]
  },
  {
   "cell_type": "code",
   "execution_count": 33,
   "id": "aa0ce1b8",
   "metadata": {
    "execution": {
     "iopub.execute_input": "2024-06-01T00:09:45.212655Z",
     "iopub.status.busy": "2024-06-01T00:09:45.211643Z",
     "iopub.status.idle": "2024-06-01T00:09:45.229200Z",
     "shell.execute_reply": "2024-06-01T00:09:45.227966Z"
    },
    "papermill": {
     "duration": 0.040431,
     "end_time": "2024-06-01T00:09:45.232247",
     "exception": false,
     "start_time": "2024-06-01T00:09:45.191816",
     "status": "completed"
    },
    "tags": []
   },
   "outputs": [],
   "source": [
    "new_test = new_test[new_df.columns]"
   ]
  },
  {
   "cell_type": "code",
   "execution_count": 34,
   "id": "231734e7",
   "metadata": {
    "execution": {
     "iopub.execute_input": "2024-06-01T00:09:45.271968Z",
     "iopub.status.busy": "2024-06-01T00:09:45.271487Z",
     "iopub.status.idle": "2024-06-01T00:09:45.280740Z",
     "shell.execute_reply": "2024-06-01T00:09:45.279417Z"
    },
    "papermill": {
     "duration": 0.03214,
     "end_time": "2024-06-01T00:09:45.283466",
     "exception": false,
     "start_time": "2024-06-01T00:09:45.251326",
     "status": "completed"
    },
    "tags": []
   },
   "outputs": [],
   "source": [
    "from sklearn.decomposition import PCA\n",
    "def apply_pca(X, standardize=True):\n",
    "    # Standardize\n",
    "    if standardize:\n",
    "        X = (X - X.mean(axis=0)) / X.std(axis=0)\n",
    "    # Create principal components\n",
    "    pca = PCA()\n",
    "    X_pca = pca.fit_transform(X)\n",
    "    # Convert to dataframe\n",
    "    component_names = [f\"PC{i+1}\" for i in range(X_pca.shape[1])]\n",
    "    X_pca = pd.DataFrame(X_pca, columns=component_names)\n",
    "    # Create loadings\n",
    "    loadings = pd.DataFrame(\n",
    "        pca.components_.T,  # transpose the matrix of loadings\n",
    "        columns=component_names,  # so the columns are the principal components\n",
    "        index=X.columns,  # and the rows are the original features\n",
    "    )\n",
    "    return pca, X_pca, loadings"
   ]
  },
  {
   "cell_type": "code",
   "execution_count": 35,
   "id": "d120356c",
   "metadata": {
    "execution": {
     "iopub.execute_input": "2024-06-01T00:09:45.323632Z",
     "iopub.status.busy": "2024-06-01T00:09:45.323176Z",
     "iopub.status.idle": "2024-06-01T00:09:46.591254Z",
     "shell.execute_reply": "2024-06-01T00:09:46.589987Z"
    },
    "papermill": {
     "duration": 1.292922,
     "end_time": "2024-06-01T00:09:46.594649",
     "exception": false,
     "start_time": "2024-06-01T00:09:45.301727",
     "status": "completed"
    },
    "tags": []
   },
   "outputs": [],
   "source": [
    "pca, X_pca, loadings = apply_pca(X, standardize=False)"
   ]
  },
  {
   "cell_type": "code",
   "execution_count": 36,
   "id": "24a30a25",
   "metadata": {
    "execution": {
     "iopub.execute_input": "2024-06-01T00:09:46.635160Z",
     "iopub.status.busy": "2024-06-01T00:09:46.633844Z",
     "iopub.status.idle": "2024-06-01T00:09:58.079762Z",
     "shell.execute_reply": "2024-06-01T00:09:58.078521Z"
    },
    "papermill": {
     "duration": 11.469157,
     "end_time": "2024-06-01T00:09:58.082695",
     "exception": false,
     "start_time": "2024-06-01T00:09:46.613538",
     "status": "completed"
    },
    "tags": []
   },
   "outputs": [
    {
     "name": "stdout",
     "output_type": "stream",
     "text": [
      "R2 Score: 0.8609353732802845\n",
      "[0.00555527 0.00165933 0.00405976 0.00361131 0.00300624 0.00122981\n",
      " 0.00306664 0.00113041 0.00136847 0.00453994 0.00172207 0.0021993\n",
      " 0.00153338 0.00116909 0.00446385 0.00142869 0.00238202 0.00503716\n",
      " 0.00530078 0.94553643]\n"
     ]
    },
    {
     "data": {
      "image/png": "[encoded data removed]",
      "text/plain": [
       "<Figure size 640x480 with 1 Axes>"
      ]
     },
     "metadata": {},
     "output_type": "display_data"
    },
    {
     "data": {
      "text/html": [
       "<style>#sk-container-id-2 {color: black;background-color: white;}#sk-container-id-2 pre{padding: 0;}#sk-container-id-2 div.sk-toggleable {background-color: white;}#sk-container-id-2 label.sk-toggleable__label {cursor: pointer;display: block;width: 100%;margin-bottom: 0;padding: 0.3em;box-sizing: border-box;text-align: center;}#sk-container-id-2 label.sk-toggleable__label-arrow:before {content: \"▸\";float: left;margin-right: 0.25em;color: #696969;}#sk-container-id-2 label.sk-toggleable__label-arrow:hover:before {color: black;}#sk-container-id-2 div.sk-estimator:hover label.sk-toggleable__label-arrow:before {color: black;}#sk-container-id-2 div.sk-toggleable__content {max-height: 0;max-width: 0;overflow: hidden;text-align: left;background-color: #f0f8ff;}#sk-container-id-2 div.sk-toggleable__content pre {margin: 0.2em;color: black;border-radius: 0.25em;background-color: #f0f8ff;}#sk-container-id-2 input.sk-toggleable__control:checked~div.sk-toggleable__content {max-height: 200px;max-width: 100%;overflow: auto;}#sk-container-id-2 input.sk-toggleable__control:checked~label.sk-toggleable__label-arrow:before {content: \"▾\";}#sk-container-id-2 div.sk-estimator input.sk-toggleable__control:checked~label.sk-toggleable__label {background-color: #d4ebff;}#sk-container-id-2 div.sk-label input.sk-toggleable__control:checked~label.sk-toggleable__label {background-color: #d4ebff;}#sk-container-id-2 input.sk-hidden--visually {border: 0;clip: rect(1px 1px 1px 1px);clip: rect(1px, 1px, 1px, 1px);height: 1px;margin: -1px;overflow: hidden;padding: 0;position: absolute;width: 1px;}#sk-container-id-2 div.sk-estimator {font-family: monospace;background-color: #f0f8ff;border: 1px dotted black;border-radius: 0.25em;box-sizing: border-box;margin-bottom: 0.5em;}#sk-container-id-2 div.sk-estimator:hover {background-color: #d4ebff;}#sk-container-id-2 div.sk-parallel-item::after {content: \"\";width: 100%;border-bottom: 1px solid gray;flex-grow: 1;}#sk-container-id-2 div.sk-label:hover label.sk-toggleable__label {background-color: #d4ebff;}#sk-container-id-2 div.sk-serial::before {content: \"\";position: absolute;border-left: 1px solid gray;box-sizing: border-box;top: 0;bottom: 0;left: 50%;z-index: 0;}#sk-container-id-2 div.sk-serial {display: flex;flex-direction: column;align-items: center;background-color: white;padding-right: 0.2em;padding-left: 0.2em;position: relative;}#sk-container-id-2 div.sk-item {position: relative;z-index: 1;}#sk-container-id-2 div.sk-parallel {display: flex;align-items: stretch;justify-content: center;background-color: white;position: relative;}#sk-container-id-2 div.sk-item::before, #sk-container-id-2 div.sk-parallel-item::before {content: \"\";position: absolute;border-left: 1px solid gray;box-sizing: border-box;top: 0;bottom: 0;left: 50%;z-index: -1;}#sk-container-id-2 div.sk-parallel-item {display: flex;flex-direction: column;z-index: 1;position: relative;background-color: white;}#sk-container-id-2 div.sk-parallel-item:first-child::after {align-self: flex-end;width: 50%;}#sk-container-id-2 div.sk-parallel-item:last-child::after {align-self: flex-start;width: 50%;}#sk-container-id-2 div.sk-parallel-item:only-child::after {width: 0;}#sk-container-id-2 div.sk-dashed-wrapped {border: 1px dashed gray;margin: 0 0.4em 0.5em 0.4em;box-sizing: border-box;padding-bottom: 0.4em;background-color: white;}#sk-container-id-2 div.sk-label label {font-family: monospace;font-weight: bold;display: inline-block;line-height: 1.2em;}#sk-container-id-2 div.sk-label-container {text-align: center;}#sk-container-id-2 div.sk-container {/* jupyter's `normalize.less` sets `[hidden] { display: none; }` but bootstrap.min.css set `[hidden] { display: none !important; }` so we also need the `!important` here to be able to override the default hidden behavior on the sphinx rendered scikit-learn.org. See: https://github.com/scikit-learn/scikit-learn/issues/21755 */display: inline-block !important;position: relative;}#sk-container-id-2 div.sk-text-repr-fallback {display: none;}</style><div id=\"sk-container-id-2\" class=\"sk-top-container\"><div class=\"sk-text-repr-fallback\"><pre>XGBRegressor(base_score=None, booster=None, callbacks=None,\n",
       "             colsample_bylevel=None, colsample_bynode=None,\n",
       "             colsample_bytree=None, device=None, early_stopping_rounds=5,\n",
       "             enable_categorical=False, eval_metric=None, feature_types=None,\n",
       "             gamma=None, grow_policy=None, importance_type=None,\n",
       "             interaction_constraints=None, learning_rate=None, max_bin=None,\n",
       "             max_cat_threshold=None, max_cat_to_onehot=None,\n",
       "             max_delta_step=None, max_depth=None, max_leaves=None,\n",
       "             min_child_weight=None, missing=nan, monotone_constraints=None,\n",
       "             multi_strategy=None, n_estimators=None, n_jobs=4,\n",
       "             num_parallel_tree=None, random_state=1, ...)</pre><b>In a Jupyter environment, please rerun this cell to show the HTML representation or trust the notebook. <br />On GitHub, the HTML representation is unable to render, please try loading this page with nbviewer.org.</b></div><div class=\"sk-container\" hidden><div class=\"sk-item\"><div class=\"sk-estimator sk-toggleable\"><input class=\"sk-toggleable__control sk-hidden--visually\" id=\"sk-estimator-id-2\" type=\"checkbox\" checked><label for=\"sk-estimator-id-2\" class=\"sk-toggleable__label sk-toggleable__label-arrow\">XGBRegressor</label><div class=\"sk-toggleable__content\"><pre>XGBRegressor(base_score=None, booster=None, callbacks=None,\n",
       "             colsample_bylevel=None, colsample_bynode=None,\n",
       "             colsample_bytree=None, device=None, early_stopping_rounds=5,\n",
       "             enable_categorical=False, eval_metric=None, feature_types=None,\n",
       "             gamma=None, grow_policy=None, importance_type=None,\n",
       "             interaction_constraints=None, learning_rate=None, max_bin=None,\n",
       "             max_cat_threshold=None, max_cat_to_onehot=None,\n",
       "             max_delta_step=None, max_depth=None, max_leaves=None,\n",
       "             min_child_weight=None, missing=nan, monotone_constraints=None,\n",
       "             multi_strategy=None, n_estimators=None, n_jobs=4,\n",
       "             num_parallel_tree=None, random_state=1, ...)</pre></div></div></div></div></div>"
      ],
      "text/plain": [
       "XGBRegressor(base_score=None, booster=None, callbacks=None,\n",
       "             colsample_bylevel=None, colsample_bynode=None,\n",
       "             colsample_bytree=None, device=None, early_stopping_rounds=5,\n",
       "             enable_categorical=False, eval_metric=None, feature_types=None,\n",
       "             gamma=None, grow_policy=None, importance_type=None,\n",
       "             interaction_constraints=None, learning_rate=None, max_bin=None,\n",
       "             max_cat_threshold=None, max_cat_to_onehot=None,\n",
       "             max_delta_step=None, max_depth=None, max_leaves=None,\n",
       "             min_child_weight=None, missing=nan, monotone_constraints=None,\n",
       "             multi_strategy=None, n_estimators=None, n_jobs=4,\n",
       "             num_parallel_tree=None, random_state=1, ...)"
      ]
     },
     "execution_count": 36,
     "metadata": {},
     "output_type": "execute_result"
    }
   ],
   "source": [
    "score_data(X_pca, y)"
   ]
  },
  {
   "cell_type": "code",
   "execution_count": 37,
   "id": "d0729d88",
   "metadata": {
    "execution": {
     "iopub.execute_input": "2024-06-01T00:09:58.126029Z",
     "iopub.status.busy": "2024-06-01T00:09:58.124933Z",
     "iopub.status.idle": "2024-06-01T00:09:58.134268Z",
     "shell.execute_reply": "2024-06-01T00:09:58.132951Z"
    },
    "papermill": {
     "duration": 0.034043,
     "end_time": "2024-06-01T00:09:58.137065",
     "exception": false,
     "start_time": "2024-06-01T00:09:58.103022",
     "status": "completed"
    },
    "tags": []
   },
   "outputs": [
    {
     "name": "stderr",
     "output_type": "stream",
     "text": [
      "/tmp/ipykernel_18/1011094970.py:1: SettingWithCopyWarning: \n",
      "A value is trying to be set on a copy of a slice from a DataFrame.\n",
      "Try using .loc[row_indexer,col_indexer] = value instead\n",
      "\n",
      "See the caveats in the documentation: https://pandas.pydata.org/pandas-docs/stable/user_guide/indexing.html#returning-a-view-versus-a-copy\n",
      "  new_df['pc'] = X_pca[\"PC20\"]\n"
     ]
    }
   ],
   "source": [
    "new_df['pc'] = X_pca[\"PC20\"]"
   ]
  },
  {
   "cell_type": "code",
   "execution_count": 38,
   "id": "d8953a3a",
   "metadata": {
    "execution": {
     "iopub.execute_input": "2024-06-01T00:09:58.180266Z",
     "iopub.status.busy": "2024-06-01T00:09:58.179820Z",
     "iopub.status.idle": "2024-06-01T00:09:58.450001Z",
     "shell.execute_reply": "2024-06-01T00:09:58.448310Z"
    },
    "papermill": {
     "duration": 0.299648,
     "end_time": "2024-06-01T00:09:58.456562",
     "exception": false,
     "start_time": "2024-06-01T00:09:58.156914",
     "status": "completed"
    },
    "tags": []
   },
   "outputs": [
    {
     "name": "stderr",
     "output_type": "stream",
     "text": [
      "/tmp/ipykernel_18/3397487742.py:5: SettingWithCopyWarning: \n",
      "A value is trying to be set on a copy of a slice from a DataFrame.\n",
      "Try using .loc[row_indexer,col_indexer] = value instead\n",
      "\n",
      "See the caveats in the documentation: https://pandas.pydata.org/pandas-docs/stable/user_guide/indexing.html#returning-a-view-versus-a-copy\n",
      "  new_test['pc'] = Z_pca[\"PC20\"]\n"
     ]
    }
   ],
   "source": [
    "Z = test_df.drop(['id'], axis = 1)\n",
    "Z_pca = pca.transform(Z)\n",
    "component_names = [f\"PC{i+1}\" for i in range(Z_pca.shape[1])]\n",
    "Z_pca = pd.DataFrame(Z_pca, columns=component_names)\n",
    "new_test['pc'] = Z_pca[\"PC20\"]"
   ]
  },
  {
   "cell_type": "code",
   "execution_count": 39,
   "id": "a7cc4b3e",
   "metadata": {
    "execution": {
     "iopub.execute_input": "2024-06-01T00:09:58.548395Z",
     "iopub.status.busy": "2024-06-01T00:09:58.547603Z",
     "iopub.status.idle": "2024-06-01T00:09:58.553629Z",
     "shell.execute_reply": "2024-06-01T00:09:58.552133Z"
    },
    "papermill": {
     "duration": 0.057236,
     "end_time": "2024-06-01T00:09:58.556729",
     "exception": false,
     "start_time": "2024-06-01T00:09:58.499493",
     "status": "completed"
    },
    "tags": []
   },
   "outputs": [],
   "source": [
    "# mi_scores = make_mi_scores(X_pca, y)\n",
    "# plt.figure(dpi=100, figsize=(8, 5))\n",
    "# plot_mi_scores(mi_scores)\n"
   ]
  },
  {
   "cell_type": "code",
   "execution_count": 40,
   "id": "9bdca497",
   "metadata": {
    "execution": {
     "iopub.execute_input": "2024-06-01T00:09:58.599248Z",
     "iopub.status.busy": "2024-06-01T00:09:58.598731Z",
     "iopub.status.idle": "2024-06-01T00:09:58.604979Z",
     "shell.execute_reply": "2024-06-01T00:09:58.603592Z"
    },
    "papermill": {
     "duration": 0.031276,
     "end_time": "2024-06-01T00:09:58.608091",
     "exception": false,
     "start_time": "2024-06-01T00:09:58.576815",
     "status": "completed"
    },
    "tags": []
   },
   "outputs": [],
   "source": [
    "# from sklearn.cluster import KMeans\n",
    "# kmeans = KMeans(n_clusters=15, n_init=10, random_state=0)\n",
    "# X_cd = kmeans.fit_transform(new_df)\n",
    "\n",
    "\n",
    "# # Label features and join to dataset\n",
    "# X_cd = pd.DataFrame(X_cd, columns=[f\"Centroid_{i}\" for i in range(X_cd.shape[1])])\n",
    "# X_c = new_df.join(X_cd)\n"
   ]
  },
  {
   "cell_type": "markdown",
   "id": "a1cb7c13",
   "metadata": {
    "papermill": {
     "duration": 0.020284,
     "end_time": "2024-06-01T00:09:58.649348",
     "exception": false,
     "start_time": "2024-06-01T00:09:58.629064",
     "status": "completed"
    },
    "tags": []
   },
   "source": [
    "# XGBoost Grid Search"
   ]
  },
  {
   "cell_type": "code",
   "execution_count": null,
   "id": "0e34947e",
   "metadata": {
    "execution": {
     "iopub.status.busy": "2024-05-27T13:21:47.884757Z",
     "iopub.status.idle": "2024-05-27T13:21:47.885694Z",
     "shell.execute_reply": "2024-05-27T13:21:47.885482Z",
     "shell.execute_reply.started": "2024-05-27T13:21:47.885451Z"
    },
    "papermill": {
     "duration": 0.019553,
     "end_time": "2024-06-01T00:09:58.689210",
     "exception": false,
     "start_time": "2024-06-01T00:09:58.669657",
     "status": "completed"
    },
    "tags": []
   },
   "outputs": [],
   "source": []
  },
  {
   "cell_type": "code",
   "execution_count": 41,
   "id": "d0d979ed",
   "metadata": {
    "execution": {
     "iopub.execute_input": "2024-06-01T00:09:58.731312Z",
     "iopub.status.busy": "2024-06-01T00:09:58.730890Z",
     "iopub.status.idle": "2024-06-01T00:09:58.737312Z",
     "shell.execute_reply": "2024-06-01T00:09:58.735722Z"
    },
    "papermill": {
     "duration": 0.030795,
     "end_time": "2024-06-01T00:09:58.739996",
     "exception": false,
     "start_time": "2024-06-01T00:09:58.709201",
     "status": "completed"
    },
    "tags": []
   },
   "outputs": [],
   "source": [
    "# # Initialize XGBoost regressor\n",
    "# xgb_reg = XGBRegressor(n_jobs=4, random_state=1, early_stopping_rounds = 5, verbosity=2)\n",
    "\n",
    "# # Define hyperparameters grid for Grid Search\n",
    "# param_grid = {\n",
    "#     'alpha': [0, 0.1, 0.5, 1, 2], \n",
    "#     'lambda': [0, 0.1, 0.5, 1, 2],  \n",
    "#     'learning_rate': [0.001, 0.01, 0.1, 0.2],\n",
    "#     'max_depth': [3, 5, 7],\n",
    "#     'n_estimators': [50, 100, 200, 400]\n",
    "# }\n",
    "\n",
    "# # Initialize Grid Search with cross-validation\n",
    "# grid_search = GridSearchCV(estimator=xgb_reg, param_grid=param_grid, cv=3, scoring='r2', verbose = 1)\n",
    "\n",
    "# # Perform Grid Search to find the best hyperparameters\n",
    "# fit_params = {\n",
    "#     'eval_set': [(X_valid, y_valid)],\n",
    "#     'verbose': True\n",
    "# }\n",
    "# grid_search.fit(X_train, y_train, **fit_params)"
   ]
  },
  {
   "cell_type": "code",
   "execution_count": 42,
   "id": "ab7fe687",
   "metadata": {
    "execution": {
     "iopub.execute_input": "2024-06-01T00:09:58.784248Z",
     "iopub.status.busy": "2024-06-01T00:09:58.782646Z",
     "iopub.status.idle": "2024-06-01T00:09:58.789100Z",
     "shell.execute_reply": "2024-06-01T00:09:58.787670Z"
    },
    "papermill": {
     "duration": 0.031675,
     "end_time": "2024-06-01T00:09:58.791999",
     "exception": false,
     "start_time": "2024-06-01T00:09:58.760324",
     "status": "completed"
    },
    "tags": []
   },
   "outputs": [],
   "source": [
    "# # Get the best hyperparameters\n",
    "# best_params = grid_search.best_params_\n",
    "\n",
    "# # Train XGBoost regressor with the best hyperparameters\n",
    "# best_xgb_reg = XGBRegressor(n_jobs=4, random_state=1, early_stopping_rounds = 5, verbosity=2, **best_params)\n",
    "# best_xgb_reg.fit(X_train, y_train, **fit_params)\n",
    "\n",
    "# # Predict on the test set\n",
    "# y_pred = best_xgb_reg.predict(X_valid)\n",
    "\n",
    "# # Calculate R² score on the test set\n",
    "# r2 = r2_score(y_valid, y_pred)\n",
    "# print(\"R² Score:\", r2)"
   ]
  },
  {
   "cell_type": "code",
   "execution_count": 43,
   "id": "1ea2727a",
   "metadata": {
    "execution": {
     "iopub.execute_input": "2024-06-01T00:09:58.834633Z",
     "iopub.status.busy": "2024-06-01T00:09:58.834235Z",
     "iopub.status.idle": "2024-06-01T00:09:58.840152Z",
     "shell.execute_reply": "2024-06-01T00:09:58.838821Z"
    },
    "papermill": {
     "duration": 0.030264,
     "end_time": "2024-06-01T00:09:58.842843",
     "exception": false,
     "start_time": "2024-06-01T00:09:58.812579",
     "status": "completed"
    },
    "tags": []
   },
   "outputs": [],
   "source": [
    "# # best grid search param\n",
    "\n",
    "# # Get the best estimator and evaluate on the validation set\n",
    "# best_grid_reg = grid_search.best_estimator_\n",
    "# y_pred_2 = best_grid_reg.predict(X_valid)\n",
    "\n",
    "# # Calculate R² score\n",
    "# from sklearn.metrics import r2_score\n",
    "# r2 = r2_score(y_valid, y_pred_2)\n",
    "# print(\"R² Score on Validation Set:\", r2)\n"
   ]
  },
  {
   "cell_type": "markdown",
   "id": "2d04b3ab",
   "metadata": {
    "papermill": {
     "duration": 0.019994,
     "end_time": "2024-06-01T00:09:58.882663",
     "exception": false,
     "start_time": "2024-06-01T00:09:58.862669",
     "status": "completed"
    },
    "tags": []
   },
   "source": [
    "# Submission"
   ]
  },
  {
   "cell_type": "code",
   "execution_count": 44,
   "id": "279312c4",
   "metadata": {
    "execution": {
     "iopub.execute_input": "2024-06-01T00:09:58.926371Z",
     "iopub.status.busy": "2024-06-01T00:09:58.925957Z",
     "iopub.status.idle": "2024-06-01T00:10:43.891517Z",
     "shell.execute_reply": "2024-06-01T00:10:43.890442Z"
    },
    "papermill": {
     "duration": 44.992056,
     "end_time": "2024-06-01T00:10:43.894770",
     "exception": false,
     "start_time": "2024-06-01T00:09:58.902714",
     "status": "completed"
    },
    "tags": []
   },
   "outputs": [],
   "source": [
    "#Sample model\n",
    "model=XGBRegressor(n_jobs=4, verbosity=2, random_state=1, n_estimators=1000)\n",
    "model.fit(new_df, y, verbose = False)\n",
    "y_pred = model.predict(new_test)"
   ]
  },
  {
   "cell_type": "code",
   "execution_count": 45,
   "id": "006839f4",
   "metadata": {
    "execution": {
     "iopub.execute_input": "2024-06-01T00:10:43.940015Z",
     "iopub.status.busy": "2024-06-01T00:10:43.939114Z",
     "iopub.status.idle": "2024-06-01T00:10:44.216118Z",
     "shell.execute_reply": "2024-06-01T00:10:44.214800Z"
    },
    "papermill": {
     "duration": 0.30206,
     "end_time": "2024-06-01T00:10:44.219092",
     "exception": false,
     "start_time": "2024-06-01T00:10:43.917032",
     "status": "completed"
    },
    "tags": []
   },
   "outputs": [],
   "source": [
    "sub = pd.read_csv('/kaggle/input/playground-series-s4e5/sample_submission.csv')"
   ]
  },
  {
   "cell_type": "code",
   "execution_count": 46,
   "id": "0734b8e5",
   "metadata": {
    "execution": {
     "iopub.execute_input": "2024-06-01T00:10:44.261039Z",
     "iopub.status.busy": "2024-06-01T00:10:44.260474Z",
     "iopub.status.idle": "2024-06-01T00:10:44.267168Z",
     "shell.execute_reply": "2024-06-01T00:10:44.265906Z"
    },
    "papermill": {
     "duration": 0.030695,
     "end_time": "2024-06-01T00:10:44.269701",
     "exception": false,
     "start_time": "2024-06-01T00:10:44.239006",
     "status": "completed"
    },
    "tags": []
   },
   "outputs": [],
   "source": [
    "sub['FloodProbability'] = y_pred"
   ]
  },
  {
   "cell_type": "code",
   "execution_count": 47,
   "id": "7bae4dcd",
   "metadata": {
    "execution": {
     "iopub.execute_input": "2024-06-01T00:10:44.313466Z",
     "iopub.status.busy": "2024-06-01T00:10:44.313035Z",
     "iopub.status.idle": "2024-06-01T00:10:46.172828Z",
     "shell.execute_reply": "2024-06-01T00:10:46.171508Z"
    },
    "papermill": {
     "duration": 1.884169,
     "end_time": "2024-06-01T00:10:46.175699",
     "exception": false,
     "start_time": "2024-06-01T00:10:44.291530",
     "status": "completed"
    },
    "tags": []
   },
   "outputs": [],
   "source": [
    "sub.to_csv(\"submission.csv\", index=False)"
   ]
  },
  {
   "cell_type": "code",
   "execution_count": null,
   "id": "f047e47f",
   "metadata": {
    "papermill": {
     "duration": 0.019591,
     "end_time": "2024-06-01T00:10:46.215172",
     "exception": false,
     "start_time": "2024-06-01T00:10:46.195581",
     "status": "completed"
    },
    "tags": []
   },
   "outputs": [],
   "source": []
  }
 ],
 "metadata": {
  "kaggle": {
   "accelerator": "none",
   "dataSources": [
    {
     "databundleVersionId": 8121328,
     "sourceId": 73278,
     "sourceType": "competition"
    }
   ],
   "dockerImageVersionId": 30698,
   "isGpuEnabled": false,
   "isInternetEnabled": true,
   "language": "python",
   "sourceType": "notebook"
  },
  "kernelspec": {
   "display_name": "Python 3",
   "language": "python",
   "name": "python3"
  },
  "language_info": {
   "codemirror_mode": {
    "name": "ipython",
    "version": 3
   },
   "file_extension": ".py",
   "mimetype": "text/x-python",
   "name": "python",
   "nbconvert_exporter": "python",
   "pygments_lexer": "ipython3",
   "version": "3.10.13"
  },
  "papermill": {
   "default_parameters": {},
   "duration": 400.535162,
   "end_time": "2024-06-01T00:10:47.059702",
   "environment_variables": {},
   "exception": null,
   "input_path": "__notebook__.ipynb",
   "output_path": "__notebook__.ipynb",
   "parameters": {},
   "start_time": "2024-06-01T00:04:06.524540",
   "version": "2.5.0"
  }
 },
 "nbformat": 4,
 "nbformat_minor": 5
}
